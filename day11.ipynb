{
 "cells": [
  {
   "cell_type": "code",
   "execution_count": 8,
   "id": "fce73bc6-f0dd-4c1a-86c9-d4e0d968ac93",
   "metadata": {},
   "outputs": [
    {
     "data": {
      "text/plain": [
       "113526"
      ]
     },
     "execution_count": 8,
     "metadata": {},
     "output_type": "execute_result"
    }
   ],
   "source": [
    "import math\n",
    "math.comb(477,2)"
   ]
  },
  {
   "cell_type": "code",
   "execution_count": 4,
   "id": "15be397a-270b-435d-8f00-187ba3c4b9d8",
   "metadata": {},
   "outputs": [
    {
     "data": {
      "text/plain": [
       "10173804"
      ]
     },
     "execution_count": 4,
     "metadata": {},
     "output_type": "execute_result"
    }
   ],
   "source": [
    "r=\"\"\"...#......\n",
    ".......#..\n",
    "#.........\n",
    "..........\n",
    "......#...\n",
    ".#........\n",
    ".........#\n",
    "..........\n",
    ".......#..\n",
    "#...#.....\"\"\".split('\\n')\n",
    "r=open('day11_inp.txt','r').read().split('\\n')\n",
    "from itertools import combinations\n",
    "\n",
    "def get_coord(r):\n",
    "    a=[]\n",
    "    for row in range(len(r)):\n",
    "        for col in range(len(r[0])):\n",
    "            if r[row][col]=='#':\n",
    "                a.append((col,row))\n",
    "    return a\n",
    "    \n",
    "def mh(point1, point2):\n",
    "    return abs(point1[0] - point2[0]) + abs(point1[1] - point2[1])\n",
    "\n",
    "\n",
    "grid = [line.strip() for line in r]\n",
    "dubbel_i = {i for i, line in enumerate(grid) if \"#\" not in line}\n",
    "dubbel_j = {j for j in range(len(grid[0])) if \"#\" not in [line[j] for line in grid]}\n",
    "\n",
    "\n",
    "def myrange(a,b):\n",
    "    if a>b:\n",
    "        return range(b,a)\n",
    "    else:\n",
    "        return range(a,b)\n",
    "        \n",
    "pts=get_coord(r)\n",
    "tot=0\n",
    "n=0\n",
    "for i,j in combinations(pts,2):\n",
    "    d=mh(i,j)\n",
    "    n+=1\n",
    "    extra1=len(dubbel_j&set(myrange(i[0],j[0])))\n",
    "    extra2=len(dubbel_i&set(myrange(i[1],j[1])))\n",
    "    d=d+extra1+extra2\n",
    "    #print(d)\n",
    "    tot+=d\n",
    "    #print(i,j,d)\n",
    "    \n",
    "tot\n",
    "        "
   ]
  },
  {
   "cell_type": "code",
   "execution_count": 5,
   "id": "0fadc609-cd2c-447a-9d6f-ff729635c310",
   "metadata": {},
   "outputs": [
    {
     "data": {
      "text/plain": [
       "634324905172"
      ]
     },
     "execution_count": 5,
     "metadata": {},
     "output_type": "execute_result"
    }
   ],
   "source": [
    "r=\"\"\"...#......\n",
    ".......#..\n",
    "#.........\n",
    "..........\n",
    "......#...\n",
    ".#........\n",
    ".........#\n",
    "..........\n",
    ".......#..\n",
    "#...#.....\"\"\".split('\\n')\n",
    "r=open('day11_inp.txt','r').read().split('\\n')\n",
    "from itertools import combinations\n",
    "\n",
    "def get_coord(r):\n",
    "    a=[]\n",
    "    for row in range(len(r)):\n",
    "        for col in range(len(r[0])):\n",
    "            if r[row][col]=='#':\n",
    "                a.append((col,row))\n",
    "    return a\n",
    "    \n",
    "def mh(point1, point2):\n",
    "    return abs(point1[0] - point2[0]) + abs(point1[1] - point2[1])\n",
    "\n",
    "#pts=getcoord(r)\n",
    "#pts\n",
    "\n",
    "\n",
    "\n",
    "grid = [line.strip() for line in r]\n",
    "dubbel_i = {i for i, line in enumerate(grid) if \"#\" not in line}\n",
    "dubbel_j = {j for j in range(len(grid[0])) if \"#\" not in [line[j] for line in grid]}\n",
    "\n",
    "\n",
    "def myrange(a,b):\n",
    "    if a>b:\n",
    "        return range(b,a)\n",
    "    else:\n",
    "        return range(a,b)\n",
    "pts=get_coord(r)\n",
    "tot=0\n",
    "n=0\n",
    "for i,j in combinations(pts,2):\n",
    "    d=mh(i,j)\n",
    "    n+=1\n",
    "    extra1=len(dubbel_j&set(myrange(i[0],j[0])))*999999\n",
    "    extra2=len(dubbel_i&set(myrange(i[1],j[1])))*999999\n",
    "    d=d+extra1+extra2\n",
    "    #print(d)\n",
    "    tot+=d\n",
    "    #print(i,j,d)\n",
    "    \n",
    "tot"
   ]
  }
 ],
 "metadata": {
  "kernelspec": {
   "display_name": "Python 3 (ipykernel)",
   "language": "python",
   "name": "python3"
  },
  "language_info": {
   "codemirror_mode": {
    "name": "ipython",
    "version": 3
   },
   "file_extension": ".py",
   "mimetype": "text/x-python",
   "name": "python",
   "nbconvert_exporter": "python",
   "pygments_lexer": "ipython3",
   "version": "3.11.6"
  }
 },
 "nbformat": 4,
 "nbformat_minor": 5
}
