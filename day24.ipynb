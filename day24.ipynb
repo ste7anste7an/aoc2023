{
 "cells": [
  {
   "cell_type": "code",
   "execution_count": 70,
   "id": "1a412d70-e286-4baf-8305-35092b03a0c3",
   "metadata": {},
   "outputs": [
    {
     "name": "stdout",
     "output_type": "stream",
     "text": [
      "24192\n"
     ]
    }
   ],
   "source": [
    "from copy import deepcopy\n",
    "from aocd import get_data\n",
    "from collections import deque\n",
    "from itertools import permutations\n",
    "import math\n",
    "import re\n",
    "\n",
    "r=\"\"\"19, 13, 30 @ -2,  1, -2\n",
    "18, 19, 22 @ -1, -1, -2\n",
    "20, 25, 34 @ -2, -2, -4\n",
    "12, 31, 28 @ -1, -2, -1\n",
    "20, 19, 15 @  1, -5, -3\"\"\"\n",
    "\n",
    "low,high=7,27\n",
    "low,high=200000000000000,400000000000000\n",
    "r=get_data(day=24, year=2023)\n",
    "inp=r.split('\\n')\n",
    "\n",
    "pos=[]\n",
    "vel=[]\n",
    "N=len(inp)\n",
    "for i in range(N):\n",
    "    p,v=inp[i].split(' @ ')\n",
    "    pos.append([int(j) for j in p.split(', ')])\n",
    "    vel.append([int(j) for j in v.split(', ')])\n",
    "\n",
    "def inter(x0,x1,v0,v1):\n",
    "    if (v1-v0)!=0:\n",
    "        return (x0-x1)/(v1-v0)\n",
    "    else:\n",
    "        return None\n",
    "        \n",
    "def solve(x0,x1,y0,y1,vx0,vx1,vy0,vy1):\n",
    "    try:\n",
    "        t0 = (vy1*x0 - vy1*x1 - vx1*(y0 - y1))/(vx1*vy0 - vx0*vy1)\n",
    "        t1 = (vy0*x0 - vy0*x1 - vx0*(y0 - y1))/(vx1*vy0 - vx0*vy1)\n",
    "        x=x0+t0*vx0\n",
    "        y=y0+t0*vy0\n",
    "        #print(t0)\n",
    "        if t0>=0 and t1>=0:\n",
    "            return (x,y)\n",
    "        else:\n",
    "            return (None,None)\n",
    "    except:\n",
    "        return None,None\n",
    "    \n",
    "def calcpos(p,v,t):\n",
    "    return p+v*t\n",
    "\n",
    "cnt=0\n",
    "for i1 in range(N):\n",
    "    for i2 in range(i1+1,N):\n",
    "        x0,y0,x1,y1=pos[i1][0],pos[i1][1],pos[i2][0],pos[i2][1]\n",
    "        vx0,vy0,vx1,vy1=vel[i1][0],vel[i1][1],vel[i2][0],vel[i2][1]\n",
    "        # if vx0*vy1==vx1*vy1:\n",
    "        #     continue\n",
    "        #print(x0,y0,vx0,vy0)\n",
    "        #print(x1,y1,vx1,vy1)\n",
    "        x,y=solve(x0,x1,y0,y1,vx0,vx1,vy0,vy1)\n",
    "        \n",
    "        if x != None:\n",
    "            #print(i1,i2,x,y)\n",
    "            if low<=x<=high and low<=y<=high:\n",
    "                #print('inside')\n",
    "                cnt+=1\n",
    "            # else:\n",
    "            #     print('outside')\n",
    "                \n",
    "print(cnt)\n",
    "               \n",
    "        "
   ]
  },
  {
   "cell_type": "markdown",
   "id": "574a8c11-f29b-457a-9478-281774a34667",
   "metadata": {},
   "source": [
    "$$\n",
    "x_p+v_{x,p} t = x + v_x*t \n",
    "$$\n",
    "$$\n",
    "y_p+v_{y,p} t = x + v_y*t \n",
    "$$\n",
    "$$y_p+v_{z,p} t = x + v_z*t $$"
   ]
  },
  {
   "cell_type": "markdown",
   "id": "2224ae62-482e-47bf-8355-627cdebddd35",
   "metadata": {},
   "source": [
    "$$\n",
    "t = \\frac{x_p-x}{v_x-v_{x,p}} = \\frac{y_p-y}{v_y-v_{y,p}} = \\frac{z_p-z}{v_zx-v_{x,p}}\n",
    "$$\n"
   ]
  },
  {
   "cell_type": "markdown",
   "id": "80f3fb38-8e0e-4295-8e3f-f4efb8c5e759",
   "metadata": {},
   "source": [
    "Solve $$x,y,z$$ and $$v_x,v_y,v_z$$ for\n",
    "$$\n",
    "(x_p-x)(v_{y}-v_{y,p}) = (v_x-v_{x,p})(y_p-y)\n",
    "$$\n",
    "$$\n",
    "(y_p-y)(v_{z}-v_{z,p}) = (v_y-v_{y,p})(z_p-z)\n",
    "$$"
   ]
  },
  {
   "cell_type": "code",
   "execution_count": 100,
   "id": "b1ab5e5a-f091-4d5e-a799-7d5671731149",
   "metadata": {},
   "outputs": [
    {
     "name": "stdout",
     "output_type": "stream",
     "text": [
      "[{vx: 139, vy: -93, vz: 245, x: 191146615936494, y: 342596108503183, z: 131079628110881}]\n",
      "664822352550558\n"
     ]
    }
   ],
   "source": [
    "from copy import deepcopy\n",
    "from aocd import get_data\n",
    "from collections import deque\n",
    "from itertools import permutations\n",
    "import math\n",
    "import re\n",
    "import sympy\n",
    "\n",
    "r=\"\"\"19, 13, 30 @ -2,  1, -2\n",
    "18, 19, 22 @ -1, -1, -2\n",
    "20, 25, 34 @ -2, -2, -4\n",
    "12, 31, 28 @ -1, -2, -1\n",
    "20, 19, 15 @  1, -5, -3\"\"\"\n",
    "\n",
    "r=get_data(day=24, year=2023)\n",
    "inp=r.split('\\n')\n",
    "\n",
    "pos=[]\n",
    "vel=[]\n",
    "N=len(inp)\n",
    "for i in range(N):\n",
    "    p,v=inp[i].split(' @ ')\n",
    "    pos.append([int(j) for j in p.split(', ')])\n",
    "    vel.append([int(j) for j in v.split(', ')])\n",
    "  \n",
    "x,y,z,vx,vy,vz = sympy.symbols('x, y, z, vx, vy, vz')\n",
    "eq=[]\n",
    "\n",
    "for i in range(10):\n",
    "    xp,yp,zp=pos[i]\n",
    "    vxp,vyp,vzp=vel[i]\n",
    "    eq.append((xp-x)*(vy-vyp) - (vx-vxp)*(yp-y))\n",
    "    eq.append((yp-y)*(vz-vzp) - (vy-vyp)*(zp-z))\n",
    "    \n",
    "ans=sympy.solve(eq)    \n",
    "print(ans)\n",
    "q=ans[0][x]+ans[0][y]+ans[0][z]\n",
    "print(q)             "
   ]
  },
  {
   "cell_type": "code",
   "execution_count": 46,
   "id": "a5f00f8b-6963-4f56-a1f1-4a20f8f2247b",
   "metadata": {},
   "outputs": [
    {
     "data": {
      "text/plain": [
       "(14.333333333333332, 15.333333333333334)"
      ]
     },
     "execution_count": 46,
     "metadata": {},
     "output_type": "execute_result"
    }
   ],
   "source": [
    "i1=0\n",
    "i2=1\n",
    "x0,y0,x1,y1=pos[i1][0],pos[i1][1],pos[i2][0],pos[i2][1]\n",
    "vx0,vy0,vx1,vy1=vel[i1][0],vel[i1][1],vel[i2][0],vel[i2][1]\n",
    "solve(x0,x1,y0,y1,vx0,vx1,vy0,vy1)"
   ]
  },
  {
   "cell_type": "code",
   "execution_count": 40,
   "id": "63cd357c-d88c-4431-ba1b-c699dc65b689",
   "metadata": {},
   "outputs": [
    {
     "data": {
      "text/plain": [
       "[<matplotlib.lines.Line2D at 0x7f84b49a1250>,\n",
       " <matplotlib.lines.Line2D at 0x7f848ed245d0>]"
      ]
     },
     "execution_count": 40,
     "metadata": {},
     "output_type": "execute_result"
    },
    {
     "data": {
      "image/png": "[encoded data removed]",
      "text/plain": [
       "<Figure size 640x480 with 1 Axes>"
      ]
     },
     "metadata": {},
     "output_type": "display_data"
    }
   ],
   "source": [
    "from matplotlib import pyplot as plt\n",
    "\n",
    "xx0=[x0+vx0*t/100 for t in range(-800,500)]\n",
    "yy0=[y0+vy0*t/100 for t in range(-800,500)]\n",
    "xx1=[x1+vx1*t/100 for t in range(-800,500)]\n",
    "yy1=[y1+vy1*t/100 for t in range(-800,500)]\n",
    "plt.plot(xx0,yy0,xx1,yy1)\n",
    "\n"
   ]
  },
  {
   "cell_type": "markdown",
   "id": "8e5156f3-d49d-4f91-afac-25ed4709fa3c",
   "metadata": {},
   "source": [
    "$$\n",
    "f(x) = \\int_{-\\infty}^{\\infty} e^{-x^2} dx\n",
    "$$"
   ]
  },
  {
   "cell_type": "code",
   "execution_count": null,
   "id": "275cfd07-62a9-4b6b-b1cc-e38cdec570ec",
   "metadata": {},
   "outputs": [],
   "source": []
  }
 ],
 "metadata": {
  "kernelspec": {
   "display_name": "Python 3 (ipykernel)",
   "language": "python",
   "name": "python3"
  },
  "language_info": {
   "codemirror_mode": {
    "name": "ipython",
    "version": 3
   },
   "file_extension": ".py",
   "mimetype": "text/x-python",
   "name": "python",
   "nbconvert_exporter": "python",
   "pygments_lexer": "ipython3",
   "version": "3.11.6"
  }
 },
 "nbformat": 4,
 "nbformat_minor": 5
}
