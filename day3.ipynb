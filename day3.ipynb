{
 "cells": [
  {
   "cell_type": "code",
   "execution_count": 25,
   "id": "470a472c-7272-4de4-8127-b16bb4b9e1d9",
   "metadata": {},
   "outputs": [
    {
     "name": "stdout",
     "output_type": "stream",
     "text": [
      "520135\n"
     ]
    }
   ],
   "source": [
    "r=\"\"\"467..114..\n",
    "...*......\n",
    "..35..633.\n",
    "......#...\n",
    "617*......\n",
    ".....+.58.\n",
    "..592.....\n",
    "......755.\n",
    "...$.*....\n",
    ".664.598..\"\"\"\n",
    "\n",
    "r=open('day3_inp1.txt','r').read()\n",
    "\n",
    "r=r.split('\\n')\n",
    "\n",
    "w=len(r[0])\n",
    "h=len(r)\n",
    "\n",
    "\n",
    "\n",
    "def search_sym(r,x,y,l):\n",
    "    #print(x,y,l)\n",
    "    sym=0\n",
    "    for yy in range(y-1,y+2):\n",
    "        for xx in range(x-l-1,x+1):\n",
    "            if xx>=0 and xx<w and yy>=0 and yy<h:\n",
    "                if not r[yy][xx].isnumeric() and r[yy][xx]!=\".\":\n",
    "                    # print(r[yy][xx])\n",
    "                    sym+=1\n",
    "    return sym>0\n",
    "        \n",
    "\n",
    "tot=0\n",
    "y=0\n",
    "while y<h:\n",
    "    x=0\n",
    "    while x<w:\n",
    "        while not r[y][x].isnumeric() and x<w:\n",
    "            x+=1\n",
    "            if x==w:\n",
    "                break\n",
    "        num=\"\"\n",
    "        if x<w:\n",
    "            while  r[y][x].isnumeric() :\n",
    "                num+=r[y][x]\n",
    "                x+=1\n",
    "                if x==w:\n",
    "                    break\n",
    "        if len(num)!=0:\n",
    "            #print(num)\n",
    "            if search_sym(r,x,y,len(num)):\n",
    "                 tot+=int(num)\n",
    "            # else:\n",
    "            #     print(num)\n",
    "    y+=1       \n",
    "print(tot)            \n",
    "\n",
    "        "
   ]
  },
  {
   "cell_type": "code",
   "execution_count": 78,
   "id": "30dfa1fc-5f6a-4e30-baf9-fa01c6d93ccd",
   "metadata": {},
   "outputs": [
    {
     "name": "stdout",
     "output_type": "stream",
     "text": [
      "520135\n",
      "72514855\n"
     ]
    }
   ],
   "source": [
    "r=\"\"\"467..114..\n",
    "...*......\n",
    "..35..633.\n",
    "......#...\n",
    "617*......\n",
    ".....+.58.\n",
    "..592.....\n",
    "......755.\n",
    "...$.*....\n",
    ".664.598..\"\"\"\n",
    "\n",
    "r=open('day3_inp1.txt','r').read()\n",
    "\n",
    "r=r.split('\\n')\n",
    "\n",
    "w=len(r[0])\n",
    "h=len(r)\n",
    "gears=set()\n",
    "\n",
    "def search_sym(r,x,y,l):\n",
    "    global symbols\n",
    "    #print(x,y,l)\n",
    "    sym=0\n",
    "    for yy in range(y-1,y+2):\n",
    "        for xx in range(x-l-1,x+1):\n",
    "            if xx>=0 and xx<w and yy>=0 and yy<h:\n",
    "                if not r[yy][xx].isnumeric() and r[yy][xx]!=\".\":\n",
    "                    symbol=r[yy][xx]\n",
    "                    if symbol=='*':\n",
    "                        gears.add(xx+yy*w)\n",
    "                    sym+=1\n",
    "    return sym>0\n",
    "        \n",
    "\n",
    "tot=0\n",
    "y=0\n",
    "numbers=[]\n",
    "while y<h:\n",
    "    x=0\n",
    "    while x<w:\n",
    "        while not r[y][x].isnumeric() and x<w:\n",
    "            x+=1\n",
    "            if x==w:\n",
    "                break\n",
    "        num=\"\"\n",
    "        if x<w:\n",
    "            while  r[y][x].isnumeric() :\n",
    "                num+=r[y][x]\n",
    "                x+=1\n",
    "                if x==w:\n",
    "                    break\n",
    "        if len(num)!=0:\n",
    "            #print(num)\n",
    "            numbers.append([int(num),len(num),x-len(num),y])\n",
    "            if search_sym(r,x,y,len(num)):\n",
    "                 tot+=int(num)\n",
    "            # else:\n",
    "            #     print(num)\n",
    "    y+=1       \n",
    "print(tot)            \n",
    "\n",
    "def isgear(xg,yg,xn,yn,ln):\n",
    "    #print(xg,yg,xn,yn,ln)\n",
    "    #print(\"xg>=(xn-1) \",xg>=(xn-1) ,\"xg<=(xn+ln)\", xg<=(xn+ln),\"yg>=(yn-1)\",yg>=(yn-1) ,\"yg<=(yn+1)\",yg<=(yn+1))\n",
    "    return (xg>=(xn-1) and xg<=(xn+ln) and yg>=(yn-1) and yg<=(yn+1))\n",
    "\n",
    "tot=0\n",
    "for g in gears:\n",
    "    xg=g%w\n",
    "    yg=g//w\n",
    "    #print(xg,yg)\n",
    "    nn=0\n",
    "    ratio=1\n",
    "    for num in numbers:\n",
    "        #print(\"\\n\",xg,yg,num)\n",
    "        if isgear(xg,yg,num[2],num[3],num[1]):\n",
    "            ratio*=num[0]\n",
    "            nn+=1\n",
    "    if nn==2:\n",
    "        #print(\"*\",xg,yg,ratio)\n",
    "        tot+=ratio\n",
    "print(tot)"
   ]
  },
  {
   "cell_type": "code",
   "execution_count": 79,
   "id": "f6a4fb85-7045-4a85-9918-7798d590ac08",
   "metadata": {},
   "outputs": [
    {
     "name": "stdout",
     "output_type": "stream",
     "text": [
      "3 2 467\n",
      "3 2 35\n",
      "6 4 633\n",
      "3 5 617\n",
      "5 6 592\n",
      "5 9 755\n",
      "3 9 664\n",
      "5 9 598\n"
     ]
    }
   ],
   "source": [
    "import re\n",
    "from collections import defaultdict\n",
    "from math import prod\n",
    "\n",
    "SAMPLE_INPUT = \"\"\"\n",
    "467..114..\n",
    "...*......\n",
    "..35..633.\n",
    "......#...\n",
    "617*......\n",
    ".....+.58.\n",
    "..592.....\n",
    "......755.\n",
    "...$.*....\n",
    ".664.598..\n",
    "\"\"\"\n",
    "\n",
    "NUMBER_RE = re.compile(r\"\\d+\")\n",
    "SYMBOL_RE = re.compile(r\"[^\\s\\d.]\")\n",
    "\n",
    "\n",
    "def _parse(data):\n",
    "    lines = data.splitlines()\n",
    "    for y, line in enumerate(lines):\n",
    "        for match in NUMBER_RE.finditer(line):\n",
    "            number = int(match.group(0))\n",
    "            x0, x1 = match.span()\n",
    "            for yy in range(max(y - 1, 0), min(y + 2, len(lines))):\n",
    "                for match in SYMBOL_RE.finditer(lines[yy], x0 - 1, x1 + 1):\n",
    "                    yield match.start(), yy, number\n",
    "\n",
    "data=SAMPLE_INPUT\n",
    "for x, y, number in _parse(data):\n",
    "    print(x,y,number)\n"
   ]
  },
  {
   "cell_type": "code",
   "execution_count": 50,
   "id": "3d96213f-73d4-423f-af81-feefaf7fe36b",
   "metadata": {},
   "outputs": [
    {
     "data": {
      "text/plain": [
       "{13, 43, 85}"
      ]
     },
     "execution_count": 50,
     "metadata": {},
     "output_type": "execute_result"
    }
   ],
   "source": [
    "gears"
   ]
  },
  {
   "cell_type": "code",
   "execution_count": 39,
   "id": "d1b87c2c-f33f-4165-aed3-f539c19e163c",
   "metadata": {},
   "outputs": [],
   "source": [
    "a=set()"
   ]
  },
  {
   "cell_type": "code",
   "execution_count": 43,
   "id": "30ae059f-d8c1-4732-a766-bb6747056775",
   "metadata": {},
   "outputs": [],
   "source": [
    "a.add(1)"
   ]
  },
  {
   "cell_type": "code",
   "execution_count": 44,
   "id": "760baa41-b0e4-4f59-b216-605859898940",
   "metadata": {},
   "outputs": [
    {
     "data": {
      "text/plain": [
       "{1}"
      ]
     },
     "execution_count": 44,
     "metadata": {},
     "output_type": "execute_result"
    }
   ],
   "source": [
    "a"
   ]
  },
  {
   "cell_type": "code",
   "execution_count": null,
   "id": "e371d5e7-1884-4ee4-b1c3-9b1d89315dd4",
   "metadata": {},
   "outputs": [],
   "source": []
  }
 ],
 "metadata": {
  "kernelspec": {
   "display_name": "Python 3 (ipykernel)",
   "language": "python",
   "name": "python3"
  },
  "language_info": {
   "codemirror_mode": {
    "name": "ipython",
    "version": 3
   },
   "file_extension": ".py",
   "mimetype": "text/x-python",
   "name": "python",
   "nbconvert_exporter": "python",
   "pygments_lexer": "ipython3",
   "version": "3.11.6"
  }
 },
 "nbformat": 4,
 "nbformat_minor": 5
}
