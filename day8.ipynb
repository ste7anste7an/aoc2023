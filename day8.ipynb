{
 "cells": [
  {
   "cell_type": "code",
   "execution_count": 21,
   "id": "a8597480-b857-4572-be24-61fa3c46dbbe",
   "metadata": {},
   "outputs": [
    {
     "name": "stdout",
     "output_type": "stream",
     "text": [
      "13301\n"
     ]
    }
   ],
   "source": [
    "r=\"\"\"RL\n",
    "\n",
    "AAA = (BBB, CCC)\n",
    "BBB = (DDD, EEE)\n",
    "CCC = (ZZZ, GGG)\n",
    "DDD = (DDD, DDD)\n",
    "EEE = (EEE, EEE)\n",
    "GGG = (GGG, GGG)\n",
    "ZZZ = (ZZZ, ZZZ)\"\"\"\n",
    "r=\"\"\"LLR\n",
    "\n",
    "AAA = (BBB, BBB)\n",
    "BBB = (AAA, ZZZ)\n",
    "ZZZ = (ZZZ, ZZZ)\"\"\"\n",
    "r=open('day8_inp.txt').read()\n",
    "r=r.split('\\n')\n",
    "route=r[0]\n",
    "map={}\n",
    "for line in r[2:]:\n",
    "    node,lr=line.split('=')\n",
    "    l,r=lr[2:-1].split(', ')\n",
    "    map[node.strip()]={'L':l,'R':r}\n",
    "lroute=len(route)\n",
    "p=0\n",
    "cur='AAA'\n",
    "step=0\n",
    "while True:\n",
    "    lr=route[p]\n",
    "    p+=1\n",
    "    p%=lroute\n",
    "    cur=map[cur][lr]\n",
    "    step+=1\n",
    "    if cur==\"ZZZ\":\n",
    "        break\n",
    "print(step)"
   ]
  },
  {
   "cell_type": "code",
   "execution_count": 53,
   "id": "ee44cc84-4607-4756-8af3-f5bd919927de",
   "metadata": {},
   "outputs": [
    {
     "name": "stdout",
     "output_type": "stream",
     "text": [
      "7309459565207\n"
     ]
    }
   ],
   "source": [
    "r=\"\"\"LR\n",
    "\n",
    "11A = (11B, XXX)\n",
    "11B = (XXX, 11Z)\n",
    "11Z = (11B, XXX)\n",
    "22A = (22B, XXX)\n",
    "22B = (22C, 22C)\n",
    "22C = (22Z, 22Z)\n",
    "22Z = (22B, 22B)\n",
    "XXX = (XXX, XXX)\"\"\"\n",
    "\n",
    "r=open('day8_inp.txt').read()\n",
    "r=r.split('\\n')\n",
    "import math\n",
    "\n",
    "route=r[0]\n",
    "map={}\n",
    "for line in r[2:]:\n",
    "    node,lr=line.split('=')\n",
    "    l,r=lr[2:-1].split(', ')\n",
    "    map[node.strip()]={'L':l,'R':r}\n",
    "lroute=len(route)\n",
    "starts=[]\n",
    "for m in map:\n",
    "    if m[-1]=='A':\n",
    "        starts.append(m)\n",
    "steps=[]\n",
    "for start in starts:\n",
    "    step=0\n",
    "    p=0\n",
    "    cur=start\n",
    "    while True:\n",
    "        lr=route[p]\n",
    "        p+=1\n",
    "        p%=lroute\n",
    "        cur=map[cur][lr]\n",
    "        step+=1\n",
    "        if cur[-1]==\"Z\":\n",
    "            steps.append(step)\n",
    "            break\n",
    "\n",
    "print(math.lcm(*steps))"
   ]
  },
  {
   "cell_type": "code",
   "execution_count": 51,
   "id": "bc7aade5-3570-432f-a72b-a23fc6adaba6",
   "metadata": {},
   "outputs": [
    {
     "data": {
      "text/plain": [
       "7309459565207"
      ]
     },
     "execution_count": 51,
     "metadata": {},
     "output_type": "execute_result"
    }
   ],
   "source": [
    "math.lcm(*steps)"
   ]
  },
  {
   "cell_type": "code",
   "execution_count": 55,
   "id": "fbd1a551-5243-4acf-bba6-5b790eaa5db1",
   "metadata": {
    "scrolled": true
   },
   "outputs": [
    {
     "data": {
      "text/plain": [
       "[18961, 12169, 17263, 13301, 14999, 16697]"
      ]
     },
     "execution_count": 55,
     "metadata": {},
     "output_type": "execute_result"
    }
   ],
   "source": [
    "steps"
   ]
  },
  {
   "cell_type": "code",
   "execution_count": 56,
   "id": "216572ee-5fc4-40f7-b4d6-434e4433135a",
   "metadata": {},
   "outputs": [
    {
     "data": {
      "text/plain": [
       "['BGA', 'SLA', 'PTA', 'AAA', 'XJA', 'JNA']"
      ]
     },
     "execution_count": 56,
     "metadata": {},
     "output_type": "execute_result"
    }
   ],
   "source": [
    "starts"
   ]
  },
  {
   "cell_type": "code",
   "execution_count": null,
   "id": "2aa62b56-d03c-43fc-8b03-c2555de56918",
   "metadata": {},
   "outputs": [],
   "source": []
  }
 ],
 "metadata": {
  "kernelspec": {
   "display_name": "Python 3 (ipykernel)",
   "language": "python",
   "name": "python3"
  },
  "language_info": {
   "codemirror_mode": {
    "name": "ipython",
    "version": 3
   },
   "file_extension": ".py",
   "mimetype": "text/x-python",
   "name": "python",
   "nbconvert_exporter": "python",
   "pygments_lexer": "ipython3",
   "version": "3.11.6"
  }
 },
 "nbformat": 4,
 "nbformat_minor": 5
}
