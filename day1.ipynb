{
 "cells": [
  {
   "cell_type": "code",
   "execution_count": 1,
   "id": "c911a8a4-4258-4f41-a071-95c0b424e838",
   "metadata": {},
   "outputs": [
    {
     "name": "stdout",
     "output_type": "stream",
     "text": [
      "220\n"
     ]
    }
   ],
   "source": [
    "r=\"\"\"two1nine\n",
    "eightwothree\n",
    "abcone2threexyz\n",
    "xtwone3four\n",
    "4nineeightseven2\n",
    "zoneight234\n",
    "7pqrstsixteen\"\"\"\n",
    "\n",
    "num=[chr(ord('0')+i) for i in range(10)]\n",
    "#r=open('inp1.txt').read()\n",
    "r=r.split('\\n')\n",
    "t=0\n",
    "for l in r:\n",
    "    for i in l:\n",
    "        if i in num:\n",
    "             left=i\n",
    "             break\n",
    "    for i in l[::-1]:\n",
    "        if i in num:\n",
    "             right=i\n",
    "             break\n",
    "    v=int(left+right)\n",
    "    t+=v\n",
    "print(t)\n"
   ]
  },
  {
   "cell_type": "code",
   "execution_count": 2,
   "id": "292d145d-0856-4474-a5de-f3bec5fbc92b",
   "metadata": {},
   "outputs": [
    {
     "name": "stdout",
     "output_type": "stream",
     "text": [
      "281\n"
     ]
    }
   ],
   "source": [
    "numb={'zero':0,'one':1,'two':2,'three':3,'four':4,'five':5,'six':6,'seven':7,'eight':8,'nine':9}\n",
    "r=\"\"\"two1nine\n",
    "eightwothree\n",
    "abcone2threexyz\n",
    "xtwone3four\n",
    "4nineeightseven2\n",
    "zoneight234\n",
    "7pqrstsixteen\"\"\"\n",
    "#r=open('inp1.txt','r').read()\n",
    "# r=\"\"\"two1nine\n",
    "# eightwothree\n",
    "# abcone2threexyz\n",
    "# xtwone3four\n",
    "# 4nineeightseven2\n",
    "# zoneight234\n",
    "# 7pqrstsixteen\"\"\".split('\\n')\n",
    "r=r.split('\\n')\n",
    "nums=[chr(ord('0')+i) for i in range(10)]\n",
    "t=0\n",
    "for l in r:\n",
    "  found=False\n",
    "  for i,c in enumerate(l):\n",
    "    if c in nums:\n",
    "      left=c\n",
    "      break\n",
    "    for nn in numb:\n",
    "      if l[i:].find(nn)==0:\n",
    "        left=str(numb[nn])\n",
    "        found=True\n",
    "        break\n",
    "    if found:\n",
    "      break\n",
    "  found=False\n",
    "  for i,c in enumerate(l[::-1]):\n",
    "    if c in nums:\n",
    "      right=c\n",
    "      break\n",
    "    for nn in numb:\n",
    "      if l[::-1][i:].find(nn[::-1])==0:\n",
    "        right=str(numb[nn])\n",
    "        found=True\n",
    "        break\n",
    "    if found:\n",
    "      break\n",
    "  t+=int(left+right)\n",
    "print(t)\n"
   ]
  },
  {
   "cell_type": "code",
   "execution_count": null,
   "id": "de729230-c549-433e-9311-7eae114d04bd",
   "metadata": {},
   "outputs": [],
   "source": []
  }
 ],
 "metadata": {
  "kernelspec": {
   "display_name": "Python 3 (ipykernel)",
   "language": "python",
   "name": "python3"
  },
  "language_info": {
   "codemirror_mode": {
    "name": "ipython",
    "version": 3
   },
   "file_extension": ".py",
   "mimetype": "text/x-python",
   "name": "python",
   "nbconvert_exporter": "python",
   "pygments_lexer": "ipython3",
   "version": "3.11.6"
  }
 },
 "nbformat": 4,
 "nbformat_minor": 5
}
