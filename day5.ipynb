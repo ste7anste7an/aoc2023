{
 "cells": [
  {
   "cell_type": "code",
   "execution_count": 48,
   "id": "50168e5b-064f-416d-bf6a-658822fbf0ba",
   "metadata": {},
   "outputs": [
    {
     "name": "stdout",
     "output_type": "stream",
     "text": [
      "['seed', 'soil']\n",
      "['soil', 'fertilizer']\n",
      "['fertilizer', 'water']\n",
      "['water', 'light']\n",
      "['light', 'temperature']\n",
      "['temperature', 'humidity']\n",
      "['humidity', 'location']\n",
      "57075758\n"
     ]
    }
   ],
   "source": [
    "r=\"\"\"seeds: 79 14 55 13\n",
    "\n",
    "seed-to-soil map:\n",
    "50 98 2\n",
    "52 50 48\n",
    "\n",
    "soil-to-fertilizer map:\n",
    "0 15 37\n",
    "37 52 2\n",
    "39 0 15\n",
    "\n",
    "fertilizer-to-water map:\n",
    "49 53 8\n",
    "0 11 42\n",
    "42 0 7\n",
    "57 7 4\n",
    "\n",
    "water-to-light map:\n",
    "88 18 7\n",
    "18 25 70\n",
    "\n",
    "light-to-temperature map:\n",
    "45 77 23\n",
    "81 45 19\n",
    "68 64 13\n",
    "\n",
    "temperature-to-humidity map:\n",
    "0 69 1\n",
    "1 0 69\n",
    "\n",
    "humidity-to-location map:\n",
    "60 56 37\n",
    "56 93 4\"\"\"\n",
    "r=open('day5_inp.txt').read()\n",
    "r=r.split('\\n')\n",
    "m={}\n",
    "seeds=[int(i) for i in r[0].split(':')[1].split()]\n",
    "p=2\n",
    "while p<len(r):\n",
    "    if p<len(r):\n",
    "        from_to=r[p].split()[0].split('-to-')\n",
    "        print(from_to)\n",
    "        p+=1\n",
    "        vals=[]\n",
    "        if p<len(r):\n",
    "            while r[p]!='':\n",
    "                vals.append([int(i) for i in r[p].split()])\n",
    "                p+=1\n",
    "                if p>=len(r):\n",
    "                    break\n",
    "        p+=1\n",
    "        m[from_to[0]]={'to':from_to[1],'vals':vals}\n",
    "    if p>=len(r):\n",
    "        break\n",
    "\n",
    "def conv(fr,r):\n",
    "    if fr>=r[1] and fr<=r[1]+r[2]:\n",
    "        return fr-r[1]+r[0]\n",
    "    else:\n",
    "        return None\n",
    "\n",
    "locs=[]\n",
    "for seed in seeds:\n",
    "    new_to=seed\n",
    "    to=\"seed\"\n",
    "    while True:\n",
    "        #print(to)\n",
    "        for v in m[to]['vals']:\n",
    "            check=conv(new_to,v)\n",
    "            if check!=None:\n",
    "                break\n",
    "        if check==None:\n",
    "            check=new_to\n",
    "        new_to=check\n",
    "        #print(new_to)\n",
    "        if m[to]['to']=='location':\n",
    "            break\n",
    "        to=m[to]['to']\n",
    "        \n",
    "    locs.append(new_to)\n",
    "print(min(locs))\n",
    "        "
   ]
  },
  {
   "cell_type": "code",
   "execution_count": 6,
   "id": "06168ebd-f682-493b-8be4-0b4a8cfa8600",
   "metadata": {
    "scrolled": true
   },
   "outputs": [
    {
     "name": "stdout",
     "output_type": "stream",
     "text": [
      "['seed', 'soil']\n",
      "['soil', 'fertilizer']\n",
      "['fertilizer', 'water']\n",
      "['water', 'light']\n",
      "['light', 'temperature']\n",
      "['temperature', 'humidity']\n",
      "['humidity', 'location']\n",
      "31161857\n"
     ]
    }
   ],
   "source": [
    "r=\"\"\"seeds: 79 14 55 13\n",
    "\n",
    "seed-to-soil map:\n",
    "50 98 2\n",
    "52 50 48\n",
    "\n",
    "soil-to-fertilizer map:\n",
    "0 15 37\n",
    "37 52 2\n",
    "39 0 15\n",
    "\n",
    "fertilizer-to-water map:\n",
    "49 53 8\n",
    "0 11 42\n",
    "42 0 7\n",
    "57 7 4\n",
    "\n",
    "water-to-light map:\n",
    "88 18 7\n",
    "18 25 70\n",
    "\n",
    "light-to-temperature map:\n",
    "45 77 23\n",
    "81 45 19\n",
    "68 64 13\n",
    "\n",
    "temperature-to-humidity map:\n",
    "0 69 1\n",
    "1 0 69\n",
    "\n",
    "humidity-to-location map:\n",
    "60 56 37\n",
    "56 93 4\"\"\"\n",
    "r=open('day5_inp.txt').read()\n",
    "r=r.split('\\n')\n",
    "m={}\n",
    "seeds=[int(i) for i in r[0].split(':')[1].split()]\n",
    "p=2\n",
    "while p<len(r):\n",
    "    if p<len(r):\n",
    "        from_to=r[p].split()[0].split('-to-')\n",
    "        print(from_to)\n",
    "        p+=1\n",
    "        vals=[]\n",
    "        if p<len(r):\n",
    "            while r[p]!='':\n",
    "                vals.append([int(i) for i in r[p].split()])\n",
    "                p+=1\n",
    "                if p>=len(r):\n",
    "                    break\n",
    "        p+=1\n",
    "        m[from_to[0]]={'to':from_to[1],'vals':vals}\n",
    "    if p>=len(r):\n",
    "        break\n",
    "        \n",
    "def mapping(p,v):\n",
    "    outp_keep=[]\n",
    "    outp_map=[]\n",
    "    l=v[1]\n",
    "    r=v[1]+v[2]\n",
    "    a=p[0]\n",
    "    b=p[1]\n",
    "    o_l=max(l,a)\n",
    "    o_r=min(r,b)\n",
    "    #print(o_l,o_r)\n",
    "    if o_l<o_r: # intersection\n",
    "        outp_map.append([o_l-v[1]+v[0],o_r-v[1]+v[0]])\n",
    "        if a<o_l:\n",
    "            outp_keep.append([a,o_l])\n",
    "        if b>o_r:\n",
    "            outp_keep.append([o_r,b])\n",
    "    else:\n",
    "        outp_keep.append(p)\n",
    "    return outp_keep,outp_map\n",
    "\n",
    "intervals=[]\n",
    "s=seeds[::2]\n",
    "ra=seeds[1::2] #len\n",
    "inp=[]\n",
    "for si,ss in enumerate(s):\n",
    "    a=ss\n",
    "    b=ss+ra[si]\n",
    "    inp.append([a,b])\n",
    "\n",
    "\n",
    "to=\"seed\"\n",
    "while True:\n",
    "    next=[]\n",
    "    while len(inp)!=0:\n",
    "        p=inp.pop()\n",
    "        for v in m[to]['vals']:\n",
    "            keep,outp_map=mapping(p,v)\n",
    "            if not len(outp_map): continue\n",
    "            next+=outp_map\n",
    "            inp+=keep\n",
    "            break\n",
    "        else: # geen van de mappings toegepast\n",
    "            next+=[p]\n",
    "    inp=next\n",
    "    if m[to]['to']=='location':\n",
    "        break\n",
    "    to=m[to]['to']\n",
    "\n",
    "print(min(min(next)))\n",
    "        \n",
    "        \n"
   ]
  },
  {
   "cell_type": "code",
   "execution_count": 5,
   "id": "696e9274-f5a7-4010-ad72-337a2ec8374a",
   "metadata": {},
   "outputs": [
    {
     "data": {
      "text/plain": [
       "46"
      ]
     },
     "execution_count": 5,
     "metadata": {},
     "output_type": "execute_result"
    }
   ],
   "source": [
    "min(min(next))"
   ]
  },
  {
   "cell_type": "code",
   "execution_count": 52,
   "id": "bfaef3c2-9e4e-4d94-8d79-0bd76f3f5451",
   "metadata": {},
   "outputs": [
    {
     "data": {
      "text/plain": [
       "[79, 14, 55, 13]"
      ]
     },
     "execution_count": 52,
     "metadata": {},
     "output_type": "execute_result"
    }
   ],
   "source": [
    "seeds"
   ]
  },
  {
   "cell_type": "code",
   "execution_count": 103,
   "id": "0741a5c9-6b46-4d3e-b08f-b4dba0190c14",
   "metadata": {},
   "outputs": [
    {
     "name": "stdout",
     "output_type": "stream",
     "text": [
      "0\n",
      "1\n",
      "2\n",
      "3\n",
      "4\n",
      "5\n",
      "6\n",
      "7\n",
      "8\n",
      "9\n",
      "stop\n"
     ]
    }
   ],
   "source": [
    "for i in range(10):\n",
    "    print(i)\n",
    "    #if i>4: break\n",
    "else:\n",
    "    print('stop')"
   ]
  },
  {
   "cell_type": "code",
   "execution_count": null,
   "id": "01a661dd-9ad4-406f-a471-d941517d0a0d",
   "metadata": {},
   "outputs": [],
   "source": []
  }
 ],
 "metadata": {
  "kernelspec": {
   "display_name": "Python 3 (ipykernel)",
   "language": "python",
   "name": "python3"
  },
  "language_info": {
   "codemirror_mode": {
    "name": "ipython",
    "version": 3
   },
   "file_extension": ".py",
   "mimetype": "text/x-python",
   "name": "python",
   "nbconvert_exporter": "python",
   "pygments_lexer": "ipython3",
   "version": "3.11.6"
  }
 },
 "nbformat": 4,
 "nbformat_minor": 5
}
