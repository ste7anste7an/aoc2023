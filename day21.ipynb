{
 "cells": [
  {
   "cell_type": "code",
   "execution_count": null,
   "id": "af8be89f-51cc-47ce-a320-2322edbdc757",
   "metadata": {},
   "outputs": [
    {
     "name": "stdout",
     "output_type": "stream",
     "text": [
      "[(65, 65)]\n"
     ]
    }
   ],
   "source": [
    "from copy import deepcopy\n",
    "from aocd import get_data\n",
    "from collections import deque\n",
    "import math\n",
    "import re\n",
    "\n",
    "r=\"\"\"...........\n",
    ".....###.#.\n",
    ".###.##..#.\n",
    "..#.#...#..\n",
    "....#.#....\n",
    ".##..S####.\n",
    ".##..#...#.\n",
    ".......##..\n",
    ".##.#.####.\n",
    ".##..##.##.\n",
    "...........\"\"\"\n",
    "\n",
    "\n",
    "r=get_data(day=21, year=2023)\n",
    "inp=r.split('\\n')\n",
    "\n",
    "\n",
    "dir=[(0,1),(1,0),(0,-1),(-1,0)]\n",
    "\n",
    "from collections import deque\n",
    "\n",
    "G = [[c for c in r] for r in inp]\n",
    "R=len(G)\n",
    "C=len(G[0])\n",
    "sr,sc,es,er=-1,-1,-1,-1\n",
    "S=[]\n",
    "O=[]\n",
    "for r in range(R):\n",
    "    for c in range(C):\n",
    "        if G[r][c]=='S':\n",
    "            S.append((r,c))\n",
    "            break\n",
    "print(S)\n",
    "S=S[0]            \n",
    "\n",
    "\n",
    "def add(a,b):\n",
    "    return ((a[0]+b[0],a[1]+b[1]))\n",
    "\n",
    "def valid(pos):\n",
    "    return 0<=pos[0]<R-1 and 0<=pos[1]<C-1\n",
    "\n",
    "def printg(G,V,n):\n",
    "    for r in range(R):\n",
    "        s=''\n",
    "        for c in range(C):\n",
    "            if (r,c) in V :\n",
    "                if V[(r,c)]==n:\n",
    "                    s+=\" %02d\"%V[(r,c)]\n",
    "                else:\n",
    "                    s+=\" \"+G[r][c]+\" \"    \n",
    "            else:\n",
    "                s+=\" \"+G[r][c]+\" \"\n",
    "        print(s)\n",
    "                \n",
    "G[S[0]][S[1]]=\".\"\n",
    "#V={S:0}\n",
    "q=deque([(S,0)])\n",
    "mdist=0\n",
    "while q:\n",
    "    pos, dist = q.popleft()\n",
    "    ch = G[pos[0]][pos[1]]\n",
    "    V[pos]=dist\n",
    "    mdist=max(mdist,dist)\n",
    "    if mdist>64:\n",
    "        break\n",
    "    for d in dir:\n",
    "        new_pos=add(pos,d)\n",
    "        #if  new_pos not in V and valid(pos):\n",
    "        if  valid(pos):\n",
    "            if G[new_pos[0]][new_pos[1]]=='.':\n",
    "                q.append((new_pos,dist+1))\n",
    "cnt=0\n",
    "for v in V:\n",
    "    if V[v]==64:\n",
    "        cnt+=1\n",
    "cnt"
   ]
  },
  {
   "cell_type": "code",
   "execution_count": 16,
   "id": "12b8e6d4-644f-4410-b703-ddb97ebb6217",
   "metadata": {},
   "outputs": [
    {
     "name": "stdout",
     "output_type": "stream",
     "text": [
      "[(65, 65)]\n",
      "3770\n"
     ]
    }
   ],
   "source": [
    "from copy import deepcopy\n",
    "from aocd import get_data\n",
    "from collections import deque\n",
    "import math\n",
    "import re\n",
    "\n",
    "r=\"\"\"...........\n",
    ".....###.#.\n",
    ".###.##..#.\n",
    "..#.#...#..\n",
    "....#.#....\n",
    ".##..S####.\n",
    ".##..#...#.\n",
    ".......##..\n",
    ".##.#.####.\n",
    ".##..##.##.\n",
    "...........\"\"\"\n",
    "\n",
    "\n",
    "r=get_data(day=21, year=2023)\n",
    "inp=r.split('\\n')\n",
    "\n",
    "\n",
    "dir=[(0,1),(1,0),(0,-1),(-1,0)]\n",
    "\n",
    "from collections import deque\n",
    "\n",
    "G = [[c for c in r] for r in inp]\n",
    "R=len(G)\n",
    "C=len(G[0])\n",
    "sr,sc,es,er=-1,-1,-1,-1\n",
    "S=[]\n",
    "O=[]\n",
    "for r in range(R):\n",
    "    for c in range(C):\n",
    "        if G[r][c]=='S':\n",
    "            S.append((r,c))\n",
    "            break\n",
    "print(S)\n",
    "S=S[0]            \n",
    "\n",
    "\n",
    "def add(a,b):\n",
    "    return ((a[0]+b[0],a[1]+b[1]))\n",
    "\n",
    "def valid(pos):\n",
    "    return 0<=pos[0]<R-1 and 0<=pos[1]<C-1\n",
    "\n",
    "def printg(G,V,n):\n",
    "    for r in range(R):\n",
    "        s=''\n",
    "        for c in range(C):\n",
    "            if (r,c) in V :\n",
    "                if V[(r,c)]==n:\n",
    "                    s+=\" %02d\"%V[(r,c)]\n",
    "                else:\n",
    "                    s+=\" \"+G[r][c]+\" \"    \n",
    "            else:\n",
    "                s+=\" \"+G[r][c]+\" \"\n",
    "        print(s)\n",
    "                \n",
    "G[S[0]][S[1]]=\".\"\n",
    "#V={S:0}\n",
    "newV={S}\n",
    "for n in range(64):\n",
    "    V=deepcopy(newV)\n",
    "    newV={}\n",
    "    for v in V:\n",
    "        #print(v)\n",
    "        for d in dir:\n",
    "            new_pos=add(v,d)\n",
    "            if valid(new_pos):\n",
    "                if G[new_pos[0]][new_pos[1]]=='.':\n",
    "                    newV[new_pos]=1\n",
    "print(len(newV))"
   ]
  },
  {
   "cell_type": "code",
   "execution_count": 65,
   "id": "af0a6d88-8fdf-46a3-ae60-ef06292feb3b",
   "metadata": {
    "scrolled": true
   },
   "outputs": [
    {
     "name": "stdout",
     "output_type": "stream",
     "text": [
      "[(65, 65)]\n",
      "65 3885\n",
      "196 34700\n",
      "327 96215\n"
     ]
    }
   ],
   "source": [
    "from copy import deepcopy\n",
    "from aocd import get_data\n",
    "from collections import deque\n",
    "import math\n",
    "import re\n",
    "\n",
    "r=\"\"\"...........\n",
    ".....###.#.\n",
    ".###.##..#.\n",
    "..#.#...#..\n",
    "....#.#....\n",
    ".##..S####.\n",
    ".##..#...#.\n",
    ".......##..\n",
    ".##.#.####.\n",
    ".##..##.##.\n",
    "...........\"\"\"\n",
    "\n",
    "\n",
    "r=get_data(day=21, year=2023)\n",
    "inp=r.split('\\n')\n",
    "\n",
    "\n",
    "dir=[(0,1),(1,0),(0,-1),(-1,0)]\n",
    "\n",
    "from collections import deque\n",
    "\n",
    "G = [[c for c in r] for r in inp]\n",
    "R=len(G)\n",
    "C=len(G[0])\n",
    "sr,sc,es,er=-1,-1,-1,-1\n",
    "S=[]\n",
    "O=[]\n",
    "for r in range(R):\n",
    "    for c in range(C):\n",
    "        if G[r][c]=='S':\n",
    "            S.append((r,c))\n",
    "            break\n",
    "print(S)\n",
    "S=S[0]            \n",
    "\n",
    "\n",
    "def add(a,b):\n",
    "    return ((a[0]+b[0],a[1]+b[1]))\n",
    "\n",
    "def valid(pos):\n",
    "    return 0<=pos[0]<R-1 and 0<=pos[1]<C-1\n",
    "\n",
    "def printg(G,V,n):\n",
    "    for r in range(R):\n",
    "        s=''\n",
    "        for c in range(C):\n",
    "            if (r,c) in V :\n",
    "                if V[(r,c)]==n:\n",
    "                    s+=\"O\"\n",
    "                else:\n",
    "                    s+=G[r][c]    \n",
    "            else:\n",
    "                s+=G[r][c]\n",
    "        print(s)\n",
    "                \n",
    "G[S[0]][S[1]]=\".\"\n",
    "#V={S:0}\n",
    "def solve(nn):\n",
    "    newV={S}\n",
    "    for n in range(nn):\n",
    "        V=deepcopy(newV)\n",
    "        newV={}\n",
    "        for v in V:\n",
    "            #print(v)\n",
    "            for d in dir:\n",
    "                new_pos=add(v,d)\n",
    "                #if valid(new_pos):\n",
    "                if G[new_pos[0]%R][new_pos[1]%C]=='.':\n",
    "                        newV[new_pos]=1\n",
    "    return newV\n",
    "\n",
    "for n in range(65,400,131):\n",
    "    print(n,len(solve(n)))"
   ]
  },
  {
   "cell_type": "code",
   "execution_count": 58,
   "id": "b73970da-50fa-40a8-ad05-67ac4829ed8b",
   "metadata": {},
   "outputs": [],
   "source": [
    "from sympy.polys.polyfuncs import interpolate\n",
    "from sympy.abc import a, b, x"
   ]
  },
  {
   "cell_type": "code",
   "execution_count": 59,
   "id": "4bd47c94-a1ec-469f-8519-1f1e4e9ff9fa",
   "metadata": {},
   "outputs": [
    {
     "data": {
      "text/latex": [
       "$\\displaystyle \\frac{15350 x^{2}}{17161} + \\frac{30415 x}{17161} - \\frac{160240}{17161}$"
      ],
      "text/plain": [
       "15350*x**2/17161 + 30415*x/17161 - 160240/17161"
      ]
     },
     "execution_count": 59,
     "metadata": {},
     "output_type": "execute_result"
    }
   ],
   "source": [
    "interpolate([(65,3885),(196,34700),(327,96215)],x)"
   ]
  },
  {
   "cell_type": "code",
   "execution_count": 62,
   "id": "087c1919-232b-4330-abb5-69d1f6600e20",
   "metadata": {},
   "outputs": [
    {
     "data": {
      "text/plain": [
       "65"
      ]
     },
     "execution_count": 62,
     "metadata": {},
     "output_type": "execute_result"
    }
   ],
   "source": [
    "n=26501365\n",
    "n%R"
   ]
  },
  {
   "cell_type": "code",
   "execution_count": 63,
   "id": "5eac8781-f0a1-44cc-ba55-92fcbae8803e",
   "metadata": {},
   "outputs": [
    {
     "data": {
      "text/plain": [
       "628206330073385.0"
      ]
     },
     "execution_count": 63,
     "metadata": {},
     "output_type": "execute_result"
    }
   ],
   "source": [
    "def interp(x):\n",
    "    return (15350*x**2+30415*x-160240)/17161\n",
    "\n",
    "n=26501365\n",
    "interp(n)"
   ]
  },
  {
   "cell_type": "code",
   "execution_count": 64,
   "id": "01caf36b-9647-4c7b-927a-5cdd4123875c",
   "metadata": {},
   "outputs": [
    {
     "data": {
      "text/plain": [
       "17161"
      ]
     },
     "execution_count": 64,
     "metadata": {},
     "output_type": "execute_result"
    }
   ],
   "source": [
    "131*131"
   ]
  },
  {
   "cell_type": "code",
   "execution_count": null,
   "id": "b3c55f93-db55-44ca-a93f-d3c303f790c2",
   "metadata": {},
   "outputs": [],
   "source": []
  }
 ],
 "metadata": {
  "kernelspec": {
   "display_name": "Python 3 (ipykernel)",
   "language": "python",
   "name": "python3"
  },
  "language_info": {
   "codemirror_mode": {
    "name": "ipython",
    "version": 3
   },
   "file_extension": ".py",
   "mimetype": "text/x-python",
   "name": "python",
   "nbconvert_exporter": "python",
   "pygments_lexer": "ipython3",
   "version": "3.11.6"
  }
 },
 "nbformat": 4,
 "nbformat_minor": 5
}
