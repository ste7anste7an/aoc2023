{
 "cells": [
  {
   "cell_type": "code",
   "execution_count": null,
   "id": "af8be89f-51cc-47ce-a320-2322edbdc757",
   "metadata": {},
   "outputs": [
    {
     "name": "stdout",
     "output_type": "stream",
     "text": [
      "[(65, 65)]\n"
     ]
    }
   ],
   "source": [
    "from copy import deepcopy\n",
    "from aocd import get_data\n",
    "from collections import deque\n",
    "import math\n",
    "import re\n",
    "\n",
    "r=\"\"\"...........\n",
    ".....###.#.\n",
    ".###.##..#.\n",
    "..#.#...#..\n",
    "....#.#....\n",
    ".##..S####.\n",
    ".##..#...#.\n",
    ".......##..\n",
    ".##.#.####.\n",
    ".##..##.##.\n",
    "...........\"\"\"\n",
    "\n",
    "\n",
    "r=get_data(day=21, year=2023)\n",
    "inp=r.split('\\n')\n",
    "\n",
    "\n",
    "dir=[(0,1),(1,0),(0,-1),(-1,0)]\n",
    "\n",
    "from collections import deque\n",
    "\n",
    "G = [[c for c in r] for r in inp]\n",
    "R=len(G)\n",
    "C=len(G[0])\n",
    "sr,sc,es,er=-1,-1,-1,-1\n",
    "S=[]\n",
    "O=[]\n",
    "for r in range(R):\n",
    "    for c in range(C):\n",
    "        if G[r][c]=='S':\n",
    "            S.append((r,c))\n",
    "            break\n",
    "print(S)\n",
    "S=S[0]            \n",
    "\n",
    "\n",
    "def add(a,b):\n",
    "    return ((a[0]+b[0],a[1]+b[1]))\n",
    "\n",
    "def valid(pos):\n",
    "    return 0<=pos[0]<R-1 and 0<=pos[1]<C-1\n",
    "\n",
    "def printg(G,V,n):\n",
    "    for r in range(R):\n",
    "        s=''\n",
    "        for c in range(C):\n",
    "            if (r,c) in V :\n",
    "                if V[(r,c)]==n:\n",
    "                    s+=\" %02d\"%V[(r,c)]\n",
    "                else:\n",
    "                    s+=\" \"+G[r][c]+\" \"    \n",
    "            else:\n",
    "                s+=\" \"+G[r][c]+\" \"\n",
    "        print(s)\n",
    "                \n",
    "G[S[0]][S[1]]=\".\"\n",
    "#V={S:0}\n",
    "q=deque([(S,0)])\n",
    "mdist=0\n",
    "while q:\n",
    "    pos, dist = q.popleft()\n",
    "    ch = G[pos[0]][pos[1]]\n",
    "    V[pos]=dist\n",
    "    mdist=max(mdist,dist)\n",
    "    if mdist>64:\n",
    "        break\n",
    "    for d in dir:\n",
    "        new_pos=add(pos,d)\n",
    "        #if  new_pos not in V and valid(pos):\n",
    "        if  valid(pos):\n",
    "            if G[new_pos[0]][new_pos[1]]=='.':\n",
    "                q.append((new_pos,dist+1))\n",
    "cnt=0\n",
    "for v in V:\n",
    "    if V[v]==64:\n",
    "        cnt+=1\n",
    "cnt"
   ]
  },
  {
   "cell_type": "code",
   "execution_count": 16,
   "id": "12b8e6d4-644f-4410-b703-ddb97ebb6217",
   "metadata": {},
   "outputs": [
    {
     "name": "stdout",
     "output_type": "stream",
     "text": [
      "[(65, 65)]\n",
      "3770\n"
     ]
    }
   ],
   "source": [
    "from copy import deepcopy\n",
    "from aocd import get_data\n",
    "from collections import deque\n",
    "import math\n",
    "import re\n",
    "\n",
    "r=\"\"\"...........\n",
    ".....###.#.\n",
    ".###.##..#.\n",
    "..#.#...#..\n",
    "....#.#....\n",
    ".##..S####.\n",
    ".##..#...#.\n",
    ".......##..\n",
    ".##.#.####.\n",
    ".##..##.##.\n",
    "...........\"\"\"\n",
    "\n",
    "\n",
    "r=get_data(day=21, year=2023)\n",
    "inp=r.split('\\n')\n",
    "\n",
    "\n",
    "dir=[(0,1),(1,0),(0,-1),(-1,0)]\n",
    "\n",
    "from collections import deque\n",
    "\n",
    "G = [[c for c in r] for r in inp]\n",
    "R=len(G)\n",
    "C=len(G[0])\n",
    "sr,sc,es,er=-1,-1,-1,-1\n",
    "S=[]\n",
    "O=[]\n",
    "for r in range(R):\n",
    "    for c in range(C):\n",
    "        if G[r][c]=='S':\n",
    "            S.append((r,c))\n",
    "            break\n",
    "print(S)\n",
    "S=S[0]            \n",
    "\n",
    "\n",
    "def add(a,b):\n",
    "    return ((a[0]+b[0],a[1]+b[1]))\n",
    "\n",
    "def valid(pos):\n",
    "    return 0<=pos[0]<R-1 and 0<=pos[1]<C-1\n",
    "\n",
    "def printg(G,V,n):\n",
    "    for r in range(R):\n",
    "        s=''\n",
    "        for c in range(C):\n",
    "            if (r,c) in V :\n",
    "                if V[(r,c)]==n:\n",
    "                    s+=\" %02d\"%V[(r,c)]\n",
    "                else:\n",
    "                    s+=\" \"+G[r][c]+\" \"    \n",
    "            else:\n",
    "                s+=\" \"+G[r][c]+\" \"\n",
    "        print(s)\n",
    "                \n",
    "G[S[0]][S[1]]=\".\"\n",
    "#V={S:0}\n",
    "newV={S}\n",
    "for n in range(64):\n",
    "    V=deepcopy(newV)\n",
    "    newV={}\n",
    "    for v in V:\n",
    "        #print(v)\n",
    "        for d in dir:\n",
    "            new_pos=add(v,d)\n",
    "            if valid(new_pos):\n",
    "                if G[new_pos[0]][new_pos[1]]=='.':\n",
    "                    newV[new_pos]=1\n",
    "print(len(newV))"
   ]
  },
  {
   "cell_type": "code",
   "execution_count": 25,
   "id": "af0a6d88-8fdf-46a3-ae60-ef06292feb3b",
   "metadata": {
    "scrolled": true
   },
   "outputs": [
    {
     "name": "stdout",
     "output_type": "stream",
     "text": [
      "[(65, 65)]\n"
     ]
    },
    {
     "ename": "KeyboardInterrupt",
     "evalue": "",
     "output_type": "error",
     "traceback": [
      "\u001b[0;31m---------------------------------------------------------------------------\u001b[0m",
      "\u001b[0;31mKeyboardInterrupt\u001b[0m                         Traceback (most recent call last)",
      "Cell \u001b[0;32mIn[25], line 66\u001b[0m\n\u001b[1;32m     64\u001b[0m newV\u001b[38;5;241m=\u001b[39m{S}\n\u001b[1;32m     65\u001b[0m \u001b[38;5;28;01mfor\u001b[39;00m n \u001b[38;5;129;01min\u001b[39;00m \u001b[38;5;28mrange\u001b[39m(\u001b[38;5;241m1000\u001b[39m):\n\u001b[0;32m---> 66\u001b[0m     V\u001b[38;5;241m=\u001b[39m\u001b[43mdeepcopy\u001b[49m\u001b[43m(\u001b[49m\u001b[43mnewV\u001b[49m\u001b[43m)\u001b[49m\n\u001b[1;32m     67\u001b[0m     newV\u001b[38;5;241m=\u001b[39m{}\n\u001b[1;32m     68\u001b[0m     \u001b[38;5;28;01mfor\u001b[39;00m v \u001b[38;5;129;01min\u001b[39;00m V:\n\u001b[1;32m     69\u001b[0m         \u001b[38;5;66;03m#print(v)\u001b[39;00m\n",
      "File \u001b[0;32m/opt/conda/lib/python3.11/copy.py:146\u001b[0m, in \u001b[0;36mdeepcopy\u001b[0;34m(x, memo, _nil)\u001b[0m\n\u001b[1;32m    144\u001b[0m copier \u001b[38;5;241m=\u001b[39m _deepcopy_dispatch\u001b[38;5;241m.\u001b[39mget(\u001b[38;5;28mcls\u001b[39m)\n\u001b[1;32m    145\u001b[0m \u001b[38;5;28;01mif\u001b[39;00m copier \u001b[38;5;129;01mis\u001b[39;00m \u001b[38;5;129;01mnot\u001b[39;00m \u001b[38;5;28;01mNone\u001b[39;00m:\n\u001b[0;32m--> 146\u001b[0m     y \u001b[38;5;241m=\u001b[39m \u001b[43mcopier\u001b[49m\u001b[43m(\u001b[49m\u001b[43mx\u001b[49m\u001b[43m,\u001b[49m\u001b[43m \u001b[49m\u001b[43mmemo\u001b[49m\u001b[43m)\u001b[49m\n\u001b[1;32m    147\u001b[0m \u001b[38;5;28;01melse\u001b[39;00m:\n\u001b[1;32m    148\u001b[0m     \u001b[38;5;28;01mif\u001b[39;00m \u001b[38;5;28missubclass\u001b[39m(\u001b[38;5;28mcls\u001b[39m, \u001b[38;5;28mtype\u001b[39m):\n",
      "File \u001b[0;32m/opt/conda/lib/python3.11/copy.py:231\u001b[0m, in \u001b[0;36m_deepcopy_dict\u001b[0;34m(x, memo, deepcopy)\u001b[0m\n\u001b[1;32m    229\u001b[0m memo[\u001b[38;5;28mid\u001b[39m(x)] \u001b[38;5;241m=\u001b[39m y\n\u001b[1;32m    230\u001b[0m \u001b[38;5;28;01mfor\u001b[39;00m key, value \u001b[38;5;129;01min\u001b[39;00m x\u001b[38;5;241m.\u001b[39mitems():\n\u001b[0;32m--> 231\u001b[0m     y[\u001b[43mdeepcopy\u001b[49m\u001b[43m(\u001b[49m\u001b[43mkey\u001b[49m\u001b[43m,\u001b[49m\u001b[43m \u001b[49m\u001b[43mmemo\u001b[49m\u001b[43m)\u001b[49m] \u001b[38;5;241m=\u001b[39m deepcopy(value, memo)\n\u001b[1;32m    232\u001b[0m \u001b[38;5;28;01mreturn\u001b[39;00m y\n",
      "File \u001b[0;32m/opt/conda/lib/python3.11/copy.py:146\u001b[0m, in \u001b[0;36mdeepcopy\u001b[0;34m(x, memo, _nil)\u001b[0m\n\u001b[1;32m    144\u001b[0m copier \u001b[38;5;241m=\u001b[39m _deepcopy_dispatch\u001b[38;5;241m.\u001b[39mget(\u001b[38;5;28mcls\u001b[39m)\n\u001b[1;32m    145\u001b[0m \u001b[38;5;28;01mif\u001b[39;00m copier \u001b[38;5;129;01mis\u001b[39;00m \u001b[38;5;129;01mnot\u001b[39;00m \u001b[38;5;28;01mNone\u001b[39;00m:\n\u001b[0;32m--> 146\u001b[0m     y \u001b[38;5;241m=\u001b[39m \u001b[43mcopier\u001b[49m\u001b[43m(\u001b[49m\u001b[43mx\u001b[49m\u001b[43m,\u001b[49m\u001b[43m \u001b[49m\u001b[43mmemo\u001b[49m\u001b[43m)\u001b[49m\n\u001b[1;32m    147\u001b[0m \u001b[38;5;28;01melse\u001b[39;00m:\n\u001b[1;32m    148\u001b[0m     \u001b[38;5;28;01mif\u001b[39;00m \u001b[38;5;28missubclass\u001b[39m(\u001b[38;5;28mcls\u001b[39m, \u001b[38;5;28mtype\u001b[39m):\n",
      "File \u001b[0;32m/opt/conda/lib/python3.11/copy.py:218\u001b[0m, in \u001b[0;36m_deepcopy_tuple\u001b[0;34m(x, memo, deepcopy)\u001b[0m\n\u001b[1;32m    216\u001b[0m \u001b[38;5;28;01mexcept\u001b[39;00m \u001b[38;5;167;01mKeyError\u001b[39;00m:\n\u001b[1;32m    217\u001b[0m     \u001b[38;5;28;01mpass\u001b[39;00m\n\u001b[0;32m--> 218\u001b[0m \u001b[38;5;28;01mfor\u001b[39;00m k, j \u001b[38;5;129;01min\u001b[39;00m \u001b[38;5;28;43mzip\u001b[39;49m\u001b[43m(\u001b[49m\u001b[43mx\u001b[49m\u001b[43m,\u001b[49m\u001b[43m \u001b[49m\u001b[43my\u001b[49m\u001b[43m)\u001b[49m:\n\u001b[1;32m    219\u001b[0m     \u001b[38;5;28;01mif\u001b[39;00m k \u001b[38;5;129;01mis\u001b[39;00m \u001b[38;5;129;01mnot\u001b[39;00m j:\n\u001b[1;32m    220\u001b[0m         y \u001b[38;5;241m=\u001b[39m \u001b[38;5;28mtuple\u001b[39m(y)\n",
      "\u001b[0;31mKeyboardInterrupt\u001b[0m: "
     ]
    }
   ],
   "source": [
    "from copy import deepcopy\n",
    "from aocd import get_data\n",
    "from collections import deque\n",
    "import math\n",
    "import re\n",
    "\n",
    "r=\"\"\"...........\n",
    ".....###.#.\n",
    ".###.##..#.\n",
    "..#.#...#..\n",
    "....#.#....\n",
    ".##..S####.\n",
    ".##..#...#.\n",
    ".......##..\n",
    ".##.#.####.\n",
    ".##..##.##.\n",
    "...........\"\"\"\n",
    "\n",
    "\n",
    "r=get_data(day=21, year=2023)\n",
    "inp=r.split('\\n')\n",
    "\n",
    "\n",
    "dir=[(0,1),(1,0),(0,-1),(-1,0)]\n",
    "\n",
    "from collections import deque\n",
    "\n",
    "G = [[c for c in r] for r in inp]\n",
    "R=len(G)\n",
    "C=len(G[0])\n",
    "sr,sc,es,er=-1,-1,-1,-1\n",
    "S=[]\n",
    "O=[]\n",
    "for r in range(R):\n",
    "    for c in range(C):\n",
    "        if G[r][c]=='S':\n",
    "            S.append((r,c))\n",
    "            break\n",
    "print(S)\n",
    "S=S[0]            \n",
    "\n",
    "\n",
    "def add(a,b):\n",
    "    return ((a[0]+b[0],a[1]+b[1]))\n",
    "\n",
    "def valid(pos):\n",
    "    return 0<=pos[0]<R-1 and 0<=pos[1]<C-1\n",
    "\n",
    "def printg(G,V,n):\n",
    "    for r in range(R):\n",
    "        s=''\n",
    "        for c in range(C):\n",
    "            if (r,c) in V :\n",
    "                if V[(r,c)]==n:\n",
    "                    s+=\" %02d\"%V[(r,c)]\n",
    "                else:\n",
    "                    s+=\" \"+G[r][c]+\" \"    \n",
    "            else:\n",
    "                s+=\" \"+G[r][c]+\" \"\n",
    "        print(s)\n",
    "                \n",
    "G[S[0]][S[1]]=\".\"\n",
    "#V={S:0}\n",
    "newV={S}\n",
    "for n in range(1000):\n",
    "    V=deepcopy(newV)\n",
    "    newV={}\n",
    "    for v in V:\n",
    "        #print(v)\n",
    "        for d in dir:\n",
    "            new_pos=add(v,d)\n",
    "            #if valid(new_pos):\n",
    "            if G[new_pos[0]%R][new_pos[1]%C]=='.':\n",
    "                    newV[new_pos]=1\n",
    "print(len(newV))"
   ]
  },
  {
   "cell_type": "code",
   "execution_count": 24,
   "id": "b73970da-50fa-40a8-ad05-67ac4829ed8b",
   "metadata": {},
   "outputs": [
    {
     "data": {
      "text/plain": [
       "24.659563334378483"
      ]
     },
     "execution_count": 24,
     "metadata": {},
     "output_type": "execute_result"
    }
   ],
   "source": []
  },
  {
   "cell_type": "code",
   "execution_count": 30,
   "id": "4bd47c94-a1ec-469f-8519-1f1e4e9ff9fa",
   "metadata": {},
   "outputs": [
    {
     "data": {
      "text/plain": [
       "['...........',\n",
       " '.....###.#.',\n",
       " '.###.##..#.',\n",
       " '..#.#...#..',\n",
       " '....#.#....',\n",
       " '.##..S####.',\n",
       " '.##..#...#.',\n",
       " '.......##..',\n",
       " '.##.#.####.',\n",
       " '.##..##.##.',\n",
       " '...........']"
      ]
     },
     "execution_count": 30,
     "metadata": {},
     "output_type": "execute_result"
    }
   ],
   "source": [
    "...........\n",
    ".....###.#.\n",
    ".###.##.O#.\n",
    ".O#O#O.O#..\n",
    "O.O.#.#.O..\n",
    ".##O.O####.\n",
    ".##.O#O..#.\n",
    ".O.O.O.##..\n",
    ".##.#.####.\n",
    ".##O.##.##.\n",
    "..........."
   ]
  },
  {
   "cell_type": "code",
   "execution_count": 21,
   "id": "087c1919-232b-4330-abb5-69d1f6600e20",
   "metadata": {},
   "outputs": [
    {
     "data": {
      "text/plain": [
       "509"
      ]
     },
     "execution_count": 21,
     "metadata": {},
     "output_type": "execute_result"
    }
   ],
   "source": [
    "n"
   ]
  },
  {
   "cell_type": "code",
   "execution_count": null,
   "id": "5eac8781-f0a1-44cc-ba55-92fcbae8803e",
   "metadata": {},
   "outputs": [],
   "source": []
  }
 ],
 "metadata": {
  "kernelspec": {
   "display_name": "Python 3 (ipykernel)",
   "language": "python",
   "name": "python3"
  },
  "language_info": {
   "codemirror_mode": {
    "name": "ipython",
    "version": 3
   },
   "file_extension": ".py",
   "mimetype": "text/x-python",
   "name": "python",
   "nbconvert_exporter": "python",
   "pygments_lexer": "ipython3",
   "version": "3.11.6"
  }
 },
 "nbformat": 4,
 "nbformat_minor": 5
}
