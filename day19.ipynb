{
 "cells": [
  {
   "cell_type": "code",
   "execution_count": 42,
   "id": "0cc7d568-1656-4d18-941e-c6b7d4167042",
   "metadata": {},
   "outputs": [
    {
     "data": {
      "text/plain": [
       "362930"
      ]
     },
     "execution_count": 42,
     "metadata": {},
     "output_type": "execute_result"
    }
   ],
   "source": [
    "r=\"\"\"px{a<2006:qkq,m>2090:A,rfg}\n",
    "pv{a>1716:R,A}\n",
    "lnx{m>1548:A,A}\n",
    "rfg{s<537:gd,x>2440:R,A}\n",
    "qs{s>3448:A,lnx}\n",
    "qkq{x<1416:A,crn}\n",
    "crn{x>2662:A,R}\n",
    "in{s<1351:px,qqz}\n",
    "qqz{s>2770:qs,m<1801:hdj,R}\n",
    "gd{a>3333:R,R}\n",
    "hdj{m>838:A,pv}\n",
    "\n",
    "{x=787,m=2655,a=1222,s=2876}\n",
    "{x=1679,m=44,a=2067,s=496}\n",
    "{x=2036,m=264,a=79,s=2244}\n",
    "{x=2461,m=1339,a=466,s=291}\n",
    "{x=2127,m=1623,a=2188,s=1013}\"\"\"\n",
    "from aocd import get_data\n",
    "r=get_data(day=19, year=2023)\n",
    "rules,items=r.split('\\n\\n')\n",
    "R={}\n",
    "for rule in rules.split('\\n'):\n",
    "    name,_rule=rule.split('{')\n",
    "    checks=_rule.split(',')\n",
    "    checks[-1]=checks[-1][:-1]\n",
    "   #print(name,checks)\n",
    "    C=[]\n",
    "    for check in checks[:-1]:\n",
    "        comp,rul=check.split(':')\n",
    "        C.append((comp,rul))\n",
    "    C.append(('True',checks[-1]))\n",
    "    R[name]=C\n",
    "I=[]\n",
    "for item in items.split('\\n'):\n",
    "    vars=[int(i.split('=')[1]) for i in item[1:-1].split(',')]\n",
    "    I.append(vars)\n",
    "\n",
    "som=0\n",
    "for item in I:\n",
    "    x,m,a,s=item\n",
    "    rule='in'\n",
    "    while rule not in ['A','R']:\n",
    "        for comp,new_rule in R[rule]:\n",
    "            if eval(comp):\n",
    "                rule=new_rule\n",
    "                break\n",
    "    if rule=='A':            \n",
    "        som+=x+m+a+s      \n",
    "som\n"
   ]
  },
  {
   "cell_type": "code",
   "execution_count": 39,
   "id": "b3f402b9-8fc5-4973-8fa5-a3daa3bc78ab",
   "metadata": {},
   "outputs": [
    {
     "data": {
      "text/plain": [
       "[[787, 2655, 1222, 2876],\n",
       " [1679, 44, 2067, 496],\n",
       " [2036, 264, 79, 2244],\n",
       " [2461, 1339, 466, 291],\n",
       " [2127, 1623, 2188, 1013]]"
      ]
     },
     "execution_count": 39,
     "metadata": {},
     "output_type": "execute_result"
    }
   ],
   "source": [
    "I"
   ]
  },
  {
   "cell_type": "code",
   "execution_count": null,
   "id": "36ed21a0-8f38-43ef-b11e-22424618d7f0",
   "metadata": {},
   "outputs": [],
   "source": []
  },
  {
   "cell_type": "code",
   "execution_count": 127,
   "id": "c66fcf91-c9a5-414b-85d6-e5b4a3a56329",
   "metadata": {
    "scrolled": true
   },
   "outputs": [
    {
     "name": "stdout",
     "output_type": "stream",
     "text": [
      "116365820987729\n"
     ]
    }
   ],
   "source": [
    "r=\"\"\"px{a<2006:qkq,m>2090:A,rfg}\n",
    "pv{a>1716:R,A}\n",
    "lnx{m>1548:A,A}\n",
    "rfg{s<537:gd,x>2440:R,A}\n",
    "qs{s>3448:A,lnx}\n",
    "qkq{x<1416:A,crn}\n",
    "crn{x>2662:A,R}\n",
    "in{s<1351:px,qqz}\n",
    "qqz{s>2770:qs,m<1801:hdj,R}\n",
    "gd{a>3333:R,R}\n",
    "hdj{m>838:A,pv}\n",
    "\n",
    "{x=787,m=2655,a=1222,s=2876}\n",
    "{x=1679,m=44,a=2067,s=496}\n",
    "{x=2036,m=264,a=79,s=2244}\n",
    "{x=2461,m=1339,a=466,s=291}\n",
    "{x=2127,m=1623,a=2188,s=1013}\"\"\"\n",
    "from aocd import get_data\n",
    "import copy\n",
    "r=get_data(day=19, year=2023)\n",
    "rules,items=r.split('\\n\\n')\n",
    "R={}\n",
    "for rule in rules.split('\\n'):\n",
    "    name,_rule=rule.split('{')\n",
    "    checks=_rule.split(',')\n",
    "    checks[-1]=checks[-1][:-1]\n",
    "   #print(name,checks)\n",
    "    C=[]\n",
    "    for check in checks[:-1]:\n",
    "        comp,rul=check.split(':')\n",
    "        comp=[comp[0],comp[1],int(comp[2:])]\n",
    "        C.append((comp,rul))\n",
    "    #C.append(('True',checks[-1]))\n",
    "    R[name]=C,checks[-1]\n",
    "tot=0\n",
    "def tel(interval,name):\n",
    "    #print(\"enter\",name)\n",
    "    global tot\n",
    "    if name == \"R\":\n",
    "        return\n",
    "    if name == \"A\":\n",
    "        prod=1\n",
    "        for k in interval:\n",
    "            prod*=(interval[k][1]-interval[k][0]+1)\n",
    "        tot+=prod\n",
    "        return\n",
    "    rules,default=R[name]\n",
    "    for comp, target in rules:\n",
    "        var,cmp,n=comp\n",
    "        l,h=interval[var]\n",
    "        if cmp =='>':\n",
    "            T= (max(n+1 , l), h)\n",
    "            F= (l, min(n, h))\n",
    "        else:\n",
    "            T= (l,min(h,n-1))\n",
    "            F= (max(l,n), h)\n",
    "        if T[0]<=T[1]: # check geldig interval\n",
    "            interval[var]=T\n",
    "            tel(copy.deepcopy(interval),target)\n",
    "        if F[0]<=F[1]: # check geldig interval\n",
    "            interval[var]=F\n",
    "    if (comp,target)==rules[-1]:\n",
    "        tel(interval,default)            \n",
    "\n",
    "tel({key:(1,4000) for key in \"xmas\"},'in')\n",
    "print(tot)"
   ]
  },
  {
   "cell_type": "code",
   "execution_count": 100,
   "id": "6054a562-0930-429c-9669-1b917f2af044",
   "metadata": {},
   "outputs": [
    {
     "data": {
      "text/plain": [
       "152088874868000"
      ]
     },
     "execution_count": 100,
     "metadata": {},
     "output_type": "execute_result"
    }
   ],
   "source": [
    "116365820987729"
   ]
  },
  {
   "cell_type": "code",
   "execution_count": 80,
   "id": "5b04297d-ef53-4e84-b91d-7f8a81da419e",
   "metadata": {},
   "outputs": [
    {
     "data": {
      "text/plain": [
       "7297347111096"
      ]
     },
     "execution_count": 80,
     "metadata": {},
     "output_type": "execute_result"
    }
   ],
   "source": [
    "qq={'x': (1, 1415), 'm': (2091, 4000), 'a': (1, 2005), 's': (1, 1350)}\n",
    "prod=1\n",
    "for k in qq:\n",
    "    prod*=(qq[k][1]-qq[k][0])\n",
    "prod"
   ]
  },
  {
   "cell_type": "code",
   "execution_count": 49,
   "id": "dd56eb05-3d23-43e9-be97-733e73000b2d",
   "metadata": {},
   "outputs": [
    {
     "data": {
      "text/plain": [
       "('qqz', 'm<1801:hdj,', 'm', '<', '1801')"
      ]
     },
     "execution_count": 49,
     "metadata": {},
     "output_type": "execute_result"
    }
   ],
   "source": [
    "import re\n",
    "q='qqz{s>2770:qs,m<1801:hdj,R}'\n",
    "qq=re.match(r\"([a-z]+){(([xmas]+)([\\<>]+)(\\d+):[a-z]+,)+[a-zAR]+}\",q)\n",
    "qq.groups()"
   ]
  },
  {
   "cell_type": "code",
   "execution_count": 54,
   "id": "99f6f231-fbe9-4ff8-902a-8aeeb3de5a6a",
   "metadata": {},
   "outputs": [
    {
     "data": {
      "text/plain": [
       "{'x': (1, 4000), 'm': (1, 4000), 'a': (1, 4000), 's': (1, 4000)}"
      ]
     },
     "execution_count": 54,
     "metadata": {},
     "output_type": "execute_result"
    }
   ],
   "source": [
    "{key:(1,4000) for key in \"xmas\"}"
   ]
  },
  {
   "cell_type": "code",
   "execution_count": 64,
   "id": "328d45f0-362c-4544-9454-9f2d34b3e912",
   "metadata": {},
   "outputs": [
    {
     "data": {
      "text/plain": [
       "{'px': ([(['a', '<', 2006], 'qkq'), (['m', '>', 2090], 'A')], 'rfg'),\n",
       " 'pv': ([(['a', '>', 1716], 'R')], 'A'),\n",
       " 'lnx': ([(['m', '>', 1548], 'A')], 'A'),\n",
       " 'rfg': ([(['s', '<', 537], 'gd'), (['x', '>', 2440], 'R')], 'A'),\n",
       " 'qs': ([(['s', '>', 3448], 'A')], 'lnx'),\n",
       " 'qkq': ([(['x', '<', 1416], 'A')], 'crn'),\n",
       " 'crn': ([(['x', '>', 2662], 'A')], 'R'),\n",
       " 'in': ([(['s', '<', 1351], 'px')], 'qqz'),\n",
       " 'qqz': ([(['s', '>', 2770], 'qs'), (['m', '<', 1801], 'hdj')], 'R'),\n",
       " 'gd': ([(['a', '>', 3333], 'R')], 'R'),\n",
       " 'hdj': ([(['m', '>', 838], 'A')], 'pv')}"
      ]
     },
     "execution_count": 64,
     "metadata": {},
     "output_type": "execute_result"
    }
   ],
   "source": [
    "R"
   ]
  },
  {
   "cell_type": "code",
   "execution_count": null,
   "id": "a9c51a0c-3e7f-4cee-a369-ee177a442c41",
   "metadata": {},
   "outputs": [],
   "source": []
  }
 ],
 "metadata": {
  "kernelspec": {
   "display_name": "Python 3 (ipykernel)",
   "language": "python",
   "name": "python3"
  },
  "language_info": {
   "codemirror_mode": {
    "name": "ipython",
    "version": 3
   },
   "file_extension": ".py",
   "mimetype": "text/x-python",
   "name": "python",
   "nbconvert_exporter": "python",
   "pygments_lexer": "ipython3",
   "version": "3.11.6"
  }
 },
 "nbformat": 4,
 "nbformat_minor": 5
}
