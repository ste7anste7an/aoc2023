{
 "cells": [
  {
   "cell_type": "code",
   "execution_count": 11,
   "id": "c345b7c6-ed3a-4396-850d-822f5374e069",
   "metadata": {},
   "outputs": [
    {
     "name": "stdout",
     "output_type": "stream",
     "text": [
      "38\n",
      "39\n",
      "25\n",
      "20\n",
      "741000\n"
     ]
    }
   ],
   "source": [
    "r=\"\"\"Time:      7  15   30\n",
    "Distance:  9  40  200\"\"\"\n",
    "r=\"\"\"Time:        47     84     74     67\n",
    "Distance:   207   1394   1209   1014\"\"\"\n",
    "r=r.split('\\n')\n",
    "\n",
    "t=[int(i) for i in r[0].split(':')[1].split()]\n",
    "d=[int(i) for i in r[1].split(':')[1].split()]\n",
    "p=1\n",
    "for ra in range(len(t)):\n",
    "    cnt=0\n",
    "    for i in range(1,t[ra]):\n",
    "        vt=i\n",
    "        rt=t[ra]-i\n",
    "        dis=rt*vt\n",
    "        if dis>d[ra]:\n",
    "            cnt+=1\n",
    "    print(cnt)\n",
    "    p*=cnt\n",
    "print(p)"
   ]
  },
  {
   "cell_type": "code",
   "execution_count": 15,
   "id": "15d277b1-779c-44ce-bf1f-7ff69a9fcef6",
   "metadata": {},
   "outputs": [
    {
     "name": "stdout",
     "output_type": "stream",
     "text": [
      "47847467 207139412091014\n",
      "38220708\n",
      "38220708\n"
     ]
    }
   ],
   "source": [
    "r=\"\"\"Time:      7  15   30\n",
    "Distance:  9  40  200\"\"\"\n",
    "r=\"\"\"Time:        47     84     74     67\n",
    "Distance:   207   1394   1209   1014\"\"\"\n",
    "r=r.split('\\n')\n",
    "\n",
    "t=int(r[0].split(':')[1].replace(\" \",\"\"))\n",
    "d=int( r[1].split(':')[1].replace(\" \",\"\"))\n",
    "print(t,d)\n",
    "p=1\n",
    "\n",
    "cnt=0\n",
    "for i in range(1,t):\n",
    "    vt=i\n",
    "    rt=t-i\n",
    "    dis=rt*vt\n",
    "    if dis>d:\n",
    "        cnt+=1\n",
    "print(cnt)\n",
    "p*=cnt\n",
    "print(p)"
   ]
  },
  {
   "cell_type": "code",
   "execution_count": null,
   "id": "41ecb45b-2b6c-48af-a918-af0049d46086",
   "metadata": {},
   "outputs": [],
   "source": []
  }
 ],
 "metadata": {
  "kernelspec": {
   "display_name": "Python 3 (ipykernel)",
   "language": "python",
   "name": "python3"
  },
  "language_info": {
   "codemirror_mode": {
    "name": "ipython",
    "version": 3
   },
   "file_extension": ".py",
   "mimetype": "text/x-python",
   "name": "python",
   "nbconvert_exporter": "python",
   "pygments_lexer": "ipython3",
   "version": "3.11.6"
  }
 },
 "nbformat": 4,
 "nbformat_minor": 5
}
