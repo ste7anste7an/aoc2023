{
 "cells": [
  {
   "cell_type": "code",
   "execution_count": 36,
   "id": "0513915a-bb77-4b8f-8b11-79d30435f8ac",
   "metadata": {},
   "outputs": [
    {
     "ename": "SyntaxError",
     "evalue": "unterminated string literal (detected at line 25) (2409970446.py, line 25)",
     "output_type": "error",
     "traceback": [
      "\u001b[0;36m  Cell \u001b[0;32mIn[36], line 25\u001b[0;36m\u001b[0m\n\u001b[0;31m    score=sorted([for i,j in p.items() if i!='J\"])[::-1]\u001b[0m\n\u001b[0m                                             ^\u001b[0m\n\u001b[0;31mSyntaxError\u001b[0m\u001b[0;31m:\u001b[0m unterminated string literal (detected at line 25)\n"
     ]
    }
   ],
   "source": [
    "from collections import Counter\n",
    "\n",
    "r=\"\"\"32T3K 765\n",
    "T55J5 684\n",
    "KK677 28\n",
    "KTJJT 220\n",
    "QQQJA 483\"\"\"\n",
    "\n",
    "r=open('day7_inp.txt').read()\n",
    "r=r.split('\\n')\n",
    "\n",
    "st=\"A, K, Q, J, T, 9, 8, 7, 6, 5, 4, 3, 2\".split(',')\n",
    "rep={'A':'Z','K':'Y','Q':'X','J':'1','T':'V'}\n",
    "\n",
    "\n",
    "cards=[]\n",
    "cardv=[]\n",
    "for card in r:\n",
    "    c,b=card.split()\n",
    "    #cards.append((c,int(r)))\n",
    "    p=Counter(c)\n",
    "    if p['J']==5:\n",
    "        score=[5]\n",
    "    else:\n",
    "        score=sorted([for i,j in p.items() if i!='J\"])[::-1]\n",
    "        score[0]+=p['J']\n",
    "    for rr in rep:\n",
    "        c=c.replace(rr,rep[rr])\n",
    "    cards.append((score,c,int(b)))\n",
    "\n",
    "cards.sort()\n",
    "#for card in r:\n",
    "sc=0\n",
    "for i,c in enumerate(cards):\n",
    "    sc+=(i+1)*c[2]\n",
    "sc\n",
    "    "
   ]
  },
  {
   "cell_type": "code",
   "execution_count": 31,
   "id": "3cdc5933-fd61-4419-b70a-24235c213d3b",
   "metadata": {},
   "outputs": [
    {
     "data": {
      "text/plain": [
       "Counter({'J': 3})"
      ]
     },
     "execution_count": 31,
     "metadata": {},
     "output_type": "execute_result"
    }
   ],
   "source": [
    "Counter('JJJ')"
   ]
  },
  {
   "cell_type": "code",
   "execution_count": 22,
   "id": "115872b0-5794-4fab-b37e-caf78ad50e58",
   "metadata": {},
   "outputs": [
    {
     "data": {
      "text/plain": [
       "[([2, 1, 1, 1], '32V3Y', 765),\n",
       " ([2, 2, 1], 'YVWWV', 220),\n",
       " ([2, 2, 1], 'YY677', 28),\n",
       " ([3, 1, 1], 'V55W5', 684),\n",
       " ([3, 1, 1], 'XXXWZ', 483)]"
      ]
     },
     "execution_count": 22,
     "metadata": {},
     "output_type": "execute_result"
    }
   ],
   "source": [
    "cards"
   ]
  },
  {
   "cell_type": "code",
   "execution_count": null,
   "id": "9f1df770-a2d7-45b9-bc29-c4bde778d00a",
   "metadata": {},
   "outputs": [],
   "source": []
  }
 ],
 "metadata": {
  "kernelspec": {
   "display_name": "Python 3 (ipykernel)",
   "language": "python",
   "name": "python3"
  },
  "language_info": {
   "codemirror_mode": {
    "name": "ipython",
    "version": 3
   },
   "file_extension": ".py",
   "mimetype": "text/x-python",
   "name": "python",
   "nbconvert_exporter": "python",
   "pygments_lexer": "ipython3",
   "version": "3.11.6"
  }
 },
 "nbformat": 4,
 "nbformat_minor": 5
}
