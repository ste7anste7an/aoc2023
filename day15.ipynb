{
 "cells": [
  {
   "cell_type": "code",
   "execution_count": 10,
   "id": "6c2a2dd7-29a3-4633-8b0d-d1f37e7b0ac2",
   "metadata": {},
   "outputs": [
    {
     "name": "stdout",
     "output_type": "stream",
     "text": [
      "513643\n"
     ]
    }
   ],
   "source": [
    "r=b\"\"\"rn=1,cm-,qp=3,cm=2,qp-,pc=4,ot=9,ab=5,pc-,pc=6,ot=7\"\"\"\n",
    "#r=open('day15_inp.txt','rb').read()\n",
    "r=r.split(b',')\n",
    "\n",
    "def hash(rr):\n",
    "    cur=0\n",
    "    for c in rr:\n",
    "        cur+=c\n",
    "        cur*=17\n",
    "        cur%=256\n",
    "    return cur\n",
    "\n",
    "tot=0\n",
    "for rr in r:\n",
    "    tot+=hash(rr)\n",
    "    #print(cur)\n",
    "print(tot)"
   ]
  },
  {
   "cell_type": "markdown",
   "id": "c051e296-f3c0-4d87-b614-7dc4c8caf663",
   "metadata": {},
   "source": [
    "Determine the ASCII code for the current character of the string.\r\n",
    "Increase the current value by the ASCII code you just determined.\r\n",
    "Set the current value to itself multiplied by 17.\r\n",
    "Set the current value to the remainder of dividing itself by 256.\n",
    "\n",
    "\n",
    "The current value starts at 0.\r\n",
    "The first character is H; its ASCII code is 72.\r\n",
    "The current value increases to 72.\r\n",
    "The current value is multiplied by 17 to become 1224.\r\n",
    "The current value becomes 200 (the remainder of 1224 divided by 256).\r\n",
    "The next character is A; its ASCII code is 65.\r\n",
    "The current value increases to 265.\r\n",
    "The current value is multiplied by 17 to become 4505.\r\n",
    "The current value becomes 153 (the remainder of 4505 divided by 256).\r\n",
    "The next character is S; its ASCII code is 83.\r\n",
    "The current value increases to 236.\r\n",
    "The current value is multiplied by 17 to become 4012.\r\n",
    "The current value becomes 172 (the remainder of 4012 divided by 256).\r\n",
    "The next character is H; its ASCII code is 72.\r\n",
    "The current value increases to 244.\r\n",
    "The current value is multiplied by 17 to become 4148.\r\n",
    "The current value becomes 52 (the remainder of 4148 divided by 256)."
   ]
  },
  {
   "cell_type": "code",
   "execution_count": 41,
   "id": "4500cd49-d2bd-4483-83c6-4a6fcdfc1553",
   "metadata": {},
   "outputs": [
    {
     "name": "stdout",
     "output_type": "stream",
     "text": [
      "265345\n"
     ]
    }
   ],
   "source": [
    "r=b\"\"\"rn=1,cm-,qp=3,cm=2,qp-,pc=4,ot=9,ab=5,pc-,pc=6,ot=7\"\"\"\n",
    "r=open('day15_inp.txt','rb').read()\n",
    "r=r.split(b',')\n",
    "\n",
    "def hash(rr):\n",
    "    cur=0\n",
    "    for c in rr:\n",
    "        cur+=c\n",
    "        cur*=17\n",
    "        cur%=256\n",
    "    return cur\n",
    "\n",
    "import re\n",
    "box=[{} for i in range(256)]\n",
    "\n",
    "tot=0\n",
    "for rr in r:\n",
    "    label,remain=re.split(b'[=-]+',rr)\n",
    "    op=chr(rr[len(label)])\n",
    "    h=hash(label)\n",
    "    \n",
    "    if op=='-':\n",
    "        if label in box[h]:\n",
    "            del(box[h][label])\n",
    "    if op=='=':\n",
    "        box[h][label]=remain\n",
    "    \n",
    "    #print(cur)\n",
    "prod=1\n",
    "n=256\n",
    "ans=0\n",
    "for b in range(n):\n",
    "    if box[b]!={}:\n",
    "        for i,l in enumerate(box[b]):\n",
    "            #print(b+1,i,box[b][l])\n",
    "            ans+=(b+1)*(i+1)*int(box[b][l])\n",
    "print(ans)"
   ]
  },
  {
   "cell_type": "code",
   "execution_count": 25,
   "id": "d4af6125-8dde-4b2e-886c-4898842be56c",
   "metadata": {},
   "outputs": [
    {
     "data": {
      "text/plain": [
       "[[],\n",
       " [],\n",
       " [],\n",
       " [],\n",
       " [],\n",
       " [],\n",
       " [],\n",
       " [],\n",
       " [],\n",
       " [],\n",
       " [10],\n",
       " [],\n",
       " [],\n",
       " [],\n",
       " [],\n",
       " [],\n",
       " [],\n",
       " [],\n",
       " [],\n",
       " []]"
      ]
     },
     "execution_count": 25,
     "metadata": {},
     "output_type": "execute_result"
    }
   ],
   "source": [
    "One plus the box number of the lens in question.\n",
    "The slot number of the lens within the box: 1 for the first lens, 2 for the second lens, and so on.\n",
    "The focal length of the lens."
   ]
  },
  {
   "cell_type": "code",
   "execution_count": 29,
   "id": "721dbee0-7466-4c80-a401-9fd0d8aa4c9b",
   "metadata": {},
   "outputs": [
    {
     "name": "stdout",
     "output_type": "stream",
     "text": [
      "[{b'rn': b'1', b'cm': b'2'}, {}, {}, {b'ot': b'7', b'ab': b'5', b'pc': b'6'}, {}, {}, {}, {}, {}, {}, {}, {}, {}, {}, {}, {}, {}, {}, {}, {}, {}, {}, {}, {}, {}, {}, {}, {}, {}, {}, {}, {}, {}, {}, {}, {}, {}, {}, {}, {}, {}, {}, {}, {}, {}, {}, {}, {}, {}, {}, {}, {}, {}, {}, {}, {}, {}, {}, {}, {}, {}, {}, {}, {}, {}, {}, {}, {}, {}, {}, {}, {}, {}, {}, {}, {}, {}, {}, {}, {}, {}, {}, {}, {}, {}, {}, {}, {}, {}, {}, {}, {}, {}, {}, {}, {}, {}, {}, {}, {}, {}, {}, {}, {}, {}, {}, {}, {}, {}, {}, {}, {}, {}, {}, {}, {}, {}, {}, {}, {}, {}, {}, {}, {}, {}, {}, {}, {}, {}, {}, {}, {}, {}, {}, {}, {}, {}, {}, {}, {}, {}, {}, {}, {}, {}, {}, {}, {}, {}, {}, {}, {}, {}, {}, {}, {}, {}, {}, {}, {}, {}, {}, {}, {}, {}, {}, {}, {}, {}, {}, {}, {}, {}, {}, {}, {}, {}, {}, {}, {}, {}, {}, {}, {}, {}, {}, {}, {}, {}, {}, {}, {}, {}, {}, {}, {}, {}, {}, {}, {}, {}, {}, {}, {}, {}, {}, {}, {}, {}, {}, {}, {}, {}, {}, {}, {}, {}, {}, {}, {}, {}, {}, {}, {}, {}, {}, {}, {}, {}, {}, {}, {}, {}, {}, {}, {}, {}, {}, {}, {}, {}, {}, {}, {}, {}, {}, {}, {}, {}, {}, {}, {}, {}, {}, {}, {}]\n"
     ]
    }
   ],
   "source": [
    "print(box)"
   ]
  },
  {
   "cell_type": "code",
   "execution_count": null,
   "id": "a43d7183-a047-4252-8e3c-1369083c5099",
   "metadata": {},
   "outputs": [],
   "source": []
  }
 ],
 "metadata": {
  "kernelspec": {
   "display_name": "Python 3 (ipykernel)",
   "language": "python",
   "name": "python3"
  },
  "language_info": {
   "codemirror_mode": {
    "name": "ipython",
    "version": 3
   },
   "file_extension": ".py",
   "mimetype": "text/x-python",
   "name": "python",
   "nbconvert_exporter": "python",
   "pygments_lexer": "ipython3",
   "version": "3.11.6"
  }
 },
 "nbformat": 4,
 "nbformat_minor": 5
}
