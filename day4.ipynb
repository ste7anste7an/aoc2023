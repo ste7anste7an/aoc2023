{
 "cells": [
  {
   "cell_type": "code",
   "execution_count": 16,
   "id": "e9d6abf1-4e45-44c1-9f71-46e561881bf6",
   "metadata": {},
   "outputs": [
    {
     "name": "stdout",
     "output_type": "stream",
     "text": [
      "32609\n"
     ]
    }
   ],
   "source": [
    "r=\"\"\"Card 1: 41 48 83 86 17 | 83 86  6 31 17  9 48 53\n",
    "Card 2: 13 32 20 16 61 | 61 30 68 82 17 32 24 19\n",
    "Card 3:  1 21 53 59 44 | 69 82 63 72 16 21 14  1\n",
    "Card 4: 41 92 73 84 69 | 59 84 76 51 58  5 54 83\n",
    "Card 5: 87 83 26 28 32 | 88 30 70 12 93 22 82 36\n",
    "Card 6: 31 18 13 56 72 | 74 77 10 23 35 67 36 11\"\"\"\n",
    "r=open('day4_inp1.txt','r').read()\n",
    "r=r.split('\\n')\n",
    "tot=0\n",
    "for card in r:\n",
    "    c,wy = card.split(':')\n",
    "    c=c.split()[1]\n",
    "    w,y=wy.split('|')\n",
    "    nw=set([int(i) for i in w.split()])\n",
    "    ny=set([int(i) for i in y.split()])\n",
    "    #print(c,nw,ny)\n",
    "    score=0\n",
    "    yyy=\"\"\n",
    "    for yy in ny:\n",
    "        if yy in nw:\n",
    "            yyy+=\" %d\"%yy\n",
    "            score=1 if score==0 else score*2\n",
    "    #print(yyy,score)\n",
    "    tot+=score\n",
    "print(tot)\n",
    "            "
   ]
  },
  {
   "cell_type": "code",
   "execution_count": 138,
   "id": "6840ba06-e890-4265-9d5a-f1d94e0da280",
   "metadata": {},
   "outputs": [
    {
     "data": {
      "text/plain": [
       "[('6', '', ''),\n",
       " ('', '31', ''),\n",
       " ('', '18', ''),\n",
       " ('', '13', ''),\n",
       " ('', '56', ''),\n",
       " ('', '72', ''),\n",
       " ('', '', '|'),\n",
       " ('', '74', ''),\n",
       " ('', '77', ''),\n",
       " ('', '10', ''),\n",
       " ('', '23', ''),\n",
       " ('', '35', ''),\n",
       " ('', '67', ''),\n",
       " ('', '36', ''),\n",
       " ('', '11', '')]"
      ]
     },
     "execution_count": 138,
     "metadata": {},
     "output_type": "execute_result"
    }
   ],
   "source": [
    "import re\n",
    "c=\"Card 6: 31 18 13 56 72 | 74 77 10 23 35 67 36 11\"\n",
    "q=re.findall(r\"Card (\\d+):|([\\d]+)+|(\\|)\",c)\n",
    "q"
   ]
  },
  {
   "cell_type": "code",
   "execution_count": 116,
   "id": "468ac354-32ce-46ca-a9b7-a7ce709c09a6",
   "metadata": {
    "scrolled": true
   },
   "outputs": [
    {
     "ename": "AttributeError",
     "evalue": "'NoneType' object has no attribute 'groups'",
     "output_type": "error",
     "traceback": [
      "\u001b[0;31m---------------------------------------------------------------------------\u001b[0m",
      "\u001b[0;31mAttributeError\u001b[0m                            Traceback (most recent call last)",
      "Cell \u001b[0;32mIn[116], line 1\u001b[0m\n\u001b[0;32m----> 1\u001b[0m \u001b[43mq\u001b[49m\u001b[38;5;241;43m.\u001b[39;49m\u001b[43mgroups\u001b[49m()\n",
      "\u001b[0;31mAttributeError\u001b[0m: 'NoneType' object has no attribute 'groups'"
     ]
    }
   ],
   "source": [
    "q.groups()"
   ]
  },
  {
   "cell_type": "code",
   "execution_count": 125,
   "id": "3d48b3d7-7290-4066-bf4b-ba44d02d8377",
   "metadata": {},
   "outputs": [
    {
     "data": {
      "text/plain": [
       "['12', '23', '45']"
      ]
     },
     "execution_count": 125,
     "metadata": {},
     "output_type": "execute_result"
    }
   ],
   "source": [
    "t=re.findall(r\"([\\d]+)+\",\"12 23 45\")\n",
    "t"
   ]
  },
  {
   "cell_type": "code",
   "execution_count": 76,
   "id": "daf17267-65ba-4e45-b34c-bd92ebc4ce86",
   "metadata": {},
   "outputs": [
    {
     "name": "stdout",
     "output_type": "stream",
     "text": [
      "{1: 1, 2: 2, 3: 3, 4: 6, 5: 12, 6: 24, 7: 24, 8: 48, 9: 48, 10: 93, 11: 186, 12: 318, 13: 634, 14: 1082, 15: 2164, 16: 4292, 17: 6420, 18: 12840, 19: 4704, 20: 5023, 21: 1, 22: 2, 23: 4, 24: 8, 25: 16, 26: 32, 27: 32, 28: 64, 29: 96, 30: 128, 31: 256, 32: 511, 33: 1020, 34: 1908, 35: 1389, 36: 2762, 37: 5524, 38: 8190, 39: 16380, 40: 31740, 41: 30351, 42: 38542, 43: 46733, 44: 38543, 45: 1, 46: 2, 47: 4, 48: 8, 49: 16, 50: 32, 51: 48, 52: 96, 53: 192, 54: 384, 55: 768, 56: 1535, 57: 3060, 58: 6116, 59: 10697, 60: 21394, 61: 36640, 62: 36592, 63: 70028, 64: 69836, 65: 69837, 66: 1, 67: 1, 68: 2, 69: 4, 70: 8, 71: 16, 72: 30, 73: 60, 74: 120, 75: 210, 76: 419, 77: 838, 78: 1676, 79: 2933, 80: 2929, 81: 5850, 82: 11684, 83: 23368, 84: 46556, 85: 80380, 86: 111275, 87: 109599, 88: 219198, 89: 1, 90: 2, 91: 4, 92: 8, 93: 8, 94: 16, 95: 32, 96: 63, 97: 126, 98: 252, 99: 504, 100: 1008, 101: 2014, 102: 4024, 103: 8048, 104: 15836, 105: 30648, 106: 45428, 107: 90793, 108: 181460, 109: 138740, 110: 276976, 111: 276976, 112: 551938, 113: 690679, 114: 1, 115: 2, 116: 4, 117: 8, 118: 16, 119: 24, 120: 47, 121: 94, 122: 188, 123: 376, 124: 705, 125: 1394, 126: 2782, 127: 5564, 128: 11034, 129: 22068, 130: 44112, 131: 77190, 132: 154192, 133: 308384, 134: 550212, 135: 788553, 136: 787159, 137: 1420126, 138: 1414562, 139: 1, 140: 2, 141: 4, 142: 8, 143: 16, 144: 32, 145: 64, 146: 128, 147: 256, 148: 512, 149: 1024, 150: 2047, 151: 4092, 152: 8180, 153: 12260, 154: 21401, 155: 42802, 156: 85540, 157: 170952, 158: 341136, 159: 682272, 160: 1364544, 161: 682272, 162: 980606, 163: 865485, 164: 1, 165: 2, 166: 2, 167: 3, 168: 6, 169: 12, 170: 22, 171: 44, 172: 66, 173: 132, 174: 258, 175: 516, 176: 988, 177: 460, 178: 457, 179: 1, 180: 2, 181: 4, 182: 8, 183: 15, 184: 30, 185: 60, 186: 60, 187: 120, 188: 240, 189: 360, 190: 720, 191: 1423, 192: 699, 193: 1390, 194: 2780, 195: 4831, 196: 9662, 197: 19264, 198: 38528, 199: 35508, 200: 60994, 201: 41730, 202: 4832, 203: 1, 204: 1, 205: 2, 206: 4, 207: 8, 208: 16, 209: 16, 210: 32, 211: 64, 212: 126, 213: 252, 214: 496, 215: 991, 216: 1914, 217: 2821, 218: 5114, 219: 9976}\n",
      "14624680\n"
     ]
    }
   ],
   "source": [
    "r=\"\"\"Card 1: 41 48 83 86 17 | 83 86  6 31 17  9 48 53\n",
    "Card 2: 13 32 20 16 61 | 61 30 68 82 17 32 24 19\n",
    "Card 3:  1 21 53 59 44 | 69 82 63 72 16 21 14  1\n",
    "Card 4: 41 92 73 84 69 | 59 84 76 51 58  5 54 83\n",
    "Card 5: 87 83 26 28 32 | 88 30 70 12 93 22 82 36\n",
    "Card 6: 31 18 13 56 72 | 74 77 10 23 35 67 36 11\"\"\"\n",
    "r=open('day4_inp1.txt','r').read()\n",
    "r=r.split('\\n')\n",
    "tot=0\n",
    "cards={}\n",
    "for card in r:\n",
    "    c,wy = card.split(':')\n",
    "    c=int(c.split()[1])\n",
    "    w,y=wy.split('|')\n",
    "    nw=set([int(i) for i in w.split()])\n",
    "    ny=set([int(i) for i in y.split()])\n",
    "    #print(c,nw,ny)\n",
    "    score=0\n",
    "    yyy=\"\"\n",
    "    for yy in ny:\n",
    "        if yy in nw:\n",
    "            yyy+=\" %d\"%yy\n",
    "            score+=1\n",
    "    #print(yyy,score)\n",
    "    tot+=score\n",
    "    cards[c]=score\n",
    "nc={}\n",
    "for card in cards:\n",
    "     nc[card]=1\n",
    "#nc={1:1}\n",
    "for card in cards:\n",
    "    #print('score card %d=%d'%(card,cards[card]))\n",
    "    for cc in range(card+1,card+cards[card]+1):\n",
    "        nc[cc]+=nc[card]\n",
    "        \n",
    "s=0\n",
    "print(nc)\n",
    "for c in nc:\n",
    "    s+=nc[c]\n",
    "print(s)\n"
   ]
  },
  {
   "cell_type": "code",
   "execution_count": 61,
   "id": "009105f6-dc05-40b7-b235-3ad0c79711da",
   "metadata": {},
   "outputs": [
    {
     "data": {
      "text/plain": [
       "{1: 4, 2: 2, 3: 2, 4: 1, 5: 0, 6: 0}"
      ]
     },
     "execution_count": 61,
     "metadata": {},
     "output_type": "execute_result"
    }
   ],
   "source": [
    "cards"
   ]
  },
  {
   "cell_type": "code",
   "execution_count": 26,
   "id": "c4e5ee7d-d4b0-4d97-8201-c84b0afcd3cc",
   "metadata": {},
   "outputs": [
    {
     "data": {
      "text/plain": [
       "False"
      ]
     },
     "execution_count": 26,
     "metadata": {},
     "output_type": "execute_result"
    }
   ],
   "source": [
    "2 in nc"
   ]
  },
  {
   "cell_type": "code",
   "execution_count": null,
   "id": "75de2403-4b20-4621-938f-61b635f204bb",
   "metadata": {},
   "outputs": [],
   "source": []
  }
 ],
 "metadata": {
  "kernelspec": {
   "display_name": "Python 3 (ipykernel)",
   "language": "python",
   "name": "python3"
  },
  "language_info": {
   "codemirror_mode": {
    "name": "ipython",
    "version": 3
   },
   "file_extension": ".py",
   "mimetype": "text/x-python",
   "name": "python",
   "nbconvert_exporter": "python",
   "pygments_lexer": "ipython3",
   "version": "3.11.6"
  }
 },
 "nbformat": 4,
 "nbformat_minor": 5
}
