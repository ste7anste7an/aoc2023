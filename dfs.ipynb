{
 "cells": [
  {
   "cell_type": "code",
   "execution_count": 2,
   "id": "bc6618c1-68f9-4f34-a138-327ec13e4dd7",
   "metadata": {},
   "outputs": [
    {
     "name": "stdout",
     "output_type": "stream",
     "text": [
      "5\n",
      "3\n",
      "2\n",
      "4\n",
      "8\n",
      "7\n"
     ]
    }
   ],
   "source": [
    "graph = {\n",
    "  '5' : ['3','7'],\n",
    "  '3' : ['2', '4'],\n",
    "  '7' : ['8'],\n",
    "  '2' : [],\n",
    "  '4' : ['8'],\n",
    "  '8' : []\n",
    "}\n",
    "\n",
    "visited = set()\n",
    "\n",
    "def dfs(visited, graph, node):  #function for dfs \n",
    "    if node not in visited:\n",
    "        print (node)\n",
    "        visited.add(node)\n",
    "        for neighbour in graph[node]:\n",
    "            dfs(visited, graph, neighbour)\n",
    "\n",
    "dfs(visited,graph,'5')"
   ]
  },
  {
   "cell_type": "code",
   "execution_count": null,
   "id": "73667028-5c4b-41f5-b957-edfc75a24ab5",
   "metadata": {},
   "outputs": [],
   "source": [
    "graph = {\n",
    "  '5' : ['3','7'],\n",
    "  '3' : ['2', '4'],\n",
    "  '7' : ['8'],\n",
    "  '2' : [],\n",
    "  '4' : ['8'],\n",
    "  '8' : []\n",
    "}\n",
    "\n",
    "visited=set()\n"
   ]
  },
  {
   "cell_type": "code",
   "execution_count": 38,
   "id": "e46cf588-0f33-4234-aba6-b86de451f769",
   "metadata": {},
   "outputs": [],
   "source": [
    "maze = [[0, 0, 0, 0, 0, 0, 0, 0, 0, 0, 0, 0],\n",
    "            [0, 1, 1, 1, 0, 1, 1, 1, 1, 1, 1, 0],\n",
    "            [0, 1, 0, 1, 0, 1, 0, 0, 0, 0, 1, 0],\n",
    "            [0, 0, 0, 1, 0, 1, 1, 1, 1, 0, 1, 0],\n",
    "            [0, 1, 1, 1, 1, 0, 0, 0, 1, 0, 1, 1],\n",
    "            [0, 0, 0, 0, 1, 0, 1, 0, 1, 0, 1, 0],\n",
    "            [0, 1, 1, 0, 1, 0, 1, 0, 1, 0, 1, 0],\n",
    "            [0, 0, 1, 0, 1, 0, 1, 0, 1, 0, 1, 0],\n",
    "            [0, 1, 1, 1, 1, 1, 1, 1, 1, 0, 1, 0],\n",
    "            [0, 0, 0, 0, 0, 0, 1, 0, 0, 0, 1, 0],\n",
    "            [1, 1, 1, 1, 1, 1, 1, 0, 1, 1, 1, 0],\n",
    "            [0, 0, 0, 0, 0, 0, 0, 0, 0, 0, 0, 0]]\n",
    "dir=[(1,0),(-1,0),(0,1),(0,-1)]\n",
    "w=len(maze[0])\n",
    "h=len(maze)\n",
    "start=(0,10)\n",
    "cur=start\n",
    "\n",
    "def add(c,d):\n",
    "    return (c[0]+d[0],c[1]+d[1])\n",
    "\n",
    "def get_maze(c):\n",
    "    return maze[c[1]][c[0]]\n",
    "\n",
    "def inmaze(c):\n",
    "    return c[0]>=0 and c[0]<w and c[1]>=0 and c[1]<h"
   ]
  },
  {
   "cell_type": "code",
   "execution_count": 39,
   "id": "fcf769fa-4674-4aa9-897d-178d2aba4f37",
   "metadata": {},
   "outputs": [],
   "source": [
    "curlist=[start]\n",
    "frontier=[start]\n",
    "visited=[start]\n",
    "solution={}\n",
    "while len(frontier)>0:\n",
    "    for d in dir:\n",
    "        if inmaze(add(cur,d)):\n",
    "            if get_maze(add(cur,d))==1 and add(cur,d) not in visited:\n",
    "                new_cell=add(cur,d)\n",
    "                frontier.append(new_cell)\n",
    "                #print(frontier)\n",
    "                solution[new_cell]=cur\n",
    "    cur=frontier[-1]\n",
    "    visited.append(cur)\n",
    "    frontier.pop()\n",
    "#solution\n",
    "            \n",
    "        \n",
    "\n"
   ]
  },
  {
   "cell_type": "code",
   "execution_count": 40,
   "id": "767128b3-8914-49fb-b080-8f46190aa679",
   "metadata": {},
   "outputs": [
    {
     "name": "stdout",
     "output_type": "stream",
     "text": [
      "[0, 0, 0, 0, 0, 0, 0, 0, 0, 0, 0, 0]\n",
      "[0, 1, 1, 1, 0, 1, 1, 1, 1, 1, 1, 0]\n",
      "[0, 1, 0, 1, 0, 1, 0, 0, 0, 0, 1, 0]\n",
      "[0, 0, 0, 1, 0, 1, 1, 1, 1, 0, 1, 0]\n",
      "[0, 1, 1, 1, 1, 0, 0, 0, 1, 0, 1, 1]\n",
      "[0, 0, 0, 0, 1, 0, 1, 0, 1, 0, 1, 0]\n",
      "[0, 1, 1, 0, 1, 0, 1, 0, 1, 0, 1, 0]\n",
      "[0, 0, 1, 0, 1, 0, 1, 0, 1, 0, 1, 0]\n",
      "[0, 1, 1, 1, 1, 1, 1, 1, 1, 0, 1, 0]\n",
      "[0, 0, 0, 0, 0, 0, 1, 0, 0, 0, 1, 0]\n",
      "[1, 1, 1, 1, 1, 1, 1, 0, 1, 1, 1, 0]\n",
      "[0, 0, 0, 0, 0, 0, 0, 0, 0, 0, 0, 0]\n",
      "\n",
      "\n",
      "[0, 0, 0, 0, 0, 0, 0, 0, 0, 0, 0, 0]\n",
      "[0, 1, 1, 1, 0, 2, 2, 2, 2, 2, 2, 0]\n",
      "[0, 1, 0, 1, 0, 2, 0, 0, 0, 0, 2, 0]\n",
      "[0, 0, 0, 1, 0, 2, 2, 2, 2, 0, 2, 0]\n",
      "[0, 1, 1, 1, 1, 0, 0, 0, 2, 0, 1, 1]\n",
      "[0, 0, 0, 0, 1, 0, 1, 0, 2, 0, 1, 0]\n",
      "[0, 1, 1, 0, 1, 0, 1, 0, 2, 0, 1, 0]\n",
      "[0, 0, 1, 0, 1, 0, 1, 0, 2, 0, 1, 0]\n",
      "[0, 1, 1, 1, 1, 1, 2, 2, 2, 0, 1, 0]\n",
      "[0, 0, 0, 0, 0, 0, 2, 0, 0, 0, 1, 0]\n",
      "[1, 2, 2, 2, 2, 2, 2, 0, 1, 1, 1, 0]\n",
      "[0, 0, 0, 0, 0, 0, 0, 0, 0, 0, 0, 0]\n"
     ]
    }
   ],
   "source": [
    "\n",
    "for m in maze:\n",
    "    print(m)\n",
    "print('\\n')\n",
    "c=(10,4)\n",
    "while c!=(1,10):\n",
    "    c=solution[c]\n",
    "    maze[c[1]][c[0]]=2\n",
    "\n",
    "for m in maze:\n",
    "    print(m)"
   ]
  },
  {
   "cell_type": "code",
   "execution_count": 31,
   "id": "b17842da-526f-49a5-9141-50f92275a46e",
   "metadata": {},
   "outputs": [
    {
     "data": {
      "text/plain": [
       "[[0, 0, 0, 0, 0, 0, 0, 0, 0, 0, 0, 0],\n",
       " [0, 1, 1, 1, 0, '#', '#', '#', '#', '#', '#', 0],\n",
       " [0, 1, 0, 1, 0, '#', 0, 0, 0, 0, '#', 0],\n",
       " [0, 0, 0, 1, 0, '#', '#', '#', '#', 0, '#', 0],\n",
       " [0, 1, 1, 1, 1, 0, 0, 0, '#', 0, 1, 1],\n",
       " [0, 0, 0, 0, 1, 0, 1, 0, '#', 0, 1, 0],\n",
       " [0, 1, 1, 0, 1, 0, 1, 0, '#', 0, 1, 0],\n",
       " [0, 0, 1, 0, 1, 0, 1, 0, '#', 0, 1, 0],\n",
       " [0, 1, 1, 1, 1, 1, '#', '#', '#', 0, 1, 0],\n",
       " [0, 0, 0, 0, 0, 0, '#', 0, 0, 0, 1, 0],\n",
       " [1, '#', '#', '#', '#', '#', '#', 0, 1, 1, 1, 0],\n",
       " [0, 0, 0, 0, 0, 0, 0, 0, 0, 0, 0, 0]]"
      ]
     },
     "execution_count": 31,
     "metadata": {},
     "output_type": "execute_result"
    }
   ],
   "source": [
    "maze"
   ]
  },
  {
   "cell_type": "code",
   "execution_count": null,
   "id": "309cfcc9-4464-434d-9ce6-f78b4970dab7",
   "metadata": {},
   "outputs": [],
   "source": []
  }
 ],
 "metadata": {
  "kernelspec": {
   "display_name": "Python 3 (ipykernel)",
   "language": "python",
   "name": "python3"
  },
  "language_info": {
   "codemirror_mode": {
    "name": "ipython",
    "version": 3
   },
   "file_extension": ".py",
   "mimetype": "text/x-python",
   "name": "python",
   "nbconvert_exporter": "python",
   "pygments_lexer": "ipython3",
   "version": "3.11.6"
  }
 },
 "nbformat": 4,
 "nbformat_minor": 5
}
