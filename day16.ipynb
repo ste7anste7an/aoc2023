{
 "cells": [
  {
   "cell_type": "code",
   "execution_count": null,
   "id": "fc3309af-b137-4120-a3b8-40c76a9a5ef6",
   "metadata": {
    "scrolled": true
   },
   "outputs": [
    {
     "name": "stdout",
     "output_type": "stream",
     "text": [
      "part 1\n",
      "6605\n"
     ]
    }
   ],
   "source": [
    "from functools import lru_cache\n",
    "\n",
    "r=open('day16_inp1.txt','r').read()\n",
    "#print(r)\n",
    "r=r.split('\\n')\n",
    "G=[[c for c in rr] for rr  in r]\n",
    "\n",
    "R=len(G)\n",
    "C=len(G[0])\n",
    "V=[[0 for c in range(C)] for r in range(R)]\n",
    "\n",
    "d={'U':(-1,0),'D':(1,0),'L':(0,-1),'R':(0,1)}\n",
    "\n",
    "reflect={'/': {'U':'R','D':'L','L':'D','R':'U'},\n",
    "         '\\\\':{'U':'L','D':'R','L':'U','R':'D'}}\n",
    "\n",
    "\n",
    "def count(V):\n",
    "    cnt=0\n",
    "    for r in range(R):\n",
    "        for c in range(C):\n",
    "            if V[r][c]:\n",
    "                cnt+=1\n",
    "    return cnt\n",
    "        \n",
    "\n",
    "def printv(V):\n",
    "    for r in range(R):\n",
    "        print(''.join(['#' if V[r][c] else '.' for c in range(C)]))\n",
    "\n",
    "def printg(G):\n",
    "    print('  0123456789')\n",
    "    for r in range(R):\n",
    "        print(\"%d \"%r+''.join([G[r][c] for c in range(C)]))\n",
    "\n",
    "\n",
    "def add(pos,dir):\n",
    "    return (pos[0]+d[dir][0],pos[1]+d[dir][1])\n",
    "\n",
    "\n",
    "\n",
    "VV={}\n",
    "\n",
    "#@lru_cache(maxsize=None)\n",
    "def follow(pos,dir):\n",
    "    global V,VV\n",
    "    r,c=pos\n",
    "    if r<0 or c<0 or r>R-1 or c>C-1:\n",
    "        return 1\n",
    "    l=G[r][c]\n",
    "    if (pos,dir,l) in VV:\n",
    "        #print('####')\n",
    "        #print(pos,dir,l)\n",
    "        return 1\n",
    "    VV[(pos,dir,l)]=1\n",
    "    V[r][c]+=1\n",
    "    #print(l,pos,dir)\n",
    "    match l:\n",
    "        case '.':\n",
    "            follow(add(pos,dir),dir)\n",
    "        case '-':\n",
    "            if dir in 'LR':\n",
    "                follow(add(pos,dir),dir)\n",
    "            if dir in 'UD':\n",
    "                follow(add(pos,'L'),'L')\n",
    "                follow(add(pos,'R'),'R')\n",
    "        case '|':\n",
    "            if dir in 'UD':\n",
    "                follow(add(pos,dir),dir)\n",
    "            if dir in 'LR':\n",
    "                follow(add(pos,'U'),'U')\n",
    "                follow(add(pos,'D'),'D')\n",
    "        case '/':\n",
    "            newdir=reflect['/'][dir]\n",
    "            follow(add(pos,newdir),newdir)\n",
    "        case '\\\\':\n",
    "            newdir=reflect['\\\\'][dir]\n",
    "            follow(add(pos,newdir),newdir)\n",
    "\n",
    "def get(pos,dir):\n",
    "    global V,VV\n",
    "    VV={}\n",
    "    V=[[0 for c in range(C)] for r in range(R)]    \n",
    "    follow(pos,dir)\n",
    "    return count(V)\n",
    "\n",
    "print(\"part 1\")\n",
    "print(get((0,0),'R'))\n",
    "ans=0\n",
    "for c in range(C):\n",
    "    ans=max(ans,get((0,c),'D'))\n",
    "    ans=max(ans,get((R-1,c),'U'))\n",
    "for r in range(R):\n",
    "    ans=max(ans,get((r,0),'R'))\n",
    "    ans=max(ans,get((r,C-1),'L'))\n",
    "print(\"part 2\")\n",
    "print(ans)\n",
    "         "
   ]
  },
  {
   "cell_type": "markdown",
   "id": "cc436433-2078-4593-966c-4d005cf20872",
   "metadata": {},
   "source": [
    ".|...\\....\n",
    "|.-.\\.....\n",
    ".....|-...\n",
    "........|.\n",
    "..........\n",
    ".........\\\n",
    "..../.\\\\..\n",
    ".-.-/..|..\n",
    ".|....-|.\\\n",
    "..//.|...."
   ]
  },
  {
   "cell_type": "code",
   "execution_count": 71,
   "id": "19ef74c5-17f4-4072-833a-c9eba208edaf",
   "metadata": {},
   "outputs": [
    {
     "name": "stdout",
     "output_type": "stream",
     "text": [
      "  0123456789\n",
      "0 .|...\\....\n",
      "1 |.-.\\.....\n",
      "2 .....|-...\n",
      "3 ........|.\n",
      "4 ..........\n",
      "5 .........\\\n",
      "6 ..../.\\\\..\n",
      "7 .-.-/..|..\n",
      "8 .|....-|.\\\n",
      "9 ..//.|....\n"
     ]
    }
   ],
   "source": [
    "printg(G)"
   ]
  },
  {
   "cell_type": "markdown",
   "id": "84f727bb-0181-46c6-9b9e-0b6500391781",
   "metadata": {
    "scrolled": true
   },
   "source": [
    "######....\n",
    ".#...#....\n",
    ".#...#####\n",
    ".#...##...\n",
    ".#...##...\n",
    ".#...##...\n",
    ".#..####..\n",
    "########..\n",
    ".#######..\n",
    ".#...#.#.."
   ]
  },
  {
   "cell_type": "code",
   "execution_count": 80,
   "id": "f787e2a3-ef72-40ce-aa85-61cd78d7ef72",
   "metadata": {},
   "outputs": [
    {
     "name": "stdout",
     "output_type": "stream",
     "text": [
      "######....\n",
      ".#...#....\n",
      ".#...#####\n",
      ".#...##...\n",
      ".#...##...\n",
      ".#...##...\n",
      ".#..####..\n",
      "########..\n",
      ".#######..\n",
      ".#...#.#..\n"
     ]
    }
   ],
   "source": [
    "printv(V)"
   ]
  },
  {
   "cell_type": "code",
   "execution_count": null,
   "id": "b4b87581-51c3-472a-9759-b5cf2d9225c9",
   "metadata": {},
   "outputs": [],
   "source": []
  }
 ],
 "metadata": {
  "kernelspec": {
   "display_name": "Python 3 (ipykernel)",
   "language": "python",
   "name": "python3"
  },
  "language_info": {
   "codemirror_mode": {
    "name": "ipython",
    "version": 3
   },
   "file_extension": ".py",
   "mimetype": "text/x-python",
   "name": "python",
   "nbconvert_exporter": "python",
   "pygments_lexer": "ipython3",
   "version": "3.11.6"
  }
 },
 "nbformat": 4,
 "nbformat_minor": 5
}
