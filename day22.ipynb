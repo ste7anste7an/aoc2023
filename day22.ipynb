{
 "cells": [
  {
   "cell_type": "code",
   "execution_count": null,
   "id": "5494ec3b-3a76-4ff1-b2ce-a02d0b64aaaf",
   "metadata": {},
   "outputs": [],
   "source": [
    "from copy import deepcopy\n",
    "from aocd import get_data\n",
    "from collections import deque\n",
    "import math\n",
    "import re\n",
    "\n",
    "\n",
    "inp=\"\"\"1,0,1~1,2,1\n",
    "0,0,2~2,0,2\n",
    "0,2,3~2,2,3\n",
    "0,0,4~0,2,4\n",
    "2,0,5~2,2,5\n",
    "0,1,6~2,1,6\n",
    "1,1,8~1,1,9\"\"\"\n",
    "\n",
    "inp=get_data(day=22, year=2023)\n",
    "inp=inp.split('\\n')\n",
    "\n",
    "B=[]\n",
    "for b in inp:\n",
    "    l,r=b.split('~')\n",
    "    B.append(([int(i) for i in l.split(',')],[int(i) for i in r.split(',')]))\n",
    "\n",
    "def swapz(b):\n",
    "    z1=b[0][2]\n",
    "    z2=b[1][2]\n",
    "    if z1>z2:\n",
    "        return((b[1],b[0]))\n",
    "    else:\n",
    "        return(b)\n",
    "\n",
    "def checkbricks():\n",
    "    # only bricks in one direction?\n",
    "    for b in B:\n",
    "        dx=abs(b[0][0]-b[1][0])\n",
    "        dy=abs(b[0][1]-b[1][1])\n",
    "        dz=b[1][2]-b[0][2]\n",
    "        if dz<0:\n",
    "            print(b)\n",
    "        if (dx>0 and dy==0 and dz==0) or (dx==0 and dy>0 and dz==0) or (dx==0 and dy==0 and dz>0):\n",
    "            pass\n",
    "        else:\n",
    "            print(b,dx,dy,dz)\n",
    "\n",
    "def rrange(a):\n",
    "    x_min=min(a[0][0],a[1][0])\n",
    "    y_min=min(a[0][1],a[1][1])\n",
    "    x_max=max(a[0][0],a[1][0])\n",
    "    y_max=max(a[0][1],a[1][1])\n",
    "    if x_min>x_max:\n",
    "        (x_min,x_max)=(x_max,x_min)\n",
    "    if y_min>y_max:\n",
    "        (y_min,y_max)=(y_max,y_min)\n",
    "    A=set()\n",
    "    for x in range(x_min,x_max+1):\n",
    "        for y in range(y_min,y_max+1):\n",
    "            A.add((x,y))    \n",
    "    return A\n",
    "    \n",
    "def over(a,b):\n",
    "    A=rrange(a)\n",
    "    B=rrange(b)\n",
    "    return A.intersection(B)\n",
    "\n",
    "B.sort(key=lambda b:b[0][2])\n",
    "#BB=deepcopy(B[:30])\n",
    "BB=deepcopy(B)\n",
    "nB=len(BB)\n",
    "# for b in B:\n",
    "#     b=swapz(b)\n",
    "#checkbricks()\n",
    "\n",
    "\n",
    "#plotbricks(BB)\n",
    "for i,b in enumerate(BB):\n",
    "    z=1\n",
    "    for bb in BB[:i]:\n",
    "        if over(b,bb):\n",
    "            z=max(z,bb[1][2]+1)\n",
    "        old_z=b[0][2]\n",
    "        b[1][2]=b[1][2]-old_z+z\n",
    "        b[0][2]=z\n",
    "        \n",
    " # brick[5] -= brick[2] - max_z\n",
    " #    brick[2] = max_z\n",
    "\n",
    "BB.sort(key=lambda b:b[0][2])\n",
    "            \n",
    "#plotbricks(BB)\n",
    "\n",
    "up=[[] for i in range(nB)]\n",
    "down=[[] for i in range(nB)]\n",
    "\n",
    "for i,b1 in enumerate(BB):\n",
    "    for j,b2 in enumerate(BB):\n",
    "        #bovenkant\n",
    "        if over(b1,b2) and b1[0][2]==b2[1][2]+1: # b1 boven b2\n",
    "            up[j].append(i)\n",
    "            down[i].append(j)\n",
    "tot=0\n",
    "dis=[]\n",
    "for i in range(nB):\n",
    "    support=True\n",
    "    cnt=0\n",
    "    for j in up[i]:\n",
    "        if len(down[j])>1:\n",
    "            cnt+=1\n",
    "    if cnt==len(up[i]):\n",
    "        tot+=1\n",
    "        dis.append(i)\n",
    "#plotbricks(BB,dis=dis)\n",
    "print(tot)"
   ]
  },
  {
   "cell_type": "code",
   "execution_count": 352,
   "id": "16f32fc1-5b4c-46a4-a80f-fbc6484a3c42",
   "metadata": {},
   "outputs": [
    {
     "name": "stdout",
     "output_type": "stream",
     "text": [
      "0 {1, 2, 3, 4, 5, 6}\n",
      "5 {6}\n",
      "7\n"
     ]
    }
   ],
   "source": [
    "from collections import deque\n",
    "critical=set(i for i in range(nB))-set(dis)\n",
    "tot=0\n",
    "\n",
    "\n",
    "\n",
    "for i in critical:\n",
    "    Q=deque([i])\n",
    "    steun=[len(down[ii]) for ii in range(nB)]\n",
    "    fall=set()\n",
    "    while Q:\n",
    "        j=Q.popleft()\n",
    "        #print(j)\n",
    "        for ii in up[j]:\n",
    "            steun[ii]-=1\n",
    "            if steun[ii]==0:\n",
    "                fall.add(ii)\n",
    "                Q.append(ii)\n",
    "    tot+=len(fall)\n",
    "    print(i,fall)\n",
    "print(tot)"
   ]
  },
  {
   "cell_type": "markdown",
   "id": "35cb7686-bce1-4054-8c77-6b63e484ff31",
   "metadata": {},
   "source": [
    "fout: 96565"
   ]
  },
  {
   "cell_type": "code",
   "execution_count": 340,
   "id": "3a62cd04-6d19-4d7c-86dd-a5132bb6be46",
   "metadata": {},
   "outputs": [
    {
     "data": {
      "application/vnd.plotly.v1+json": {
       "config": {
        "plotlyServerURL": "https://plot.ly"
       },
       "data": [
        {
         "alphahull": 1,
         "color": "rgba(0,100,0,0.5)",
         "flatshading": true,
         "lighting": {
          "diffuse": 0.1,
          "roughness": 0.5,
          "specular": 2
         },
         "text": "0",
         "type": "mesh3d",
         "x": [
          6.5,
          6.5,
          7.5,
          7.5,
          6.5,
          6.5,
          7.5,
          7.5
         ],
         "y": [
          1.5,
          1.5,
          1.5,
          1.5,
          4.5,
          4.5,
          4.5,
          4.5
         ],
         "z": [
          0.5,
          1.5,
          0.5,
          1.5,
          0.5,
          1.5,
          0.5,
          1.5
         ]
        },
        {
         "alphahull": 1,
         "color": "rgba(0,100,0,0.5)",
         "flatshading": true,
         "lighting": {
          "diffuse": 0.1,
          "roughness": 0.5,
          "specular": 2
         },
         "text": "1",
         "type": "mesh3d",
         "x": [
          -0.5,
          -0.5,
          0.5,
          0.5,
          -0.5,
          -0.5,
          0.5,
          0.5
         ],
         "y": [
          1.5,
          1.5,
          1.5,
          1.5,
          4.5,
          4.5,
          4.5,
          4.5
         ],
         "z": [
          0.5,
          1.5,
          0.5,
          1.5,
          0.5,
          1.5,
          0.5,
          1.5
         ]
        },
        {
         "alphahull": 1,
         "color": "rgba(100,0,100,0.5)",
         "flatshading": true,
         "lighting": {
          "diffuse": 0.1,
          "roughness": 0.5,
          "specular": 2
         },
         "text": "2",
         "type": "mesh3d",
         "x": [
          2.5,
          2.5,
          3.5,
          3.5,
          2.5,
          2.5,
          3.5,
          3.5
         ],
         "y": [
          4.5,
          4.5,
          4.5,
          4.5,
          7.5,
          7.5,
          7.5,
          7.5
         ],
         "z": [
          0.5,
          1.5,
          0.5,
          1.5,
          0.5,
          1.5,
          0.5,
          1.5
         ]
        },
        {
         "alphahull": 1,
         "color": "rgba(0,100,0,0.5)",
         "flatshading": true,
         "lighting": {
          "diffuse": 0.1,
          "roughness": 0.5,
          "specular": 2
         },
         "text": "3",
         "type": "mesh3d",
         "x": [
          3.5,
          3.5,
          4.5,
          4.5,
          3.5,
          3.5,
          4.5,
          4.5
         ],
         "y": [
          1.5,
          1.5,
          1.5,
          1.5,
          3.5,
          3.5,
          3.5,
          3.5
         ],
         "z": [
          0.5,
          1.5,
          0.5,
          1.5,
          0.5,
          1.5,
          0.5,
          1.5
         ]
        },
        {
         "alphahull": 1,
         "color": "rgba(0,100,0,0.5)",
         "flatshading": true,
         "lighting": {
          "diffuse": 0.1,
          "roughness": 0.5,
          "specular": 2
         },
         "text": "4",
         "type": "mesh3d",
         "x": [
          7.5,
          7.5,
          8.5,
          8.5,
          7.5,
          7.5,
          8.5,
          8.5
         ],
         "y": [
          3.5,
          3.5,
          3.5,
          3.5,
          6.5,
          6.5,
          6.5,
          6.5
         ],
         "z": [
          0.5,
          1.5,
          0.5,
          1.5,
          0.5,
          1.5,
          0.5,
          1.5
         ]
        },
        {
         "alphahull": 1,
         "color": "rgba(100,0,100,0.5)",
         "flatshading": true,
         "lighting": {
          "diffuse": 0.1,
          "roughness": 0.5,
          "specular": 2
         },
         "text": "5",
         "type": "mesh3d",
         "x": [
          -0.5,
          -0.5,
          2.5,
          2.5,
          -0.5,
          -0.5,
          2.5,
          2.5
         ],
         "y": [
          8.5,
          8.5,
          8.5,
          8.5,
          9.5,
          9.5,
          9.5,
          9.5
         ],
         "z": [
          0.5,
          1.5,
          0.5,
          1.5,
          0.5,
          1.5,
          0.5,
          1.5
         ]
        },
        {
         "alphahull": 1,
         "color": "rgba(0,100,0,0.5)",
         "flatshading": true,
         "lighting": {
          "diffuse": 0.1,
          "roughness": 0.5,
          "specular": 2
         },
         "text": "6",
         "type": "mesh3d",
         "x": [
          5.5,
          5.5,
          6.5,
          6.5,
          5.5,
          5.5,
          6.5,
          6.5
         ],
         "y": [
          4.5,
          4.5,
          4.5,
          4.5,
          5.5,
          5.5,
          5.5,
          5.5
         ],
         "z": [
          0.5,
          4.5,
          0.5,
          4.5,
          0.5,
          4.5,
          0.5,
          4.5
         ]
        },
        {
         "alphahull": 1,
         "color": "rgba(0,100,0,0.5)",
         "flatshading": true,
         "lighting": {
          "diffuse": 0.1,
          "roughness": 0.5,
          "specular": 2
         },
         "text": "7",
         "type": "mesh3d",
         "x": [
          5.5,
          5.5,
          6.5,
          6.5,
          5.5,
          5.5,
          6.5,
          6.5
         ],
         "y": [
          7.5,
          7.5,
          7.5,
          7.5,
          9.5,
          9.5,
          9.5,
          9.5
         ],
         "z": [
          0.5,
          1.5,
          0.5,
          1.5,
          0.5,
          1.5,
          0.5,
          1.5
         ]
        },
        {
         "alphahull": 1,
         "color": "rgba(100,0,100,0.5)",
         "flatshading": true,
         "lighting": {
          "diffuse": 0.1,
          "roughness": 0.5,
          "specular": 2
         },
         "text": "8",
         "type": "mesh3d",
         "x": [
          1.5,
          1.5,
          2.5,
          2.5,
          1.5,
          1.5,
          2.5,
          2.5
         ],
         "y": [
          1.5,
          1.5,
          1.5,
          1.5,
          4.5,
          4.5,
          4.5,
          4.5
         ],
         "z": [
          0.5,
          1.5,
          0.5,
          1.5,
          0.5,
          1.5,
          0.5,
          1.5
         ]
        },
        {
         "alphahull": 1,
         "color": "rgba(0,100,0,0.5)",
         "flatshading": true,
         "lighting": {
          "diffuse": 0.1,
          "roughness": 0.5,
          "specular": 2
         },
         "text": "9",
         "type": "mesh3d",
         "x": [
          6.5,
          6.5,
          7.5,
          7.5,
          6.5,
          6.5,
          7.5,
          7.5
         ],
         "y": [
          6.5,
          6.5,
          6.5,
          6.5,
          9.5,
          9.5,
          9.5,
          9.5
         ],
         "z": [
          0.5,
          1.5,
          0.5,
          1.5,
          0.5,
          1.5,
          0.5,
          1.5
         ]
        },
        {
         "alphahull": 1,
         "color": "rgba(0,100,0,0.5)",
         "flatshading": true,
         "lighting": {
          "diffuse": 0.1,
          "roughness": 0.5,
          "specular": 2
         },
         "text": "10",
         "type": "mesh3d",
         "x": [
          4.5,
          4.5,
          5.5,
          5.5,
          4.5,
          4.5,
          5.5,
          5.5
         ],
         "y": [
          -0.5,
          -0.5,
          -0.5,
          -0.5,
          2.5,
          2.5,
          2.5,
          2.5
         ],
         "z": [
          0.5,
          1.5,
          0.5,
          1.5,
          0.5,
          1.5,
          0.5,
          1.5
         ]
        },
        {
         "alphahull": 1,
         "color": "rgba(0,100,0,0.5)",
         "flatshading": true,
         "lighting": {
          "diffuse": 0.1,
          "roughness": 0.5,
          "specular": 2
         },
         "text": "11",
         "type": "mesh3d",
         "x": [
          0.5,
          0.5,
          1.5,
          1.5,
          0.5,
          0.5,
          1.5,
          1.5
         ],
         "y": [
          7.5,
          7.5,
          7.5,
          7.5,
          8.5,
          8.5,
          8.5,
          8.5
         ],
         "z": [
          0.5,
          3.5,
          0.5,
          3.5,
          0.5,
          3.5,
          0.5,
          3.5
         ]
        },
        {
         "alphahull": 1,
         "color": "rgba(0,100,0,0.5)",
         "flatshading": true,
         "lighting": {
          "diffuse": 0.1,
          "roughness": 0.5,
          "specular": 2
         },
         "text": "12",
         "type": "mesh3d",
         "x": [
          2.5,
          2.5,
          5.5,
          5.5,
          2.5,
          2.5,
          5.5,
          5.5
         ],
         "y": [
          4.5,
          4.5,
          4.5,
          4.5,
          5.5,
          5.5,
          5.5,
          5.5
         ],
         "z": [
          1.5,
          2.5,
          1.5,
          2.5,
          1.5,
          2.5,
          1.5,
          2.5
         ]
        },
        {
         "alphahull": 1,
         "color": "rgba(100,0,100,0.5)",
         "flatshading": true,
         "lighting": {
          "diffuse": 0.1,
          "roughness": 0.5,
          "specular": 2
         },
         "text": "13",
         "type": "mesh3d",
         "x": [
          3.5,
          3.5,
          7.5,
          7.5,
          3.5,
          3.5,
          7.5,
          7.5
         ],
         "y": [
          2.5,
          2.5,
          2.5,
          2.5,
          3.5,
          3.5,
          3.5,
          3.5
         ],
         "z": [
          1.5,
          2.5,
          1.5,
          2.5,
          1.5,
          2.5,
          1.5,
          2.5
         ]
        },
        {
         "alphahull": 1,
         "color": "rgba(0,100,0,0.5)",
         "flatshading": true,
         "lighting": {
          "diffuse": 0.1,
          "roughness": 0.5,
          "specular": 2
         },
         "text": "14",
         "type": "mesh3d",
         "x": [
          4.5,
          4.5,
          7.5,
          7.5,
          4.5,
          4.5,
          7.5,
          7.5
         ],
         "y": [
          8.5,
          8.5,
          8.5,
          8.5,
          9.5,
          9.5,
          9.5,
          9.5
         ],
         "z": [
          1.5,
          2.5,
          1.5,
          2.5,
          1.5,
          2.5,
          1.5,
          2.5
         ]
        },
        {
         "alphahull": 1,
         "color": "rgba(100,0,100,0.5)",
         "flatshading": true,
         "lighting": {
          "diffuse": 0.1,
          "roughness": 0.5,
          "specular": 2
         },
         "text": "15",
         "type": "mesh3d",
         "x": [
          2.5,
          2.5,
          3.5,
          3.5,
          2.5,
          2.5,
          3.5,
          3.5
         ],
         "y": [
          6.5,
          6.5,
          6.5,
          6.5,
          9.5,
          9.5,
          9.5,
          9.5
         ],
         "z": [
          1.5,
          2.5,
          1.5,
          2.5,
          1.5,
          2.5,
          1.5,
          2.5
         ]
        },
        {
         "alphahull": 1,
         "color": "rgba(100,0,100,0.5)",
         "flatshading": true,
         "lighting": {
          "diffuse": 0.1,
          "roughness": 0.5,
          "specular": 2
         },
         "text": "16",
         "type": "mesh3d",
         "x": [
          5.5,
          5.5,
          9.5,
          9.5,
          5.5,
          5.5,
          9.5,
          9.5
         ],
         "y": [
          7.5,
          7.5,
          7.5,
          7.5,
          8.5,
          8.5,
          8.5,
          8.5
         ],
         "z": [
          1.5,
          2.5,
          1.5,
          2.5,
          1.5,
          2.5,
          1.5,
          2.5
         ]
        },
        {
         "alphahull": 1,
         "color": "rgba(0,100,0,0.5)",
         "flatshading": true,
         "lighting": {
          "diffuse": 0.1,
          "roughness": 0.5,
          "specular": 2
         },
         "text": "17",
         "type": "mesh3d",
         "x": [
          0.5,
          0.5,
          1.5,
          1.5,
          0.5,
          0.5,
          1.5,
          1.5
         ],
         "y": [
          8.5,
          8.5,
          8.5,
          8.5,
          9.5,
          9.5,
          9.5,
          9.5
         ],
         "z": [
          1.5,
          3.5,
          1.5,
          3.5,
          1.5,
          3.5,
          1.5,
          3.5
         ]
        },
        {
         "alphahull": 1,
         "color": "rgba(0,100,0,0.5)",
         "flatshading": true,
         "lighting": {
          "diffuse": 0.1,
          "roughness": 0.5,
          "specular": 2
         },
         "text": "18",
         "type": "mesh3d",
         "x": [
          1.5,
          1.5,
          2.5,
          2.5,
          1.5,
          1.5,
          2.5,
          2.5
         ],
         "y": [
          2.5,
          2.5,
          2.5,
          2.5,
          6.5,
          6.5,
          6.5,
          6.5
         ],
         "z": [
          1.5,
          2.5,
          1.5,
          2.5,
          1.5,
          2.5,
          1.5,
          2.5
         ]
        },
        {
         "alphahull": 1,
         "color": "rgba(0,100,0,0.5)",
         "flatshading": true,
         "lighting": {
          "diffuse": 0.1,
          "roughness": 0.5,
          "specular": 2
         },
         "text": "19",
         "type": "mesh3d",
         "x": [
          1.5,
          1.5,
          2.5,
          2.5,
          1.5,
          1.5,
          2.5,
          2.5
         ],
         "y": [
          -0.5,
          -0.5,
          -0.5,
          -0.5,
          2.5,
          2.5,
          2.5,
          2.5
         ],
         "z": [
          1.5,
          2.5,
          1.5,
          2.5,
          1.5,
          2.5,
          1.5,
          2.5
         ]
        },
        {
         "alphahull": 1,
         "color": "rgba(0,100,0,0.5)",
         "flatshading": true,
         "lighting": {
          "diffuse": 0.1,
          "roughness": 0.5,
          "specular": 2
         },
         "text": "20",
         "type": "mesh3d",
         "x": [
          4.5,
          4.5,
          5.5,
          5.5,
          4.5,
          4.5,
          5.5,
          5.5
         ],
         "y": [
          2.5,
          2.5,
          2.5,
          2.5,
          3.5,
          3.5,
          3.5,
          3.5
         ],
         "z": [
          2.5,
          4.5,
          2.5,
          4.5,
          2.5,
          4.5,
          2.5,
          4.5
         ]
        },
        {
         "alphahull": 1,
         "color": "rgba(0,100,0,0.5)",
         "flatshading": true,
         "lighting": {
          "diffuse": 0.1,
          "roughness": 0.5,
          "specular": 2
         },
         "text": "21",
         "type": "mesh3d",
         "x": [
          1.5,
          1.5,
          4.5,
          4.5,
          1.5,
          1.5,
          4.5,
          4.5
         ],
         "y": [
          7.5,
          7.5,
          7.5,
          7.5,
          8.5,
          8.5,
          8.5,
          8.5
         ],
         "z": [
          2.5,
          3.5,
          2.5,
          3.5,
          2.5,
          3.5,
          2.5,
          3.5
         ]
        },
        {
         "alphahull": 1,
         "color": "rgba(0,100,0,0.5)",
         "flatshading": true,
         "lighting": {
          "diffuse": 0.1,
          "roughness": 0.5,
          "specular": 2
         },
         "text": "22",
         "type": "mesh3d",
         "x": [
          1.5,
          1.5,
          4.5,
          4.5,
          1.5,
          1.5,
          4.5,
          4.5
         ],
         "y": [
          8.5,
          8.5,
          8.5,
          8.5,
          9.5,
          9.5,
          9.5,
          9.5
         ],
         "z": [
          2.5,
          3.5,
          2.5,
          3.5,
          2.5,
          3.5,
          2.5,
          3.5
         ]
        },
        {
         "alphahull": 1,
         "color": "rgba(0,100,0,0.5)",
         "flatshading": true,
         "lighting": {
          "diffuse": 0.1,
          "roughness": 0.5,
          "specular": 2
         },
         "text": "23",
         "type": "mesh3d",
         "x": [
          8.5,
          8.5,
          9.5,
          9.5,
          8.5,
          8.5,
          9.5,
          9.5
         ],
         "y": [
          5.5,
          5.5,
          5.5,
          5.5,
          8.5,
          8.5,
          8.5,
          8.5
         ],
         "z": [
          2.5,
          3.5,
          2.5,
          3.5,
          2.5,
          3.5,
          2.5,
          3.5
         ]
        },
        {
         "alphahull": 1,
         "color": "rgba(0,100,0,0.5)",
         "flatshading": true,
         "lighting": {
          "diffuse": 0.1,
          "roughness": 0.5,
          "specular": 2
         },
         "text": "24",
         "type": "mesh3d",
         "x": [
          6.5,
          6.5,
          7.5,
          7.5,
          6.5,
          6.5,
          7.5,
          7.5
         ],
         "y": [
          -0.5,
          -0.5,
          -0.5,
          -0.5,
          3.5,
          3.5,
          3.5,
          3.5
         ],
         "z": [
          2.5,
          3.5,
          2.5,
          3.5,
          2.5,
          3.5,
          2.5,
          3.5
         ]
        }
       ],
       "layout": {
        "autosize": false,
        "height": 600,
        "scene": {
         "aspectmode": "auto",
         "aspectratio": {
          "x": 1.3572088082974534,
          "y": 1.3572088082974534,
          "z": 0.5428835233189814
         },
         "camera": {
          "center": {
           "x": 0,
           "y": 0,
           "z": 0
          },
          "eye": {
           "x": -0.8799651647102964,
           "y": -1.1017926523973256,
           "z": 1.6854854050074133
          },
          "projection": {
           "type": "perspective"
          },
          "up": {
           "x": 0,
           "y": 0,
           "z": 1
          }
         }
        },
        "template": {
         "data": {
          "bar": [
           {
            "error_x": {
             "color": "#2a3f5f"
            },
            "error_y": {
             "color": "#2a3f5f"
            },
            "marker": {
             "line": {
              "color": "#E5ECF6",
              "width": 0.5
             },
             "pattern": {
              "fillmode": "overlay",
              "size": 10,
              "solidity": 0.2
             }
            },
            "type": "bar"
           }
          ],
          "barpolar": [
           {
            "marker": {
             "line": {
              "color": "#E5ECF6",
              "width": 0.5
             },
             "pattern": {
              "fillmode": "overlay",
              "size": 10,
              "solidity": 0.2
             }
            },
            "type": "barpolar"
           }
          ],
          "carpet": [
           {
            "aaxis": {
             "endlinecolor": "#2a3f5f",
             "gridcolor": "white",
             "linecolor": "white",
             "minorgridcolor": "white",
             "startlinecolor": "#2a3f5f"
            },
            "baxis": {
             "endlinecolor": "#2a3f5f",
             "gridcolor": "white",
             "linecolor": "white",
             "minorgridcolor": "white",
             "startlinecolor": "#2a3f5f"
            },
            "type": "carpet"
           }
          ],
          "choropleth": [
           {
            "colorbar": {
             "outlinewidth": 0,
             "ticks": ""
            },
            "type": "choropleth"
           }
          ],
          "contour": [
           {
            "colorbar": {
             "outlinewidth": 0,
             "ticks": ""
            },
            "colorscale": [
             [
              0,
              "#0d0887"
             ],
             [
              0.1111111111111111,
              "#46039f"
             ],
             [
              0.2222222222222222,
              "#7201a8"
             ],
             [
              0.3333333333333333,
              "#9c179e"
             ],
             [
              0.4444444444444444,
              "#bd3786"
             ],
             [
              0.5555555555555556,
              "#d8576b"
             ],
             [
              0.6666666666666666,
              "#ed7953"
             ],
             [
              0.7777777777777778,
              "#fb9f3a"
             ],
             [
              0.8888888888888888,
              "#fdca26"
             ],
             [
              1,
              "#f0f921"
             ]
            ],
            "type": "contour"
           }
          ],
          "contourcarpet": [
           {
            "colorbar": {
             "outlinewidth": 0,
             "ticks": ""
            },
            "type": "contourcarpet"
           }
          ],
          "heatmap": [
           {
            "colorbar": {
             "outlinewidth": 0,
             "ticks": ""
            },
            "colorscale": [
             [
              0,
              "#0d0887"
             ],
             [
              0.1111111111111111,
              "#46039f"
             ],
             [
              0.2222222222222222,
              "#7201a8"
             ],
             [
              0.3333333333333333,
              "#9c179e"
             ],
             [
              0.4444444444444444,
              "#bd3786"
             ],
             [
              0.5555555555555556,
              "#d8576b"
             ],
             [
              0.6666666666666666,
              "#ed7953"
             ],
             [
              0.7777777777777778,
              "#fb9f3a"
             ],
             [
              0.8888888888888888,
              "#fdca26"
             ],
             [
              1,
              "#f0f921"
             ]
            ],
            "type": "heatmap"
           }
          ],
          "heatmapgl": [
           {
            "colorbar": {
             "outlinewidth": 0,
             "ticks": ""
            },
            "colorscale": [
             [
              0,
              "#0d0887"
             ],
             [
              0.1111111111111111,
              "#46039f"
             ],
             [
              0.2222222222222222,
              "#7201a8"
             ],
             [
              0.3333333333333333,
              "#9c179e"
             ],
             [
              0.4444444444444444,
              "#bd3786"
             ],
             [
              0.5555555555555556,
              "#d8576b"
             ],
             [
              0.6666666666666666,
              "#ed7953"
             ],
             [
              0.7777777777777778,
              "#fb9f3a"
             ],
             [
              0.8888888888888888,
              "#fdca26"
             ],
             [
              1,
              "#f0f921"
             ]
            ],
            "type": "heatmapgl"
           }
          ],
          "histogram": [
           {
            "marker": {
             "pattern": {
              "fillmode": "overlay",
              "size": 10,
              "solidity": 0.2
             }
            },
            "type": "histogram"
           }
          ],
          "histogram2d": [
           {
            "colorbar": {
             "outlinewidth": 0,
             "ticks": ""
            },
            "colorscale": [
             [
              0,
              "#0d0887"
             ],
             [
              0.1111111111111111,
              "#46039f"
             ],
             [
              0.2222222222222222,
              "#7201a8"
             ],
             [
              0.3333333333333333,
              "#9c179e"
             ],
             [
              0.4444444444444444,
              "#bd3786"
             ],
             [
              0.5555555555555556,
              "#d8576b"
             ],
             [
              0.6666666666666666,
              "#ed7953"
             ],
             [
              0.7777777777777778,
              "#fb9f3a"
             ],
             [
              0.8888888888888888,
              "#fdca26"
             ],
             [
              1,
              "#f0f921"
             ]
            ],
            "type": "histogram2d"
           }
          ],
          "histogram2dcontour": [
           {
            "colorbar": {
             "outlinewidth": 0,
             "ticks": ""
            },
            "colorscale": [
             [
              0,
              "#0d0887"
             ],
             [
              0.1111111111111111,
              "#46039f"
             ],
             [
              0.2222222222222222,
              "#7201a8"
             ],
             [
              0.3333333333333333,
              "#9c179e"
             ],
             [
              0.4444444444444444,
              "#bd3786"
             ],
             [
              0.5555555555555556,
              "#d8576b"
             ],
             [
              0.6666666666666666,
              "#ed7953"
             ],
             [
              0.7777777777777778,
              "#fb9f3a"
             ],
             [
              0.8888888888888888,
              "#fdca26"
             ],
             [
              1,
              "#f0f921"
             ]
            ],
            "type": "histogram2dcontour"
           }
          ],
          "mesh3d": [
           {
            "colorbar": {
             "outlinewidth": 0,
             "ticks": ""
            },
            "type": "mesh3d"
           }
          ],
          "parcoords": [
           {
            "line": {
             "colorbar": {
              "outlinewidth": 0,
              "ticks": ""
             }
            },
            "type": "parcoords"
           }
          ],
          "pie": [
           {
            "automargin": true,
            "type": "pie"
           }
          ],
          "scatter": [
           {
            "fillpattern": {
             "fillmode": "overlay",
             "size": 10,
             "solidity": 0.2
            },
            "type": "scatter"
           }
          ],
          "scatter3d": [
           {
            "line": {
             "colorbar": {
              "outlinewidth": 0,
              "ticks": ""
             }
            },
            "marker": {
             "colorbar": {
              "outlinewidth": 0,
              "ticks": ""
             }
            },
            "type": "scatter3d"
           }
          ],
          "scattercarpet": [
           {
            "marker": {
             "colorbar": {
              "outlinewidth": 0,
              "ticks": ""
             }
            },
            "type": "scattercarpet"
           }
          ],
          "scattergeo": [
           {
            "marker": {
             "colorbar": {
              "outlinewidth": 0,
              "ticks": ""
             }
            },
            "type": "scattergeo"
           }
          ],
          "scattergl": [
           {
            "marker": {
             "colorbar": {
              "outlinewidth": 0,
              "ticks": ""
             }
            },
            "type": "scattergl"
           }
          ],
          "scattermapbox": [
           {
            "marker": {
             "colorbar": {
              "outlinewidth": 0,
              "ticks": ""
             }
            },
            "type": "scattermapbox"
           }
          ],
          "scatterpolar": [
           {
            "marker": {
             "colorbar": {
              "outlinewidth": 0,
              "ticks": ""
             }
            },
            "type": "scatterpolar"
           }
          ],
          "scatterpolargl": [
           {
            "marker": {
             "colorbar": {
              "outlinewidth": 0,
              "ticks": ""
             }
            },
            "type": "scatterpolargl"
           }
          ],
          "scatterternary": [
           {
            "marker": {
             "colorbar": {
              "outlinewidth": 0,
              "ticks": ""
             }
            },
            "type": "scatterternary"
           }
          ],
          "surface": [
           {
            "colorbar": {
             "outlinewidth": 0,
             "ticks": ""
            },
            "colorscale": [
             [
              0,
              "#0d0887"
             ],
             [
              0.1111111111111111,
              "#46039f"
             ],
             [
              0.2222222222222222,
              "#7201a8"
             ],
             [
              0.3333333333333333,
              "#9c179e"
             ],
             [
              0.4444444444444444,
              "#bd3786"
             ],
             [
              0.5555555555555556,
              "#d8576b"
             ],
             [
              0.6666666666666666,
              "#ed7953"
             ],
             [
              0.7777777777777778,
              "#fb9f3a"
             ],
             [
              0.8888888888888888,
              "#fdca26"
             ],
             [
              1,
              "#f0f921"
             ]
            ],
            "type": "surface"
           }
          ],
          "table": [
           {
            "cells": {
             "fill": {
              "color": "#EBF0F8"
             },
             "line": {
              "color": "white"
             }
            },
            "header": {
             "fill": {
              "color": "#C8D4E3"
             },
             "line": {
              "color": "white"
             }
            },
            "type": "table"
           }
          ]
         },
         "layout": {
          "annotationdefaults": {
           "arrowcolor": "#2a3f5f",
           "arrowhead": 0,
           "arrowwidth": 1
          },
          "autotypenumbers": "strict",
          "coloraxis": {
           "colorbar": {
            "outlinewidth": 0,
            "ticks": ""
           }
          },
          "colorscale": {
           "diverging": [
            [
             0,
             "#8e0152"
            ],
            [
             0.1,
             "#c51b7d"
            ],
            [
             0.2,
             "#de77ae"
            ],
            [
             0.3,
             "#f1b6da"
            ],
            [
             0.4,
             "#fde0ef"
            ],
            [
             0.5,
             "#f7f7f7"
            ],
            [
             0.6,
             "#e6f5d0"
            ],
            [
             0.7,
             "#b8e186"
            ],
            [
             0.8,
             "#7fbc41"
            ],
            [
             0.9,
             "#4d9221"
            ],
            [
             1,
             "#276419"
            ]
           ],
           "sequential": [
            [
             0,
             "#0d0887"
            ],
            [
             0.1111111111111111,
             "#46039f"
            ],
            [
             0.2222222222222222,
             "#7201a8"
            ],
            [
             0.3333333333333333,
             "#9c179e"
            ],
            [
             0.4444444444444444,
             "#bd3786"
            ],
            [
             0.5555555555555556,
             "#d8576b"
            ],
            [
             0.6666666666666666,
             "#ed7953"
            ],
            [
             0.7777777777777778,
             "#fb9f3a"
            ],
            [
             0.8888888888888888,
             "#fdca26"
            ],
            [
             1,
             "#f0f921"
            ]
           ],
           "sequentialminus": [
            [
             0,
             "#0d0887"
            ],
            [
             0.1111111111111111,
             "#46039f"
            ],
            [
             0.2222222222222222,
             "#7201a8"
            ],
            [
             0.3333333333333333,
             "#9c179e"
            ],
            [
             0.4444444444444444,
             "#bd3786"
            ],
            [
             0.5555555555555556,
             "#d8576b"
            ],
            [
             0.6666666666666666,
             "#ed7953"
            ],
            [
             0.7777777777777778,
             "#fb9f3a"
            ],
            [
             0.8888888888888888,
             "#fdca26"
            ],
            [
             1,
             "#f0f921"
            ]
           ]
          },
          "colorway": [
           "#636efa",
           "#EF553B",
           "#00cc96",
           "#ab63fa",
           "#FFA15A",
           "#19d3f3",
           "#FF6692",
           "#B6E880",
           "#FF97FF",
           "#FECB52"
          ],
          "font": {
           "color": "#2a3f5f"
          },
          "geo": {
           "bgcolor": "white",
           "lakecolor": "white",
           "landcolor": "#E5ECF6",
           "showlakes": true,
           "showland": true,
           "subunitcolor": "white"
          },
          "hoverlabel": {
           "align": "left"
          },
          "hovermode": "closest",
          "mapbox": {
           "style": "light"
          },
          "paper_bgcolor": "white",
          "plot_bgcolor": "#E5ECF6",
          "polar": {
           "angularaxis": {
            "gridcolor": "white",
            "linecolor": "white",
            "ticks": ""
           },
           "bgcolor": "#E5ECF6",
           "radialaxis": {
            "gridcolor": "white",
            "linecolor": "white",
            "ticks": ""
           }
          },
          "scene": {
           "xaxis": {
            "backgroundcolor": "#E5ECF6",
            "gridcolor": "white",
            "gridwidth": 2,
            "linecolor": "white",
            "showbackground": true,
            "ticks": "",
            "zerolinecolor": "white"
           },
           "yaxis": {
            "backgroundcolor": "#E5ECF6",
            "gridcolor": "white",
            "gridwidth": 2,
            "linecolor": "white",
            "showbackground": true,
            "ticks": "",
            "zerolinecolor": "white"
           },
           "zaxis": {
            "backgroundcolor": "#E5ECF6",
            "gridcolor": "white",
            "gridwidth": 2,
            "linecolor": "white",
            "showbackground": true,
            "ticks": "",
            "zerolinecolor": "white"
           }
          },
          "shapedefaults": {
           "line": {
            "color": "#2a3f5f"
           }
          },
          "ternary": {
           "aaxis": {
            "gridcolor": "white",
            "linecolor": "white",
            "ticks": ""
           },
           "baxis": {
            "gridcolor": "white",
            "linecolor": "white",
            "ticks": ""
           },
           "bgcolor": "#E5ECF6",
           "caxis": {
            "gridcolor": "white",
            "linecolor": "white",
            "ticks": ""
           }
          },
          "title": {
           "x": 0.05
          },
          "xaxis": {
           "automargin": true,
           "gridcolor": "white",
           "linecolor": "white",
           "ticks": "",
           "title": {
            "standoff": 15
           },
           "zerolinecolor": "white",
           "zerolinewidth": 2
          },
          "yaxis": {
           "automargin": true,
           "gridcolor": "white",
           "linecolor": "white",
           "ticks": "",
           "title": {
            "standoff": 15
           },
           "zerolinecolor": "white",
           "zerolinewidth": 2
          }
         }
        },
        "width": 600
       }
      },
      "text/html": [
       "<div>                            <div id=\"aabd9062-3fa2-4690-8beb-6b9d59a12fe9\" class=\"plotly-graph-div\" style=\"height:600px; width:600px;\"></div>            <script type=\"text/javascript\">                require([\"plotly\"], function(Plotly) {                    window.PLOTLYENV=window.PLOTLYENV || {};                                    if (document.getElementById(\"aabd9062-3fa2-4690-8beb-6b9d59a12fe9\")) {                    Plotly.newPlot(                        \"aabd9062-3fa2-4690-8beb-6b9d59a12fe9\",                        [{\"alphahull\":1,\"color\":\"rgba(0,100,0,0.5)\",\"flatshading\":true,\"lighting\":{\"diffuse\":0.1,\"roughness\":0.5,\"specular\":2.0},\"text\":\"0\",\"x\":[6.5,6.5,7.5,7.5,6.5,6.5,7.5,7.5],\"y\":[1.5,1.5,1.5,1.5,4.5,4.5,4.5,4.5],\"z\":[0.5,1.5,0.5,1.5,0.5,1.5,0.5,1.5],\"type\":\"mesh3d\"},{\"alphahull\":1,\"color\":\"rgba(0,100,0,0.5)\",\"flatshading\":true,\"lighting\":{\"diffuse\":0.1,\"roughness\":0.5,\"specular\":2.0},\"text\":\"1\",\"x\":[-0.5,-0.5,0.5,0.5,-0.5,-0.5,0.5,0.5],\"y\":[1.5,1.5,1.5,1.5,4.5,4.5,4.5,4.5],\"z\":[0.5,1.5,0.5,1.5,0.5,1.5,0.5,1.5],\"type\":\"mesh3d\"},{\"alphahull\":1,\"color\":\"rgba(100,0,100,0.5)\",\"flatshading\":true,\"lighting\":{\"diffuse\":0.1,\"roughness\":0.5,\"specular\":2.0},\"text\":\"2\",\"x\":[2.5,2.5,3.5,3.5,2.5,2.5,3.5,3.5],\"y\":[4.5,4.5,4.5,4.5,7.5,7.5,7.5,7.5],\"z\":[0.5,1.5,0.5,1.5,0.5,1.5,0.5,1.5],\"type\":\"mesh3d\"},{\"alphahull\":1,\"color\":\"rgba(0,100,0,0.5)\",\"flatshading\":true,\"lighting\":{\"diffuse\":0.1,\"roughness\":0.5,\"specular\":2.0},\"text\":\"3\",\"x\":[3.5,3.5,4.5,4.5,3.5,3.5,4.5,4.5],\"y\":[1.5,1.5,1.5,1.5,3.5,3.5,3.5,3.5],\"z\":[0.5,1.5,0.5,1.5,0.5,1.5,0.5,1.5],\"type\":\"mesh3d\"},{\"alphahull\":1,\"color\":\"rgba(0,100,0,0.5)\",\"flatshading\":true,\"lighting\":{\"diffuse\":0.1,\"roughness\":0.5,\"specular\":2.0},\"text\":\"4\",\"x\":[7.5,7.5,8.5,8.5,7.5,7.5,8.5,8.5],\"y\":[3.5,3.5,3.5,3.5,6.5,6.5,6.5,6.5],\"z\":[0.5,1.5,0.5,1.5,0.5,1.5,0.5,1.5],\"type\":\"mesh3d\"},{\"alphahull\":1,\"color\":\"rgba(100,0,100,0.5)\",\"flatshading\":true,\"lighting\":{\"diffuse\":0.1,\"roughness\":0.5,\"specular\":2.0},\"text\":\"5\",\"x\":[-0.5,-0.5,2.5,2.5,-0.5,-0.5,2.5,2.5],\"y\":[8.5,8.5,8.5,8.5,9.5,9.5,9.5,9.5],\"z\":[0.5,1.5,0.5,1.5,0.5,1.5,0.5,1.5],\"type\":\"mesh3d\"},{\"alphahull\":1,\"color\":\"rgba(0,100,0,0.5)\",\"flatshading\":true,\"lighting\":{\"diffuse\":0.1,\"roughness\":0.5,\"specular\":2.0},\"text\":\"6\",\"x\":[5.5,5.5,6.5,6.5,5.5,5.5,6.5,6.5],\"y\":[4.5,4.5,4.5,4.5,5.5,5.5,5.5,5.5],\"z\":[0.5,4.5,0.5,4.5,0.5,4.5,0.5,4.5],\"type\":\"mesh3d\"},{\"alphahull\":1,\"color\":\"rgba(0,100,0,0.5)\",\"flatshading\":true,\"lighting\":{\"diffuse\":0.1,\"roughness\":0.5,\"specular\":2.0},\"text\":\"7\",\"x\":[5.5,5.5,6.5,6.5,5.5,5.5,6.5,6.5],\"y\":[7.5,7.5,7.5,7.5,9.5,9.5,9.5,9.5],\"z\":[0.5,1.5,0.5,1.5,0.5,1.5,0.5,1.5],\"type\":\"mesh3d\"},{\"alphahull\":1,\"color\":\"rgba(100,0,100,0.5)\",\"flatshading\":true,\"lighting\":{\"diffuse\":0.1,\"roughness\":0.5,\"specular\":2.0},\"text\":\"8\",\"x\":[1.5,1.5,2.5,2.5,1.5,1.5,2.5,2.5],\"y\":[1.5,1.5,1.5,1.5,4.5,4.5,4.5,4.5],\"z\":[0.5,1.5,0.5,1.5,0.5,1.5,0.5,1.5],\"type\":\"mesh3d\"},{\"alphahull\":1,\"color\":\"rgba(0,100,0,0.5)\",\"flatshading\":true,\"lighting\":{\"diffuse\":0.1,\"roughness\":0.5,\"specular\":2.0},\"text\":\"9\",\"x\":[6.5,6.5,7.5,7.5,6.5,6.5,7.5,7.5],\"y\":[6.5,6.5,6.5,6.5,9.5,9.5,9.5,9.5],\"z\":[0.5,1.5,0.5,1.5,0.5,1.5,0.5,1.5],\"type\":\"mesh3d\"},{\"alphahull\":1,\"color\":\"rgba(0,100,0,0.5)\",\"flatshading\":true,\"lighting\":{\"diffuse\":0.1,\"roughness\":0.5,\"specular\":2.0},\"text\":\"10\",\"x\":[4.5,4.5,5.5,5.5,4.5,4.5,5.5,5.5],\"y\":[-0.5,-0.5,-0.5,-0.5,2.5,2.5,2.5,2.5],\"z\":[0.5,1.5,0.5,1.5,0.5,1.5,0.5,1.5],\"type\":\"mesh3d\"},{\"alphahull\":1,\"color\":\"rgba(0,100,0,0.5)\",\"flatshading\":true,\"lighting\":{\"diffuse\":0.1,\"roughness\":0.5,\"specular\":2.0},\"text\":\"11\",\"x\":[0.5,0.5,1.5,1.5,0.5,0.5,1.5,1.5],\"y\":[7.5,7.5,7.5,7.5,8.5,8.5,8.5,8.5],\"z\":[0.5,3.5,0.5,3.5,0.5,3.5,0.5,3.5],\"type\":\"mesh3d\"},{\"alphahull\":1,\"color\":\"rgba(0,100,0,0.5)\",\"flatshading\":true,\"lighting\":{\"diffuse\":0.1,\"roughness\":0.5,\"specular\":2.0},\"text\":\"12\",\"x\":[2.5,2.5,5.5,5.5,2.5,2.5,5.5,5.5],\"y\":[4.5,4.5,4.5,4.5,5.5,5.5,5.5,5.5],\"z\":[1.5,2.5,1.5,2.5,1.5,2.5,1.5,2.5],\"type\":\"mesh3d\"},{\"alphahull\":1,\"color\":\"rgba(100,0,100,0.5)\",\"flatshading\":true,\"lighting\":{\"diffuse\":0.1,\"roughness\":0.5,\"specular\":2.0},\"text\":\"13\",\"x\":[3.5,3.5,7.5,7.5,3.5,3.5,7.5,7.5],\"y\":[2.5,2.5,2.5,2.5,3.5,3.5,3.5,3.5],\"z\":[1.5,2.5,1.5,2.5,1.5,2.5,1.5,2.5],\"type\":\"mesh3d\"},{\"alphahull\":1,\"color\":\"rgba(0,100,0,0.5)\",\"flatshading\":true,\"lighting\":{\"diffuse\":0.1,\"roughness\":0.5,\"specular\":2.0},\"text\":\"14\",\"x\":[4.5,4.5,7.5,7.5,4.5,4.5,7.5,7.5],\"y\":[8.5,8.5,8.5,8.5,9.5,9.5,9.5,9.5],\"z\":[1.5,2.5,1.5,2.5,1.5,2.5,1.5,2.5],\"type\":\"mesh3d\"},{\"alphahull\":1,\"color\":\"rgba(100,0,100,0.5)\",\"flatshading\":true,\"lighting\":{\"diffuse\":0.1,\"roughness\":0.5,\"specular\":2.0},\"text\":\"15\",\"x\":[2.5,2.5,3.5,3.5,2.5,2.5,3.5,3.5],\"y\":[6.5,6.5,6.5,6.5,9.5,9.5,9.5,9.5],\"z\":[1.5,2.5,1.5,2.5,1.5,2.5,1.5,2.5],\"type\":\"mesh3d\"},{\"alphahull\":1,\"color\":\"rgba(100,0,100,0.5)\",\"flatshading\":true,\"lighting\":{\"diffuse\":0.1,\"roughness\":0.5,\"specular\":2.0},\"text\":\"16\",\"x\":[5.5,5.5,9.5,9.5,5.5,5.5,9.5,9.5],\"y\":[7.5,7.5,7.5,7.5,8.5,8.5,8.5,8.5],\"z\":[1.5,2.5,1.5,2.5,1.5,2.5,1.5,2.5],\"type\":\"mesh3d\"},{\"alphahull\":1,\"color\":\"rgba(0,100,0,0.5)\",\"flatshading\":true,\"lighting\":{\"diffuse\":0.1,\"roughness\":0.5,\"specular\":2.0},\"text\":\"17\",\"x\":[0.5,0.5,1.5,1.5,0.5,0.5,1.5,1.5],\"y\":[8.5,8.5,8.5,8.5,9.5,9.5,9.5,9.5],\"z\":[1.5,3.5,1.5,3.5,1.5,3.5,1.5,3.5],\"type\":\"mesh3d\"},{\"alphahull\":1,\"color\":\"rgba(0,100,0,0.5)\",\"flatshading\":true,\"lighting\":{\"diffuse\":0.1,\"roughness\":0.5,\"specular\":2.0},\"text\":\"18\",\"x\":[1.5,1.5,2.5,2.5,1.5,1.5,2.5,2.5],\"y\":[2.5,2.5,2.5,2.5,6.5,6.5,6.5,6.5],\"z\":[1.5,2.5,1.5,2.5,1.5,2.5,1.5,2.5],\"type\":\"mesh3d\"},{\"alphahull\":1,\"color\":\"rgba(0,100,0,0.5)\",\"flatshading\":true,\"lighting\":{\"diffuse\":0.1,\"roughness\":0.5,\"specular\":2.0},\"text\":\"19\",\"x\":[1.5,1.5,2.5,2.5,1.5,1.5,2.5,2.5],\"y\":[-0.5,-0.5,-0.5,-0.5,2.5,2.5,2.5,2.5],\"z\":[1.5,2.5,1.5,2.5,1.5,2.5,1.5,2.5],\"type\":\"mesh3d\"},{\"alphahull\":1,\"color\":\"rgba(0,100,0,0.5)\",\"flatshading\":true,\"lighting\":{\"diffuse\":0.1,\"roughness\":0.5,\"specular\":2.0},\"text\":\"20\",\"x\":[4.5,4.5,5.5,5.5,4.5,4.5,5.5,5.5],\"y\":[2.5,2.5,2.5,2.5,3.5,3.5,3.5,3.5],\"z\":[2.5,4.5,2.5,4.5,2.5,4.5,2.5,4.5],\"type\":\"mesh3d\"},{\"alphahull\":1,\"color\":\"rgba(0,100,0,0.5)\",\"flatshading\":true,\"lighting\":{\"diffuse\":0.1,\"roughness\":0.5,\"specular\":2.0},\"text\":\"21\",\"x\":[1.5,1.5,4.5,4.5,1.5,1.5,4.5,4.5],\"y\":[7.5,7.5,7.5,7.5,8.5,8.5,8.5,8.5],\"z\":[2.5,3.5,2.5,3.5,2.5,3.5,2.5,3.5],\"type\":\"mesh3d\"},{\"alphahull\":1,\"color\":\"rgba(0,100,0,0.5)\",\"flatshading\":true,\"lighting\":{\"diffuse\":0.1,\"roughness\":0.5,\"specular\":2.0},\"text\":\"22\",\"x\":[1.5,1.5,4.5,4.5,1.5,1.5,4.5,4.5],\"y\":[8.5,8.5,8.5,8.5,9.5,9.5,9.5,9.5],\"z\":[2.5,3.5,2.5,3.5,2.5,3.5,2.5,3.5],\"type\":\"mesh3d\"},{\"alphahull\":1,\"color\":\"rgba(0,100,0,0.5)\",\"flatshading\":true,\"lighting\":{\"diffuse\":0.1,\"roughness\":0.5,\"specular\":2.0},\"text\":\"23\",\"x\":[8.5,8.5,9.5,9.5,8.5,8.5,9.5,9.5],\"y\":[5.5,5.5,5.5,5.5,8.5,8.5,8.5,8.5],\"z\":[2.5,3.5,2.5,3.5,2.5,3.5,2.5,3.5],\"type\":\"mesh3d\"},{\"alphahull\":1,\"color\":\"rgba(0,100,0,0.5)\",\"flatshading\":true,\"lighting\":{\"diffuse\":0.1,\"roughness\":0.5,\"specular\":2.0},\"text\":\"24\",\"x\":[6.5,6.5,7.5,7.5,6.5,6.5,7.5,7.5],\"y\":[-0.5,-0.5,-0.5,-0.5,3.5,3.5,3.5,3.5],\"z\":[2.5,3.5,2.5,3.5,2.5,3.5,2.5,3.5],\"type\":\"mesh3d\"}],                        {\"template\":{\"data\":{\"histogram2dcontour\":[{\"type\":\"histogram2dcontour\",\"colorbar\":{\"outlinewidth\":0,\"ticks\":\"\"},\"colorscale\":[[0.0,\"#0d0887\"],[0.1111111111111111,\"#46039f\"],[0.2222222222222222,\"#7201a8\"],[0.3333333333333333,\"#9c179e\"],[0.4444444444444444,\"#bd3786\"],[0.5555555555555556,\"#d8576b\"],[0.6666666666666666,\"#ed7953\"],[0.7777777777777778,\"#fb9f3a\"],[0.8888888888888888,\"#fdca26\"],[1.0,\"#f0f921\"]]}],\"choropleth\":[{\"type\":\"choropleth\",\"colorbar\":{\"outlinewidth\":0,\"ticks\":\"\"}}],\"histogram2d\":[{\"type\":\"histogram2d\",\"colorbar\":{\"outlinewidth\":0,\"ticks\":\"\"},\"colorscale\":[[0.0,\"#0d0887\"],[0.1111111111111111,\"#46039f\"],[0.2222222222222222,\"#7201a8\"],[0.3333333333333333,\"#9c179e\"],[0.4444444444444444,\"#bd3786\"],[0.5555555555555556,\"#d8576b\"],[0.6666666666666666,\"#ed7953\"],[0.7777777777777778,\"#fb9f3a\"],[0.8888888888888888,\"#fdca26\"],[1.0,\"#f0f921\"]]}],\"heatmap\":[{\"type\":\"heatmap\",\"colorbar\":{\"outlinewidth\":0,\"ticks\":\"\"},\"colorscale\":[[0.0,\"#0d0887\"],[0.1111111111111111,\"#46039f\"],[0.2222222222222222,\"#7201a8\"],[0.3333333333333333,\"#9c179e\"],[0.4444444444444444,\"#bd3786\"],[0.5555555555555556,\"#d8576b\"],[0.6666666666666666,\"#ed7953\"],[0.7777777777777778,\"#fb9f3a\"],[0.8888888888888888,\"#fdca26\"],[1.0,\"#f0f921\"]]}],\"heatmapgl\":[{\"type\":\"heatmapgl\",\"colorbar\":{\"outlinewidth\":0,\"ticks\":\"\"},\"colorscale\":[[0.0,\"#0d0887\"],[0.1111111111111111,\"#46039f\"],[0.2222222222222222,\"#7201a8\"],[0.3333333333333333,\"#9c179e\"],[0.4444444444444444,\"#bd3786\"],[0.5555555555555556,\"#d8576b\"],[0.6666666666666666,\"#ed7953\"],[0.7777777777777778,\"#fb9f3a\"],[0.8888888888888888,\"#fdca26\"],[1.0,\"#f0f921\"]]}],\"contourcarpet\":[{\"type\":\"contourcarpet\",\"colorbar\":{\"outlinewidth\":0,\"ticks\":\"\"}}],\"contour\":[{\"type\":\"contour\",\"colorbar\":{\"outlinewidth\":0,\"ticks\":\"\"},\"colorscale\":[[0.0,\"#0d0887\"],[0.1111111111111111,\"#46039f\"],[0.2222222222222222,\"#7201a8\"],[0.3333333333333333,\"#9c179e\"],[0.4444444444444444,\"#bd3786\"],[0.5555555555555556,\"#d8576b\"],[0.6666666666666666,\"#ed7953\"],[0.7777777777777778,\"#fb9f3a\"],[0.8888888888888888,\"#fdca26\"],[1.0,\"#f0f921\"]]}],\"surface\":[{\"type\":\"surface\",\"colorbar\":{\"outlinewidth\":0,\"ticks\":\"\"},\"colorscale\":[[0.0,\"#0d0887\"],[0.1111111111111111,\"#46039f\"],[0.2222222222222222,\"#7201a8\"],[0.3333333333333333,\"#9c179e\"],[0.4444444444444444,\"#bd3786\"],[0.5555555555555556,\"#d8576b\"],[0.6666666666666666,\"#ed7953\"],[0.7777777777777778,\"#fb9f3a\"],[0.8888888888888888,\"#fdca26\"],[1.0,\"#f0f921\"]]}],\"mesh3d\":[{\"type\":\"mesh3d\",\"colorbar\":{\"outlinewidth\":0,\"ticks\":\"\"}}],\"scatter\":[{\"fillpattern\":{\"fillmode\":\"overlay\",\"size\":10,\"solidity\":0.2},\"type\":\"scatter\"}],\"parcoords\":[{\"type\":\"parcoords\",\"line\":{\"colorbar\":{\"outlinewidth\":0,\"ticks\":\"\"}}}],\"scatterpolargl\":[{\"type\":\"scatterpolargl\",\"marker\":{\"colorbar\":{\"outlinewidth\":0,\"ticks\":\"\"}}}],\"bar\":[{\"error_x\":{\"color\":\"#2a3f5f\"},\"error_y\":{\"color\":\"#2a3f5f\"},\"marker\":{\"line\":{\"color\":\"#E5ECF6\",\"width\":0.5},\"pattern\":{\"fillmode\":\"overlay\",\"size\":10,\"solidity\":0.2}},\"type\":\"bar\"}],\"scattergeo\":[{\"type\":\"scattergeo\",\"marker\":{\"colorbar\":{\"outlinewidth\":0,\"ticks\":\"\"}}}],\"scatterpolar\":[{\"type\":\"scatterpolar\",\"marker\":{\"colorbar\":{\"outlinewidth\":0,\"ticks\":\"\"}}}],\"histogram\":[{\"marker\":{\"pattern\":{\"fillmode\":\"overlay\",\"size\":10,\"solidity\":0.2}},\"type\":\"histogram\"}],\"scattergl\":[{\"type\":\"scattergl\",\"marker\":{\"colorbar\":{\"outlinewidth\":0,\"ticks\":\"\"}}}],\"scatter3d\":[{\"type\":\"scatter3d\",\"line\":{\"colorbar\":{\"outlinewidth\":0,\"ticks\":\"\"}},\"marker\":{\"colorbar\":{\"outlinewidth\":0,\"ticks\":\"\"}}}],\"scattermapbox\":[{\"type\":\"scattermapbox\",\"marker\":{\"colorbar\":{\"outlinewidth\":0,\"ticks\":\"\"}}}],\"scatterternary\":[{\"type\":\"scatterternary\",\"marker\":{\"colorbar\":{\"outlinewidth\":0,\"ticks\":\"\"}}}],\"scattercarpet\":[{\"type\":\"scattercarpet\",\"marker\":{\"colorbar\":{\"outlinewidth\":0,\"ticks\":\"\"}}}],\"carpet\":[{\"aaxis\":{\"endlinecolor\":\"#2a3f5f\",\"gridcolor\":\"white\",\"linecolor\":\"white\",\"minorgridcolor\":\"white\",\"startlinecolor\":\"#2a3f5f\"},\"baxis\":{\"endlinecolor\":\"#2a3f5f\",\"gridcolor\":\"white\",\"linecolor\":\"white\",\"minorgridcolor\":\"white\",\"startlinecolor\":\"#2a3f5f\"},\"type\":\"carpet\"}],\"table\":[{\"cells\":{\"fill\":{\"color\":\"#EBF0F8\"},\"line\":{\"color\":\"white\"}},\"header\":{\"fill\":{\"color\":\"#C8D4E3\"},\"line\":{\"color\":\"white\"}},\"type\":\"table\"}],\"barpolar\":[{\"marker\":{\"line\":{\"color\":\"#E5ECF6\",\"width\":0.5},\"pattern\":{\"fillmode\":\"overlay\",\"size\":10,\"solidity\":0.2}},\"type\":\"barpolar\"}],\"pie\":[{\"automargin\":true,\"type\":\"pie\"}]},\"layout\":{\"autotypenumbers\":\"strict\",\"colorway\":[\"#636efa\",\"#EF553B\",\"#00cc96\",\"#ab63fa\",\"#FFA15A\",\"#19d3f3\",\"#FF6692\",\"#B6E880\",\"#FF97FF\",\"#FECB52\"],\"font\":{\"color\":\"#2a3f5f\"},\"hovermode\":\"closest\",\"hoverlabel\":{\"align\":\"left\"},\"paper_bgcolor\":\"white\",\"plot_bgcolor\":\"#E5ECF6\",\"polar\":{\"bgcolor\":\"#E5ECF6\",\"angularaxis\":{\"gridcolor\":\"white\",\"linecolor\":\"white\",\"ticks\":\"\"},\"radialaxis\":{\"gridcolor\":\"white\",\"linecolor\":\"white\",\"ticks\":\"\"}},\"ternary\":{\"bgcolor\":\"#E5ECF6\",\"aaxis\":{\"gridcolor\":\"white\",\"linecolor\":\"white\",\"ticks\":\"\"},\"baxis\":{\"gridcolor\":\"white\",\"linecolor\":\"white\",\"ticks\":\"\"},\"caxis\":{\"gridcolor\":\"white\",\"linecolor\":\"white\",\"ticks\":\"\"}},\"coloraxis\":{\"colorbar\":{\"outlinewidth\":0,\"ticks\":\"\"}},\"colorscale\":{\"sequential\":[[0.0,\"#0d0887\"],[0.1111111111111111,\"#46039f\"],[0.2222222222222222,\"#7201a8\"],[0.3333333333333333,\"#9c179e\"],[0.4444444444444444,\"#bd3786\"],[0.5555555555555556,\"#d8576b\"],[0.6666666666666666,\"#ed7953\"],[0.7777777777777778,\"#fb9f3a\"],[0.8888888888888888,\"#fdca26\"],[1.0,\"#f0f921\"]],\"sequentialminus\":[[0.0,\"#0d0887\"],[0.1111111111111111,\"#46039f\"],[0.2222222222222222,\"#7201a8\"],[0.3333333333333333,\"#9c179e\"],[0.4444444444444444,\"#bd3786\"],[0.5555555555555556,\"#d8576b\"],[0.6666666666666666,\"#ed7953\"],[0.7777777777777778,\"#fb9f3a\"],[0.8888888888888888,\"#fdca26\"],[1.0,\"#f0f921\"]],\"diverging\":[[0,\"#8e0152\"],[0.1,\"#c51b7d\"],[0.2,\"#de77ae\"],[0.3,\"#f1b6da\"],[0.4,\"#fde0ef\"],[0.5,\"#f7f7f7\"],[0.6,\"#e6f5d0\"],[0.7,\"#b8e186\"],[0.8,\"#7fbc41\"],[0.9,\"#4d9221\"],[1,\"#276419\"]]},\"xaxis\":{\"gridcolor\":\"white\",\"linecolor\":\"white\",\"ticks\":\"\",\"title\":{\"standoff\":15},\"zerolinecolor\":\"white\",\"automargin\":true,\"zerolinewidth\":2},\"yaxis\":{\"gridcolor\":\"white\",\"linecolor\":\"white\",\"ticks\":\"\",\"title\":{\"standoff\":15},\"zerolinecolor\":\"white\",\"automargin\":true,\"zerolinewidth\":2},\"scene\":{\"xaxis\":{\"backgroundcolor\":\"#E5ECF6\",\"gridcolor\":\"white\",\"linecolor\":\"white\",\"showbackground\":true,\"ticks\":\"\",\"zerolinecolor\":\"white\",\"gridwidth\":2},\"yaxis\":{\"backgroundcolor\":\"#E5ECF6\",\"gridcolor\":\"white\",\"linecolor\":\"white\",\"showbackground\":true,\"ticks\":\"\",\"zerolinecolor\":\"white\",\"gridwidth\":2},\"zaxis\":{\"backgroundcolor\":\"#E5ECF6\",\"gridcolor\":\"white\",\"linecolor\":\"white\",\"showbackground\":true,\"ticks\":\"\",\"zerolinecolor\":\"white\",\"gridwidth\":2}},\"shapedefaults\":{\"line\":{\"color\":\"#2a3f5f\"}},\"annotationdefaults\":{\"arrowcolor\":\"#2a3f5f\",\"arrowhead\":0,\"arrowwidth\":1},\"geo\":{\"bgcolor\":\"white\",\"landcolor\":\"#E5ECF6\",\"subunitcolor\":\"white\",\"showland\":true,\"showlakes\":true,\"lakecolor\":\"white\"},\"title\":{\"x\":0.05},\"mapbox\":{\"style\":\"light\"}}},\"autosize\":false,\"width\":600,\"height\":600},                        {\"responsive\": true}                    ).then(function(){\n",
       "                            \n",
       "var gd = document.getElementById('aabd9062-3fa2-4690-8beb-6b9d59a12fe9');\n",
       "var x = new MutationObserver(function (mutations, observer) {{\n",
       "        var display = window.getComputedStyle(gd).display;\n",
       "        if (!display || display === 'none') {{\n",
       "            console.log([gd, 'removed!']);\n",
       "            Plotly.purge(gd);\n",
       "            observer.disconnect();\n",
       "        }}\n",
       "}});\n",
       "\n",
       "// Listen for the removal of the full notebook cells\n",
       "var notebookContainer = gd.closest('#notebook-container');\n",
       "if (notebookContainer) {{\n",
       "    x.observe(notebookContainer, {childList: true});\n",
       "}}\n",
       "\n",
       "// Listen for the clearing of the current output cell\n",
       "var outputEl = gd.closest('.output');\n",
       "if (outputEl) {{\n",
       "    x.observe(outputEl, {childList: true});\n",
       "}}\n",
       "\n",
       "                        })                };                });            </script>        </div>"
      ]
     },
     "metadata": {},
     "output_type": "display_data"
    }
   ],
   "source": [
    "plotbricks(BB,dis=dis)"
   ]
  },
  {
   "cell_type": "code",
   "execution_count": 295,
   "id": "052d5bd2-75b1-4256-9109-8f79c11ce316",
   "metadata": {},
   "outputs": [],
   "source": [
    "import plotly.graph_objects as go\n",
    "import numpy as np\n",
    "def cubes(size, pos_x, pos_y, pos_z, color):\n",
    "    # create points\n",
    "    x, y, z = np.meshgrid(\n",
    "        np.linspace(pos_x-size/2, pos_x+size/2, 2), \n",
    "        np.linspace(pos_y-size/2, pos_y+size/2, 2), \n",
    "        np.linspace(pos_z-size/2, pos_z+size/2, 2),\n",
    "    )\n",
    "    x = x.flatten()\n",
    "    y = y.flatten()\n",
    "    z = z.flatten()\n",
    "    \n",
    "    return go.Mesh3d(x=x, y=y, z=z, alphahull=1, flatshading=True, color=color, lighting={'diffuse': 0.1, 'specular': 2.0, 'roughness': 0.5})\n",
    "\n",
    "def brick(i,b, color):\n",
    "    # create points\n",
    "    size=1\n",
    "       \n",
    "    x, y, z = np.meshgrid(\n",
    "        np.linspace(size*b[0][0]-0.5*size, size*b[1][0]+0.5*size, 2), \n",
    "        np.linspace(size*b[0][1]-0.5*size, size*b[1][1]+0.5*size, 2), \n",
    "        np.linspace(size*b[0][2]-0.5*size, size*b[1][2]+0.5*size, 2), \n",
    "        \n",
    "    )\n",
    "    x = x.flatten()\n",
    "    y = y.flatten()\n",
    "    z = z.flatten()\n",
    "    #print(x,y,z)\n",
    "    return go.Mesh3d(x=x, y=y, z=z,text=\"%d\"%i, alphahull=1, flatshading=True, color=color, lighting={'diffuse': 0.1, 'specular': 2.0, 'roughness': 0.5})\n",
    "\n",
    "def plotbricks(B,dis=[]):\n",
    "    fig = go.Figure()\n",
    "    # set edge length of cubes\n",
    "    size = 5\n",
    "    \n",
    "    # add outer cube\n",
    "    for i,b in enumerate(B):\n",
    "        if i in dis:\n",
    "            fig.add_trace(brick(i,b,'rgba(0,100,0,0.5)'))\n",
    "        else:\n",
    "            fig.add_trace(brick(i,b,'rgba(100,0,100,0.5)'))\n",
    "    \n",
    "    #fig.show()\n",
    "    fig.update_layout(\n",
    "        autosize=False,\n",
    "        width=600,\n",
    "        height=600,\n",
    "    )\n",
    "    fig.show()"
   ]
  },
  {
   "cell_type": "code",
   "execution_count": 122,
   "id": "28c9a83d-9d9a-4797-bb66-0bedf39a10e1",
   "metadata": {},
   "outputs": [
    {
     "data": {
      "application/vnd.plotly.v1+json": {
       "config": {
        "plotlyServerURL": "https://plot.ly"
       },
       "data": [
        {
         "alphahull": 1,
         "color": "rgba(100,0,100,0.5)",
         "flatshading": true,
         "lighting": {
          "diffuse": 0.1,
          "roughness": 0.5,
          "specular": 2
         },
         "type": "mesh3d",
         "x": [
          0.5,
          0.5,
          1.5,
          1.5,
          0.5,
          0.5,
          1.5,
          1.5
         ],
         "y": [
          -0.5,
          -0.5,
          -0.5,
          -0.5,
          2.5,
          2.5,
          2.5,
          2.5
         ],
         "z": [
          0.5,
          1.5,
          0.5,
          1.5,
          0.5,
          1.5,
          0.5,
          1.5
         ]
        },
        {
         "alphahull": 1,
         "color": "rgba(100,0,100,0.5)",
         "flatshading": true,
         "lighting": {
          "diffuse": 0.1,
          "roughness": 0.5,
          "specular": 2
         },
         "type": "mesh3d",
         "x": [
          -0.5,
          -0.5,
          2.5,
          2.5,
          -0.5,
          -0.5,
          2.5,
          2.5
         ],
         "y": [
          -0.5,
          -0.5,
          -0.5,
          -0.5,
          0.5,
          0.5,
          0.5,
          0.5
         ],
         "z": [
          1.5,
          2.5,
          1.5,
          2.5,
          1.5,
          2.5,
          1.5,
          2.5
         ]
        },
        {
         "alphahull": 1,
         "color": "rgba(100,0,100,0.5)",
         "flatshading": true,
         "lighting": {
          "diffuse": 0.1,
          "roughness": 0.5,
          "specular": 2
         },
         "type": "mesh3d",
         "x": [
          -0.5,
          -0.5,
          2.5,
          2.5,
          -0.5,
          -0.5,
          2.5,
          2.5
         ],
         "y": [
          1.5,
          1.5,
          1.5,
          1.5,
          2.5,
          2.5,
          2.5,
          2.5
         ],
         "z": [
          1.5,
          2.5,
          1.5,
          2.5,
          1.5,
          2.5,
          1.5,
          2.5
         ]
        },
        {
         "alphahull": 1,
         "color": "rgba(100,0,100,0.5)",
         "flatshading": true,
         "lighting": {
          "diffuse": 0.1,
          "roughness": 0.5,
          "specular": 2
         },
         "type": "mesh3d",
         "x": [
          -0.5,
          -0.5,
          0.5,
          0.5,
          -0.5,
          -0.5,
          0.5,
          0.5
         ],
         "y": [
          -0.5,
          -0.5,
          -0.5,
          -0.5,
          2.5,
          2.5,
          2.5,
          2.5
         ],
         "z": [
          2.5,
          3.5,
          2.5,
          3.5,
          2.5,
          3.5,
          2.5,
          3.5
         ]
        },
        {
         "alphahull": 1,
         "color": "rgba(100,0,100,0.5)",
         "flatshading": true,
         "lighting": {
          "diffuse": 0.1,
          "roughness": 0.5,
          "specular": 2
         },
         "type": "mesh3d",
         "x": [
          1.5,
          1.5,
          2.5,
          2.5,
          1.5,
          1.5,
          2.5,
          2.5
         ],
         "y": [
          -0.5,
          -0.5,
          -0.5,
          -0.5,
          2.5,
          2.5,
          2.5,
          2.5
         ],
         "z": [
          2.5,
          3.5,
          2.5,
          3.5,
          2.5,
          3.5,
          2.5,
          3.5
         ]
        },
        {
         "alphahull": 1,
         "color": "rgba(100,0,100,0.5)",
         "flatshading": true,
         "lighting": {
          "diffuse": 0.1,
          "roughness": 0.5,
          "specular": 2
         },
         "type": "mesh3d",
         "x": [
          -0.5,
          -0.5,
          2.5,
          2.5,
          -0.5,
          -0.5,
          2.5,
          2.5
         ],
         "y": [
          0.5,
          0.5,
          0.5,
          0.5,
          1.5,
          1.5,
          1.5,
          1.5
         ],
         "z": [
          3.5,
          4.5,
          3.5,
          4.5,
          3.5,
          4.5,
          3.5,
          4.5
         ]
        },
        {
         "alphahull": 1,
         "color": "rgba(100,0,100,0.5)",
         "flatshading": true,
         "lighting": {
          "diffuse": 0.1,
          "roughness": 0.5,
          "specular": 2
         },
         "type": "mesh3d",
         "x": [
          0.5,
          0.5,
          1.5,
          1.5,
          0.5,
          0.5,
          1.5,
          1.5
         ],
         "y": [
          0.5,
          0.5,
          0.5,
          0.5,
          1.5,
          1.5,
          1.5,
          1.5
         ],
         "z": [
          4.5,
          6.5,
          4.5,
          6.5,
          4.5,
          6.5,
          4.5,
          6.5
         ]
        }
       ],
       "layout": {
        "autosize": false,
        "height": 800,
        "scene": {
         "aspectmode": "auto",
         "aspectratio": {
          "x": 0.7937005259840998,
          "y": 0.7937005259840998,
          "z": 1.5874010519681996
         },
         "camera": {
          "center": {
           "x": 0,
           "y": 0,
           "z": 0
          },
          "eye": {
           "x": 57.73502691896261,
           "y": 57.735026918962596,
           "z": 57.73502691896261
          },
          "projection": {
           "type": "perspective"
          },
          "up": {
           "x": 0,
           "y": 0,
           "z": 1
          }
         }
        },
        "template": {
         "data": {
          "bar": [
           {
            "error_x": {
             "color": "#2a3f5f"
            },
            "error_y": {
             "color": "#2a3f5f"
            },
            "marker": {
             "line": {
              "color": "#E5ECF6",
              "width": 0.5
             },
             "pattern": {
              "fillmode": "overlay",
              "size": 10,
              "solidity": 0.2
             }
            },
            "type": "bar"
           }
          ],
          "barpolar": [
           {
            "marker": {
             "line": {
              "color": "#E5ECF6",
              "width": 0.5
             },
             "pattern": {
              "fillmode": "overlay",
              "size": 10,
              "solidity": 0.2
             }
            },
            "type": "barpolar"
           }
          ],
          "carpet": [
           {
            "aaxis": {
             "endlinecolor": "#2a3f5f",
             "gridcolor": "white",
             "linecolor": "white",
             "minorgridcolor": "white",
             "startlinecolor": "#2a3f5f"
            },
            "baxis": {
             "endlinecolor": "#2a3f5f",
             "gridcolor": "white",
             "linecolor": "white",
             "minorgridcolor": "white",
             "startlinecolor": "#2a3f5f"
            },
            "type": "carpet"
           }
          ],
          "choropleth": [
           {
            "colorbar": {
             "outlinewidth": 0,
             "ticks": ""
            },
            "type": "choropleth"
           }
          ],
          "contour": [
           {
            "colorbar": {
             "outlinewidth": 0,
             "ticks": ""
            },
            "colorscale": [
             [
              0,
              "#0d0887"
             ],
             [
              0.1111111111111111,
              "#46039f"
             ],
             [
              0.2222222222222222,
              "#7201a8"
             ],
             [
              0.3333333333333333,
              "#9c179e"
             ],
             [
              0.4444444444444444,
              "#bd3786"
             ],
             [
              0.5555555555555556,
              "#d8576b"
             ],
             [
              0.6666666666666666,
              "#ed7953"
             ],
             [
              0.7777777777777778,
              "#fb9f3a"
             ],
             [
              0.8888888888888888,
              "#fdca26"
             ],
             [
              1,
              "#f0f921"
             ]
            ],
            "type": "contour"
           }
          ],
          "contourcarpet": [
           {
            "colorbar": {
             "outlinewidth": 0,
             "ticks": ""
            },
            "type": "contourcarpet"
           }
          ],
          "heatmap": [
           {
            "colorbar": {
             "outlinewidth": 0,
             "ticks": ""
            },
            "colorscale": [
             [
              0,
              "#0d0887"
             ],
             [
              0.1111111111111111,
              "#46039f"
             ],
             [
              0.2222222222222222,
              "#7201a8"
             ],
             [
              0.3333333333333333,
              "#9c179e"
             ],
             [
              0.4444444444444444,
              "#bd3786"
             ],
             [
              0.5555555555555556,
              "#d8576b"
             ],
             [
              0.6666666666666666,
              "#ed7953"
             ],
             [
              0.7777777777777778,
              "#fb9f3a"
             ],
             [
              0.8888888888888888,
              "#fdca26"
             ],
             [
              1,
              "#f0f921"
             ]
            ],
            "type": "heatmap"
           }
          ],
          "heatmapgl": [
           {
            "colorbar": {
             "outlinewidth": 0,
             "ticks": ""
            },
            "colorscale": [
             [
              0,
              "#0d0887"
             ],
             [
              0.1111111111111111,
              "#46039f"
             ],
             [
              0.2222222222222222,
              "#7201a8"
             ],
             [
              0.3333333333333333,
              "#9c179e"
             ],
             [
              0.4444444444444444,
              "#bd3786"
             ],
             [
              0.5555555555555556,
              "#d8576b"
             ],
             [
              0.6666666666666666,
              "#ed7953"
             ],
             [
              0.7777777777777778,
              "#fb9f3a"
             ],
             [
              0.8888888888888888,
              "#fdca26"
             ],
             [
              1,
              "#f0f921"
             ]
            ],
            "type": "heatmapgl"
           }
          ],
          "histogram": [
           {
            "marker": {
             "pattern": {
              "fillmode": "overlay",
              "size": 10,
              "solidity": 0.2
             }
            },
            "type": "histogram"
           }
          ],
          "histogram2d": [
           {
            "colorbar": {
             "outlinewidth": 0,
             "ticks": ""
            },
            "colorscale": [
             [
              0,
              "#0d0887"
             ],
             [
              0.1111111111111111,
              "#46039f"
             ],
             [
              0.2222222222222222,
              "#7201a8"
             ],
             [
              0.3333333333333333,
              "#9c179e"
             ],
             [
              0.4444444444444444,
              "#bd3786"
             ],
             [
              0.5555555555555556,
              "#d8576b"
             ],
             [
              0.6666666666666666,
              "#ed7953"
             ],
             [
              0.7777777777777778,
              "#fb9f3a"
             ],
             [
              0.8888888888888888,
              "#fdca26"
             ],
             [
              1,
              "#f0f921"
             ]
            ],
            "type": "histogram2d"
           }
          ],
          "histogram2dcontour": [
           {
            "colorbar": {
             "outlinewidth": 0,
             "ticks": ""
            },
            "colorscale": [
             [
              0,
              "#0d0887"
             ],
             [
              0.1111111111111111,
              "#46039f"
             ],
             [
              0.2222222222222222,
              "#7201a8"
             ],
             [
              0.3333333333333333,
              "#9c179e"
             ],
             [
              0.4444444444444444,
              "#bd3786"
             ],
             [
              0.5555555555555556,
              "#d8576b"
             ],
             [
              0.6666666666666666,
              "#ed7953"
             ],
             [
              0.7777777777777778,
              "#fb9f3a"
             ],
             [
              0.8888888888888888,
              "#fdca26"
             ],
             [
              1,
              "#f0f921"
             ]
            ],
            "type": "histogram2dcontour"
           }
          ],
          "mesh3d": [
           {
            "colorbar": {
             "outlinewidth": 0,
             "ticks": ""
            },
            "type": "mesh3d"
           }
          ],
          "parcoords": [
           {
            "line": {
             "colorbar": {
              "outlinewidth": 0,
              "ticks": ""
             }
            },
            "type": "parcoords"
           }
          ],
          "pie": [
           {
            "automargin": true,
            "type": "pie"
           }
          ],
          "scatter": [
           {
            "fillpattern": {
             "fillmode": "overlay",
             "size": 10,
             "solidity": 0.2
            },
            "type": "scatter"
           }
          ],
          "scatter3d": [
           {
            "line": {
             "colorbar": {
              "outlinewidth": 0,
              "ticks": ""
             }
            },
            "marker": {
             "colorbar": {
              "outlinewidth": 0,
              "ticks": ""
             }
            },
            "type": "scatter3d"
           }
          ],
          "scattercarpet": [
           {
            "marker": {
             "colorbar": {
              "outlinewidth": 0,
              "ticks": ""
             }
            },
            "type": "scattercarpet"
           }
          ],
          "scattergeo": [
           {
            "marker": {
             "colorbar": {
              "outlinewidth": 0,
              "ticks": ""
             }
            },
            "type": "scattergeo"
           }
          ],
          "scattergl": [
           {
            "marker": {
             "colorbar": {
              "outlinewidth": 0,
              "ticks": ""
             }
            },
            "type": "scattergl"
           }
          ],
          "scattermapbox": [
           {
            "marker": {
             "colorbar": {
              "outlinewidth": 0,
              "ticks": ""
             }
            },
            "type": "scattermapbox"
           }
          ],
          "scatterpolar": [
           {
            "marker": {
             "colorbar": {
              "outlinewidth": 0,
              "ticks": ""
             }
            },
            "type": "scatterpolar"
           }
          ],
          "scatterpolargl": [
           {
            "marker": {
             "colorbar": {
              "outlinewidth": 0,
              "ticks": ""
             }
            },
            "type": "scatterpolargl"
           }
          ],
          "scatterternary": [
           {
            "marker": {
             "colorbar": {
              "outlinewidth": 0,
              "ticks": ""
             }
            },
            "type": "scatterternary"
           }
          ],
          "surface": [
           {
            "colorbar": {
             "outlinewidth": 0,
             "ticks": ""
            },
            "colorscale": [
             [
              0,
              "#0d0887"
             ],
             [
              0.1111111111111111,
              "#46039f"
             ],
             [
              0.2222222222222222,
              "#7201a8"
             ],
             [
              0.3333333333333333,
              "#9c179e"
             ],
             [
              0.4444444444444444,
              "#bd3786"
             ],
             [
              0.5555555555555556,
              "#d8576b"
             ],
             [
              0.6666666666666666,
              "#ed7953"
             ],
             [
              0.7777777777777778,
              "#fb9f3a"
             ],
             [
              0.8888888888888888,
              "#fdca26"
             ],
             [
              1,
              "#f0f921"
             ]
            ],
            "type": "surface"
           }
          ],
          "table": [
           {
            "cells": {
             "fill": {
              "color": "#EBF0F8"
             },
             "line": {
              "color": "white"
             }
            },
            "header": {
             "fill": {
              "color": "#C8D4E3"
             },
             "line": {
              "color": "white"
             }
            },
            "type": "table"
           }
          ]
         },
         "layout": {
          "annotationdefaults": {
           "arrowcolor": "#2a3f5f",
           "arrowhead": 0,
           "arrowwidth": 1
          },
          "autotypenumbers": "strict",
          "coloraxis": {
           "colorbar": {
            "outlinewidth": 0,
            "ticks": ""
           }
          },
          "colorscale": {
           "diverging": [
            [
             0,
             "#8e0152"
            ],
            [
             0.1,
             "#c51b7d"
            ],
            [
             0.2,
             "#de77ae"
            ],
            [
             0.3,
             "#f1b6da"
            ],
            [
             0.4,
             "#fde0ef"
            ],
            [
             0.5,
             "#f7f7f7"
            ],
            [
             0.6,
             "#e6f5d0"
            ],
            [
             0.7,
             "#b8e186"
            ],
            [
             0.8,
             "#7fbc41"
            ],
            [
             0.9,
             "#4d9221"
            ],
            [
             1,
             "#276419"
            ]
           ],
           "sequential": [
            [
             0,
             "#0d0887"
            ],
            [
             0.1111111111111111,
             "#46039f"
            ],
            [
             0.2222222222222222,
             "#7201a8"
            ],
            [
             0.3333333333333333,
             "#9c179e"
            ],
            [
             0.4444444444444444,
             "#bd3786"
            ],
            [
             0.5555555555555556,
             "#d8576b"
            ],
            [
             0.6666666666666666,
             "#ed7953"
            ],
            [
             0.7777777777777778,
             "#fb9f3a"
            ],
            [
             0.8888888888888888,
             "#fdca26"
            ],
            [
             1,
             "#f0f921"
            ]
           ],
           "sequentialminus": [
            [
             0,
             "#0d0887"
            ],
            [
             0.1111111111111111,
             "#46039f"
            ],
            [
             0.2222222222222222,
             "#7201a8"
            ],
            [
             0.3333333333333333,
             "#9c179e"
            ],
            [
             0.4444444444444444,
             "#bd3786"
            ],
            [
             0.5555555555555556,
             "#d8576b"
            ],
            [
             0.6666666666666666,
             "#ed7953"
            ],
            [
             0.7777777777777778,
             "#fb9f3a"
            ],
            [
             0.8888888888888888,
             "#fdca26"
            ],
            [
             1,
             "#f0f921"
            ]
           ]
          },
          "colorway": [
           "#636efa",
           "#EF553B",
           "#00cc96",
           "#ab63fa",
           "#FFA15A",
           "#19d3f3",
           "#FF6692",
           "#B6E880",
           "#FF97FF",
           "#FECB52"
          ],
          "font": {
           "color": "#2a3f5f"
          },
          "geo": {
           "bgcolor": "white",
           "lakecolor": "white",
           "landcolor": "#E5ECF6",
           "showlakes": true,
           "showland": true,
           "subunitcolor": "white"
          },
          "hoverlabel": {
           "align": "left"
          },
          "hovermode": "closest",
          "mapbox": {
           "style": "light"
          },
          "paper_bgcolor": "white",
          "plot_bgcolor": "#E5ECF6",
          "polar": {
           "angularaxis": {
            "gridcolor": "white",
            "linecolor": "white",
            "ticks": ""
           },
           "bgcolor": "#E5ECF6",
           "radialaxis": {
            "gridcolor": "white",
            "linecolor": "white",
            "ticks": ""
           }
          },
          "scene": {
           "xaxis": {
            "backgroundcolor": "#E5ECF6",
            "gridcolor": "white",
            "gridwidth": 2,
            "linecolor": "white",
            "showbackground": true,
            "ticks": "",
            "zerolinecolor": "white"
           },
           "yaxis": {
            "backgroundcolor": "#E5ECF6",
            "gridcolor": "white",
            "gridwidth": 2,
            "linecolor": "white",
            "showbackground": true,
            "ticks": "",
            "zerolinecolor": "white"
           },
           "zaxis": {
            "backgroundcolor": "#E5ECF6",
            "gridcolor": "white",
            "gridwidth": 2,
            "linecolor": "white",
            "showbackground": true,
            "ticks": "",
            "zerolinecolor": "white"
           }
          },
          "shapedefaults": {
           "line": {
            "color": "#2a3f5f"
           }
          },
          "ternary": {
           "aaxis": {
            "gridcolor": "white",
            "linecolor": "white",
            "ticks": ""
           },
           "baxis": {
            "gridcolor": "white",
            "linecolor": "white",
            "ticks": ""
           },
           "bgcolor": "#E5ECF6",
           "caxis": {
            "gridcolor": "white",
            "linecolor": "white",
            "ticks": ""
           }
          },
          "title": {
           "x": 0.05
          },
          "xaxis": {
           "automargin": true,
           "gridcolor": "white",
           "linecolor": "white",
           "ticks": "",
           "title": {
            "standoff": 15
           },
           "zerolinecolor": "white",
           "zerolinewidth": 2
          },
          "yaxis": {
           "automargin": true,
           "gridcolor": "white",
           "linecolor": "white",
           "ticks": "",
           "title": {
            "standoff": 15
           },
           "zerolinecolor": "white",
           "zerolinewidth": 2
          }
         }
        },
        "width": 800
       }
      },
      "text/html": [
       "<div>                            <div id=\"258b9257-7edb-4d3c-9eae-2a4633411035\" class=\"plotly-graph-div\" style=\"height:800px; width:800px;\"></div>            <script type=\"text/javascript\">                require([\"plotly\"], function(Plotly) {                    window.PLOTLYENV=window.PLOTLYENV || {};                                    if (document.getElementById(\"258b9257-7edb-4d3c-9eae-2a4633411035\")) {                    Plotly.newPlot(                        \"258b9257-7edb-4d3c-9eae-2a4633411035\",                        [{\"alphahull\":1,\"color\":\"rgba(100,0,100,0.5)\",\"flatshading\":true,\"lighting\":{\"diffuse\":0.1,\"roughness\":0.5,\"specular\":2.0},\"x\":[0.5,0.5,1.5,1.5,0.5,0.5,1.5,1.5],\"y\":[-0.5,-0.5,-0.5,-0.5,2.5,2.5,2.5,2.5],\"z\":[0.5,1.5,0.5,1.5,0.5,1.5,0.5,1.5],\"type\":\"mesh3d\"},{\"alphahull\":1,\"color\":\"rgba(100,0,100,0.5)\",\"flatshading\":true,\"lighting\":{\"diffuse\":0.1,\"roughness\":0.5,\"specular\":2.0},\"x\":[-0.5,-0.5,2.5,2.5,-0.5,-0.5,2.5,2.5],\"y\":[-0.5,-0.5,-0.5,-0.5,0.5,0.5,0.5,0.5],\"z\":[1.5,2.5,1.5,2.5,1.5,2.5,1.5,2.5],\"type\":\"mesh3d\"},{\"alphahull\":1,\"color\":\"rgba(100,0,100,0.5)\",\"flatshading\":true,\"lighting\":{\"diffuse\":0.1,\"roughness\":0.5,\"specular\":2.0},\"x\":[-0.5,-0.5,2.5,2.5,-0.5,-0.5,2.5,2.5],\"y\":[1.5,1.5,1.5,1.5,2.5,2.5,2.5,2.5],\"z\":[1.5,2.5,1.5,2.5,1.5,2.5,1.5,2.5],\"type\":\"mesh3d\"},{\"alphahull\":1,\"color\":\"rgba(100,0,100,0.5)\",\"flatshading\":true,\"lighting\":{\"diffuse\":0.1,\"roughness\":0.5,\"specular\":2.0},\"x\":[-0.5,-0.5,0.5,0.5,-0.5,-0.5,0.5,0.5],\"y\":[-0.5,-0.5,-0.5,-0.5,2.5,2.5,2.5,2.5],\"z\":[2.5,3.5,2.5,3.5,2.5,3.5,2.5,3.5],\"type\":\"mesh3d\"},{\"alphahull\":1,\"color\":\"rgba(100,0,100,0.5)\",\"flatshading\":true,\"lighting\":{\"diffuse\":0.1,\"roughness\":0.5,\"specular\":2.0},\"x\":[1.5,1.5,2.5,2.5,1.5,1.5,2.5,2.5],\"y\":[-0.5,-0.5,-0.5,-0.5,2.5,2.5,2.5,2.5],\"z\":[2.5,3.5,2.5,3.5,2.5,3.5,2.5,3.5],\"type\":\"mesh3d\"},{\"alphahull\":1,\"color\":\"rgba(100,0,100,0.5)\",\"flatshading\":true,\"lighting\":{\"diffuse\":0.1,\"roughness\":0.5,\"specular\":2.0},\"x\":[-0.5,-0.5,2.5,2.5,-0.5,-0.5,2.5,2.5],\"y\":[0.5,0.5,0.5,0.5,1.5,1.5,1.5,1.5],\"z\":[3.5,4.5,3.5,4.5,3.5,4.5,3.5,4.5],\"type\":\"mesh3d\"},{\"alphahull\":1,\"color\":\"rgba(100,0,100,0.5)\",\"flatshading\":true,\"lighting\":{\"diffuse\":0.1,\"roughness\":0.5,\"specular\":2.0},\"x\":[0.5,0.5,1.5,1.5,0.5,0.5,1.5,1.5],\"y\":[0.5,0.5,0.5,0.5,1.5,1.5,1.5,1.5],\"z\":[4.5,6.5,4.5,6.5,4.5,6.5,4.5,6.5],\"type\":\"mesh3d\"}],                        {\"template\":{\"data\":{\"histogram2dcontour\":[{\"type\":\"histogram2dcontour\",\"colorbar\":{\"outlinewidth\":0,\"ticks\":\"\"},\"colorscale\":[[0.0,\"#0d0887\"],[0.1111111111111111,\"#46039f\"],[0.2222222222222222,\"#7201a8\"],[0.3333333333333333,\"#9c179e\"],[0.4444444444444444,\"#bd3786\"],[0.5555555555555556,\"#d8576b\"],[0.6666666666666666,\"#ed7953\"],[0.7777777777777778,\"#fb9f3a\"],[0.8888888888888888,\"#fdca26\"],[1.0,\"#f0f921\"]]}],\"choropleth\":[{\"type\":\"choropleth\",\"colorbar\":{\"outlinewidth\":0,\"ticks\":\"\"}}],\"histogram2d\":[{\"type\":\"histogram2d\",\"colorbar\":{\"outlinewidth\":0,\"ticks\":\"\"},\"colorscale\":[[0.0,\"#0d0887\"],[0.1111111111111111,\"#46039f\"],[0.2222222222222222,\"#7201a8\"],[0.3333333333333333,\"#9c179e\"],[0.4444444444444444,\"#bd3786\"],[0.5555555555555556,\"#d8576b\"],[0.6666666666666666,\"#ed7953\"],[0.7777777777777778,\"#fb9f3a\"],[0.8888888888888888,\"#fdca26\"],[1.0,\"#f0f921\"]]}],\"heatmap\":[{\"type\":\"heatmap\",\"colorbar\":{\"outlinewidth\":0,\"ticks\":\"\"},\"colorscale\":[[0.0,\"#0d0887\"],[0.1111111111111111,\"#46039f\"],[0.2222222222222222,\"#7201a8\"],[0.3333333333333333,\"#9c179e\"],[0.4444444444444444,\"#bd3786\"],[0.5555555555555556,\"#d8576b\"],[0.6666666666666666,\"#ed7953\"],[0.7777777777777778,\"#fb9f3a\"],[0.8888888888888888,\"#fdca26\"],[1.0,\"#f0f921\"]]}],\"heatmapgl\":[{\"type\":\"heatmapgl\",\"colorbar\":{\"outlinewidth\":0,\"ticks\":\"\"},\"colorscale\":[[0.0,\"#0d0887\"],[0.1111111111111111,\"#46039f\"],[0.2222222222222222,\"#7201a8\"],[0.3333333333333333,\"#9c179e\"],[0.4444444444444444,\"#bd3786\"],[0.5555555555555556,\"#d8576b\"],[0.6666666666666666,\"#ed7953\"],[0.7777777777777778,\"#fb9f3a\"],[0.8888888888888888,\"#fdca26\"],[1.0,\"#f0f921\"]]}],\"contourcarpet\":[{\"type\":\"contourcarpet\",\"colorbar\":{\"outlinewidth\":0,\"ticks\":\"\"}}],\"contour\":[{\"type\":\"contour\",\"colorbar\":{\"outlinewidth\":0,\"ticks\":\"\"},\"colorscale\":[[0.0,\"#0d0887\"],[0.1111111111111111,\"#46039f\"],[0.2222222222222222,\"#7201a8\"],[0.3333333333333333,\"#9c179e\"],[0.4444444444444444,\"#bd3786\"],[0.5555555555555556,\"#d8576b\"],[0.6666666666666666,\"#ed7953\"],[0.7777777777777778,\"#fb9f3a\"],[0.8888888888888888,\"#fdca26\"],[1.0,\"#f0f921\"]]}],\"surface\":[{\"type\":\"surface\",\"colorbar\":{\"outlinewidth\":0,\"ticks\":\"\"},\"colorscale\":[[0.0,\"#0d0887\"],[0.1111111111111111,\"#46039f\"],[0.2222222222222222,\"#7201a8\"],[0.3333333333333333,\"#9c179e\"],[0.4444444444444444,\"#bd3786\"],[0.5555555555555556,\"#d8576b\"],[0.6666666666666666,\"#ed7953\"],[0.7777777777777778,\"#fb9f3a\"],[0.8888888888888888,\"#fdca26\"],[1.0,\"#f0f921\"]]}],\"mesh3d\":[{\"type\":\"mesh3d\",\"colorbar\":{\"outlinewidth\":0,\"ticks\":\"\"}}],\"scatter\":[{\"fillpattern\":{\"fillmode\":\"overlay\",\"size\":10,\"solidity\":0.2},\"type\":\"scatter\"}],\"parcoords\":[{\"type\":\"parcoords\",\"line\":{\"colorbar\":{\"outlinewidth\":0,\"ticks\":\"\"}}}],\"scatterpolargl\":[{\"type\":\"scatterpolargl\",\"marker\":{\"colorbar\":{\"outlinewidth\":0,\"ticks\":\"\"}}}],\"bar\":[{\"error_x\":{\"color\":\"#2a3f5f\"},\"error_y\":{\"color\":\"#2a3f5f\"},\"marker\":{\"line\":{\"color\":\"#E5ECF6\",\"width\":0.5},\"pattern\":{\"fillmode\":\"overlay\",\"size\":10,\"solidity\":0.2}},\"type\":\"bar\"}],\"scattergeo\":[{\"type\":\"scattergeo\",\"marker\":{\"colorbar\":{\"outlinewidth\":0,\"ticks\":\"\"}}}],\"scatterpolar\":[{\"type\":\"scatterpolar\",\"marker\":{\"colorbar\":{\"outlinewidth\":0,\"ticks\":\"\"}}}],\"histogram\":[{\"marker\":{\"pattern\":{\"fillmode\":\"overlay\",\"size\":10,\"solidity\":0.2}},\"type\":\"histogram\"}],\"scattergl\":[{\"type\":\"scattergl\",\"marker\":{\"colorbar\":{\"outlinewidth\":0,\"ticks\":\"\"}}}],\"scatter3d\":[{\"type\":\"scatter3d\",\"line\":{\"colorbar\":{\"outlinewidth\":0,\"ticks\":\"\"}},\"marker\":{\"colorbar\":{\"outlinewidth\":0,\"ticks\":\"\"}}}],\"scattermapbox\":[{\"type\":\"scattermapbox\",\"marker\":{\"colorbar\":{\"outlinewidth\":0,\"ticks\":\"\"}}}],\"scatterternary\":[{\"type\":\"scatterternary\",\"marker\":{\"colorbar\":{\"outlinewidth\":0,\"ticks\":\"\"}}}],\"scattercarpet\":[{\"type\":\"scattercarpet\",\"marker\":{\"colorbar\":{\"outlinewidth\":0,\"ticks\":\"\"}}}],\"carpet\":[{\"aaxis\":{\"endlinecolor\":\"#2a3f5f\",\"gridcolor\":\"white\",\"linecolor\":\"white\",\"minorgridcolor\":\"white\",\"startlinecolor\":\"#2a3f5f\"},\"baxis\":{\"endlinecolor\":\"#2a3f5f\",\"gridcolor\":\"white\",\"linecolor\":\"white\",\"minorgridcolor\":\"white\",\"startlinecolor\":\"#2a3f5f\"},\"type\":\"carpet\"}],\"table\":[{\"cells\":{\"fill\":{\"color\":\"#EBF0F8\"},\"line\":{\"color\":\"white\"}},\"header\":{\"fill\":{\"color\":\"#C8D4E3\"},\"line\":{\"color\":\"white\"}},\"type\":\"table\"}],\"barpolar\":[{\"marker\":{\"line\":{\"color\":\"#E5ECF6\",\"width\":0.5},\"pattern\":{\"fillmode\":\"overlay\",\"size\":10,\"solidity\":0.2}},\"type\":\"barpolar\"}],\"pie\":[{\"automargin\":true,\"type\":\"pie\"}]},\"layout\":{\"autotypenumbers\":\"strict\",\"colorway\":[\"#636efa\",\"#EF553B\",\"#00cc96\",\"#ab63fa\",\"#FFA15A\",\"#19d3f3\",\"#FF6692\",\"#B6E880\",\"#FF97FF\",\"#FECB52\"],\"font\":{\"color\":\"#2a3f5f\"},\"hovermode\":\"closest\",\"hoverlabel\":{\"align\":\"left\"},\"paper_bgcolor\":\"white\",\"plot_bgcolor\":\"#E5ECF6\",\"polar\":{\"bgcolor\":\"#E5ECF6\",\"angularaxis\":{\"gridcolor\":\"white\",\"linecolor\":\"white\",\"ticks\":\"\"},\"radialaxis\":{\"gridcolor\":\"white\",\"linecolor\":\"white\",\"ticks\":\"\"}},\"ternary\":{\"bgcolor\":\"#E5ECF6\",\"aaxis\":{\"gridcolor\":\"white\",\"linecolor\":\"white\",\"ticks\":\"\"},\"baxis\":{\"gridcolor\":\"white\",\"linecolor\":\"white\",\"ticks\":\"\"},\"caxis\":{\"gridcolor\":\"white\",\"linecolor\":\"white\",\"ticks\":\"\"}},\"coloraxis\":{\"colorbar\":{\"outlinewidth\":0,\"ticks\":\"\"}},\"colorscale\":{\"sequential\":[[0.0,\"#0d0887\"],[0.1111111111111111,\"#46039f\"],[0.2222222222222222,\"#7201a8\"],[0.3333333333333333,\"#9c179e\"],[0.4444444444444444,\"#bd3786\"],[0.5555555555555556,\"#d8576b\"],[0.6666666666666666,\"#ed7953\"],[0.7777777777777778,\"#fb9f3a\"],[0.8888888888888888,\"#fdca26\"],[1.0,\"#f0f921\"]],\"sequentialminus\":[[0.0,\"#0d0887\"],[0.1111111111111111,\"#46039f\"],[0.2222222222222222,\"#7201a8\"],[0.3333333333333333,\"#9c179e\"],[0.4444444444444444,\"#bd3786\"],[0.5555555555555556,\"#d8576b\"],[0.6666666666666666,\"#ed7953\"],[0.7777777777777778,\"#fb9f3a\"],[0.8888888888888888,\"#fdca26\"],[1.0,\"#f0f921\"]],\"diverging\":[[0,\"#8e0152\"],[0.1,\"#c51b7d\"],[0.2,\"#de77ae\"],[0.3,\"#f1b6da\"],[0.4,\"#fde0ef\"],[0.5,\"#f7f7f7\"],[0.6,\"#e6f5d0\"],[0.7,\"#b8e186\"],[0.8,\"#7fbc41\"],[0.9,\"#4d9221\"],[1,\"#276419\"]]},\"xaxis\":{\"gridcolor\":\"white\",\"linecolor\":\"white\",\"ticks\":\"\",\"title\":{\"standoff\":15},\"zerolinecolor\":\"white\",\"automargin\":true,\"zerolinewidth\":2},\"yaxis\":{\"gridcolor\":\"white\",\"linecolor\":\"white\",\"ticks\":\"\",\"title\":{\"standoff\":15},\"zerolinecolor\":\"white\",\"automargin\":true,\"zerolinewidth\":2},\"scene\":{\"xaxis\":{\"backgroundcolor\":\"#E5ECF6\",\"gridcolor\":\"white\",\"linecolor\":\"white\",\"showbackground\":true,\"ticks\":\"\",\"zerolinecolor\":\"white\",\"gridwidth\":2},\"yaxis\":{\"backgroundcolor\":\"#E5ECF6\",\"gridcolor\":\"white\",\"linecolor\":\"white\",\"showbackground\":true,\"ticks\":\"\",\"zerolinecolor\":\"white\",\"gridwidth\":2},\"zaxis\":{\"backgroundcolor\":\"#E5ECF6\",\"gridcolor\":\"white\",\"linecolor\":\"white\",\"showbackground\":true,\"ticks\":\"\",\"zerolinecolor\":\"white\",\"gridwidth\":2}},\"shapedefaults\":{\"line\":{\"color\":\"#2a3f5f\"}},\"annotationdefaults\":{\"arrowcolor\":\"#2a3f5f\",\"arrowhead\":0,\"arrowwidth\":1},\"geo\":{\"bgcolor\":\"white\",\"landcolor\":\"#E5ECF6\",\"subunitcolor\":\"white\",\"showland\":true,\"showlakes\":true,\"lakecolor\":\"white\"},\"title\":{\"x\":0.05},\"mapbox\":{\"style\":\"light\"}}},\"autosize\":false,\"width\":800,\"height\":800},                        {\"responsive\": true}                    ).then(function(){\n",
       "                            \n",
       "var gd = document.getElementById('258b9257-7edb-4d3c-9eae-2a4633411035');\n",
       "var x = new MutationObserver(function (mutations, observer) {{\n",
       "        var display = window.getComputedStyle(gd).display;\n",
       "        if (!display || display === 'none') {{\n",
       "            console.log([gd, 'removed!']);\n",
       "            Plotly.purge(gd);\n",
       "            observer.disconnect();\n",
       "        }}\n",
       "}});\n",
       "\n",
       "// Listen for the removal of the full notebook cells\n",
       "var notebookContainer = gd.closest('#notebook-container');\n",
       "if (notebookContainer) {{\n",
       "    x.observe(notebookContainer, {childList: true});\n",
       "}}\n",
       "\n",
       "// Listen for the clearing of the current output cell\n",
       "var outputEl = gd.closest('.output');\n",
       "if (outputEl) {{\n",
       "    x.observe(outputEl, {childList: true});\n",
       "}}\n",
       "\n",
       "                        })                };                });            </script>        </div>"
      ]
     },
     "metadata": {},
     "output_type": "display_data"
    }
   ],
   "source": [
    "plotbricks(B)"
   ]
  },
  {
   "cell_type": "code",
   "execution_count": 80,
   "id": "a7ba36c7-3de7-4323-8d42-bd5a3f32448b",
   "metadata": {
    "jupyter": {
     "source_hidden": true
    }
   },
   "outputs": [
    {
     "data": {
      "text/plain": [
       "(([1, 0, 1], [1, 2, 1]), ([0, 0, 2], [2, 0, 2]), ([0, 2, 3], [2, 2, 3]))"
      ]
     },
     "execution_count": 80,
     "metadata": {},
     "output_type": "execute_result"
    }
   ],
   "source": [
    "B[0],B[1],B[2]"
   ]
  },
  {
   "cell_type": "code",
   "execution_count": 82,
   "id": "bd27d28d-5e67-4748-9eac-23fea88bcf89",
   "metadata": {},
   "outputs": [
    {
     "name": "stdout",
     "output_type": "stream",
     "text": [
      "0 1 0 2\n"
     ]
    }
   ],
   "source": [
    "b1=B[0]\n",
    "b2=B[1]\n",
    "print(min(b2[0][0],b2[1][0]),max(b1[0][0],b1[1][0]) , min(b2[0][1],b2[1][1]),max(b1[0][1],b1[1][1]) )\n",
    "print(min(b2[0][0],b2[1][0])max(b1[0][0],b1[1][0]) , min(b2[0][1],b2[1][1]),max(b1[0][1],b1[1][1]) )"
   ]
  },
  {
   "cell_type": "code",
   "execution_count": null,
   "id": "53ac66f3-05e5-4085-83ca-48d93c494c4d",
   "metadata": {},
   "outputs": [],
   "source": [
    "overlap(const Rect &r1, const Rect &r2)\n",
    "{\n",
    "    // The rectangles don't overlap if\n",
    "    // one rectangle's minimum in some dimension \n",
    "    // is greater than the other's maximum in\n",
    "    // that dimension.\n",
    "\n",
    "    bool noOverlap = r1.x1 > r2.x2 ||\n",
    "                     r2.x1 > r1.x2 ||\n",
    "                     r1.y1 > r2.y2 ||\n",
    "                     r2.y1 > r1.y2;\n"
   ]
  },
  {
   "cell_type": "code",
   "execution_count": 92,
   "id": "7919bc77-6924-4a72-a1d6-ff3c12af41e5",
   "metadata": {},
   "outputs": [
    {
     "data": {
      "text/plain": [
       "True"
      ]
     },
     "execution_count": 92,
     "metadata": {},
     "output_type": "execute_result"
    }
   ],
   "source": [
    "touch(B[1],B[2])"
   ]
  },
  {
   "cell_type": "code",
   "execution_count": 90,
   "id": "eb36ebe1-55db-4873-aacf-b050d2e061aa",
   "metadata": {},
   "outputs": [],
   "source": [
    "def touch(b1,b2):\n",
    "    return not b1[0][0]>b2[1][0] or b2[0][0] > b1[1][0] or b1[0][1] > b2[1][1] or b2[0][1] > b1[1][1]"
   ]
  },
  {
   "cell_type": "code",
   "execution_count": 27,
   "id": "cdf14630-dc2a-40cd-80a0-5c14a1d6796a",
   "metadata": {},
   "outputs": [
    {
     "name": "stdout",
     "output_type": "stream",
     "text": [
      "[-10. -10.  10.  10. -10. -10.  10.  10.] [-10. -10. -10. -10.  10.  10.  10.  10.] [-10.  10. -10.  10. -10.  10. -10.  10.]\n",
      "[-2.5 -2.5  2.5  2.5 -2.5 -2.5  2.5  2.5] [-2.5 -2.5 -2.5 -2.5  2.5  2.5  2.5  2.5] [-2.5  2.5 -2.5  2.5 -2.5  2.5 -2.5  2.5]\n",
      "[2.5 2.5 7.5 7.5 2.5 2.5 7.5 7.5] [-2.5 -2.5 -2.5 -2.5  2.5  2.5  2.5  2.5] [-2.5  2.5 -2.5  2.5 -2.5  2.5 -2.5  2.5]\n",
      "[-7.5 -7.5 -2.5 -2.5 -7.5 -7.5 -2.5 -2.5] [-2.5 -2.5 -2.5 -2.5  2.5  2.5  2.5  2.5] [-2.5  2.5 -2.5  2.5 -2.5  2.5 -2.5  2.5]\n",
      "[-2.5 -2.5  2.5  2.5 -2.5 -2.5  2.5  2.5] [2.5 2.5 2.5 2.5 7.5 7.5 7.5 7.5] [-2.5  2.5 -2.5  2.5 -2.5  2.5 -2.5  2.5]\n",
      "[-2.5 -2.5  2.5  2.5 -2.5 -2.5  2.5  2.5] [-7.5 -7.5 -7.5 -7.5 -2.5 -2.5 -2.5 -2.5] [-2.5  2.5 -2.5  2.5 -2.5  2.5 -2.5  2.5]\n",
      "[-2.5 -2.5  2.5  2.5 -2.5 -2.5  2.5  2.5] [-2.5 -2.5 -2.5 -2.5  2.5  2.5  2.5  2.5] [2.5 7.5 2.5 7.5 2.5 7.5 2.5 7.5]\n",
      "[-2.5 -2.5  2.5  2.5 -2.5 -2.5  2.5  2.5] [-2.5 -2.5 -2.5 -2.5  2.5  2.5  2.5  2.5] [-7.5 -2.5 -7.5 -2.5 -7.5 -2.5 -7.5 -2.5]\n"
     ]
    },
    {
     "data": {
      "application/vnd.plotly.v1+json": {
       "config": {
        "plotlyServerURL": "https://plot.ly"
       },
       "data": [
        {
         "alphahull": 1,
         "color": "rgba(255,100,0,0.1)",
         "flatshading": true,
         "lighting": {
          "diffuse": 0.1,
          "roughness": 0.5,
          "specular": 2
         },
         "type": "mesh3d",
         "x": [
          -10,
          -10,
          10,
          10,
          -10,
          -10,
          10,
          10
         ],
         "y": [
          -10,
          -10,
          -10,
          -10,
          10,
          10,
          10,
          10
         ],
         "z": [
          -10,
          10,
          -10,
          10,
          -10,
          10,
          -10,
          10
         ]
        },
        {
         "alphahull": 1,
         "color": "rgba(100,0,100,0.1)",
         "flatshading": true,
         "lighting": {
          "diffuse": 0.1,
          "roughness": 0.5,
          "specular": 2
         },
         "type": "mesh3d",
         "x": [
          -2.5,
          -2.5,
          2.5,
          2.5,
          -2.5,
          -2.5,
          2.5,
          2.5
         ],
         "y": [
          -2.5,
          -2.5,
          -2.5,
          -2.5,
          2.5,
          2.5,
          2.5,
          2.5
         ],
         "z": [
          -2.5,
          2.5,
          -2.5,
          2.5,
          -2.5,
          2.5,
          -2.5,
          2.5
         ]
        },
        {
         "alphahull": 1,
         "color": "rgba(100,0,100,0.7)",
         "flatshading": true,
         "lighting": {
          "diffuse": 0.1,
          "roughness": 0.5,
          "specular": 2
         },
         "type": "mesh3d",
         "x": [
          2.5,
          2.5,
          7.5,
          7.5,
          2.5,
          2.5,
          7.5,
          7.5
         ],
         "y": [
          -2.5,
          -2.5,
          -2.5,
          -2.5,
          2.5,
          2.5,
          2.5,
          2.5
         ],
         "z": [
          -2.5,
          2.5,
          -2.5,
          2.5,
          -2.5,
          2.5,
          -2.5,
          2.5
         ]
        },
        {
         "alphahull": 1,
         "color": "rgba(100,0,100,0.7)",
         "flatshading": true,
         "lighting": {
          "diffuse": 0.1,
          "roughness": 0.5,
          "specular": 2
         },
         "type": "mesh3d",
         "x": [
          -7.5,
          -7.5,
          -2.5,
          -2.5,
          -7.5,
          -7.5,
          -2.5,
          -2.5
         ],
         "y": [
          -2.5,
          -2.5,
          -2.5,
          -2.5,
          2.5,
          2.5,
          2.5,
          2.5
         ],
         "z": [
          -2.5,
          2.5,
          -2.5,
          2.5,
          -2.5,
          2.5,
          -2.5,
          2.5
         ]
        },
        {
         "alphahull": 1,
         "color": "rgba(100,0,100,0.1)",
         "flatshading": true,
         "lighting": {
          "diffuse": 0.1,
          "roughness": 0.5,
          "specular": 2
         },
         "type": "mesh3d",
         "x": [
          -2.5,
          -2.5,
          2.5,
          2.5,
          -2.5,
          -2.5,
          2.5,
          2.5
         ],
         "y": [
          2.5,
          2.5,
          2.5,
          2.5,
          7.5,
          7.5,
          7.5,
          7.5
         ],
         "z": [
          -2.5,
          2.5,
          -2.5,
          2.5,
          -2.5,
          2.5,
          -2.5,
          2.5
         ]
        },
        {
         "alphahull": 1,
         "color": "rgba(100,0,100,0.1)",
         "flatshading": true,
         "lighting": {
          "diffuse": 0.1,
          "roughness": 0.5,
          "specular": 2
         },
         "type": "mesh3d",
         "x": [
          -2.5,
          -2.5,
          2.5,
          2.5,
          -2.5,
          -2.5,
          2.5,
          2.5
         ],
         "y": [
          -7.5,
          -7.5,
          -7.5,
          -7.5,
          -2.5,
          -2.5,
          -2.5,
          -2.5
         ],
         "z": [
          -2.5,
          2.5,
          -2.5,
          2.5,
          -2.5,
          2.5,
          -2.5,
          2.5
         ]
        },
        {
         "alphahull": 1,
         "color": "rgba(100,0,100,0.1)",
         "flatshading": true,
         "lighting": {
          "diffuse": 0.1,
          "roughness": 0.5,
          "specular": 2
         },
         "type": "mesh3d",
         "x": [
          -2.5,
          -2.5,
          2.5,
          2.5,
          -2.5,
          -2.5,
          2.5,
          2.5
         ],
         "y": [
          -2.5,
          -2.5,
          -2.5,
          -2.5,
          2.5,
          2.5,
          2.5,
          2.5
         ],
         "z": [
          2.5,
          7.5,
          2.5,
          7.5,
          2.5,
          7.5,
          2.5,
          7.5
         ]
        },
        {
         "alphahull": 1,
         "color": "rgba(100,0,100,0.1)",
         "flatshading": true,
         "lighting": {
          "diffuse": 0.1,
          "roughness": 0.5,
          "specular": 2
         },
         "type": "mesh3d",
         "x": [
          -2.5,
          -2.5,
          2.5,
          2.5,
          -2.5,
          -2.5,
          2.5,
          2.5
         ],
         "y": [
          -2.5,
          -2.5,
          -2.5,
          -2.5,
          2.5,
          2.5,
          2.5,
          2.5
         ],
         "z": [
          -7.5,
          -2.5,
          -7.5,
          -2.5,
          -7.5,
          -2.5,
          -7.5,
          -2.5
         ]
        }
       ],
       "layout": {
        "autosize": true,
        "scene": {
         "aspectmode": "auto",
         "aspectratio": {
          "x": 1.0000000000000002,
          "y": 1.0000000000000002,
          "z": 1.0000000000000002
         },
         "camera": {
          "center": {
           "x": 0,
           "y": 0,
           "z": 0
          },
          "eye": {
           "x": 1.783890546617533,
           "y": 1.7838905466175325,
           "z": 1.783890546617533
          },
          "projection": {
           "type": "perspective"
          },
          "up": {
           "x": 0,
           "y": 0,
           "z": 1
          }
         }
        },
        "template": {
         "data": {
          "bar": [
           {
            "error_x": {
             "color": "#2a3f5f"
            },
            "error_y": {
             "color": "#2a3f5f"
            },
            "marker": {
             "line": {
              "color": "#E5ECF6",
              "width": 0.5
             },
             "pattern": {
              "fillmode": "overlay",
              "size": 10,
              "solidity": 0.2
             }
            },
            "type": "bar"
           }
          ],
          "barpolar": [
           {
            "marker": {
             "line": {
              "color": "#E5ECF6",
              "width": 0.5
             },
             "pattern": {
              "fillmode": "overlay",
              "size": 10,
              "solidity": 0.2
             }
            },
            "type": "barpolar"
           }
          ],
          "carpet": [
           {
            "aaxis": {
             "endlinecolor": "#2a3f5f",
             "gridcolor": "white",
             "linecolor": "white",
             "minorgridcolor": "white",
             "startlinecolor": "#2a3f5f"
            },
            "baxis": {
             "endlinecolor": "#2a3f5f",
             "gridcolor": "white",
             "linecolor": "white",
             "minorgridcolor": "white",
             "startlinecolor": "#2a3f5f"
            },
            "type": "carpet"
           }
          ],
          "choropleth": [
           {
            "colorbar": {
             "outlinewidth": 0,
             "ticks": ""
            },
            "type": "choropleth"
           }
          ],
          "contour": [
           {
            "colorbar": {
             "outlinewidth": 0,
             "ticks": ""
            },
            "colorscale": [
             [
              0,
              "#0d0887"
             ],
             [
              0.1111111111111111,
              "#46039f"
             ],
             [
              0.2222222222222222,
              "#7201a8"
             ],
             [
              0.3333333333333333,
              "#9c179e"
             ],
             [
              0.4444444444444444,
              "#bd3786"
             ],
             [
              0.5555555555555556,
              "#d8576b"
             ],
             [
              0.6666666666666666,
              "#ed7953"
             ],
             [
              0.7777777777777778,
              "#fb9f3a"
             ],
             [
              0.8888888888888888,
              "#fdca26"
             ],
             [
              1,
              "#f0f921"
             ]
            ],
            "type": "contour"
           }
          ],
          "contourcarpet": [
           {
            "colorbar": {
             "outlinewidth": 0,
             "ticks": ""
            },
            "type": "contourcarpet"
           }
          ],
          "heatmap": [
           {
            "colorbar": {
             "outlinewidth": 0,
             "ticks": ""
            },
            "colorscale": [
             [
              0,
              "#0d0887"
             ],
             [
              0.1111111111111111,
              "#46039f"
             ],
             [
              0.2222222222222222,
              "#7201a8"
             ],
             [
              0.3333333333333333,
              "#9c179e"
             ],
             [
              0.4444444444444444,
              "#bd3786"
             ],
             [
              0.5555555555555556,
              "#d8576b"
             ],
             [
              0.6666666666666666,
              "#ed7953"
             ],
             [
              0.7777777777777778,
              "#fb9f3a"
             ],
             [
              0.8888888888888888,
              "#fdca26"
             ],
             [
              1,
              "#f0f921"
             ]
            ],
            "type": "heatmap"
           }
          ],
          "heatmapgl": [
           {
            "colorbar": {
             "outlinewidth": 0,
             "ticks": ""
            },
            "colorscale": [
             [
              0,
              "#0d0887"
             ],
             [
              0.1111111111111111,
              "#46039f"
             ],
             [
              0.2222222222222222,
              "#7201a8"
             ],
             [
              0.3333333333333333,
              "#9c179e"
             ],
             [
              0.4444444444444444,
              "#bd3786"
             ],
             [
              0.5555555555555556,
              "#d8576b"
             ],
             [
              0.6666666666666666,
              "#ed7953"
             ],
             [
              0.7777777777777778,
              "#fb9f3a"
             ],
             [
              0.8888888888888888,
              "#fdca26"
             ],
             [
              1,
              "#f0f921"
             ]
            ],
            "type": "heatmapgl"
           }
          ],
          "histogram": [
           {
            "marker": {
             "pattern": {
              "fillmode": "overlay",
              "size": 10,
              "solidity": 0.2
             }
            },
            "type": "histogram"
           }
          ],
          "histogram2d": [
           {
            "colorbar": {
             "outlinewidth": 0,
             "ticks": ""
            },
            "colorscale": [
             [
              0,
              "#0d0887"
             ],
             [
              0.1111111111111111,
              "#46039f"
             ],
             [
              0.2222222222222222,
              "#7201a8"
             ],
             [
              0.3333333333333333,
              "#9c179e"
             ],
             [
              0.4444444444444444,
              "#bd3786"
             ],
             [
              0.5555555555555556,
              "#d8576b"
             ],
             [
              0.6666666666666666,
              "#ed7953"
             ],
             [
              0.7777777777777778,
              "#fb9f3a"
             ],
             [
              0.8888888888888888,
              "#fdca26"
             ],
             [
              1,
              "#f0f921"
             ]
            ],
            "type": "histogram2d"
           }
          ],
          "histogram2dcontour": [
           {
            "colorbar": {
             "outlinewidth": 0,
             "ticks": ""
            },
            "colorscale": [
             [
              0,
              "#0d0887"
             ],
             [
              0.1111111111111111,
              "#46039f"
             ],
             [
              0.2222222222222222,
              "#7201a8"
             ],
             [
              0.3333333333333333,
              "#9c179e"
             ],
             [
              0.4444444444444444,
              "#bd3786"
             ],
             [
              0.5555555555555556,
              "#d8576b"
             ],
             [
              0.6666666666666666,
              "#ed7953"
             ],
             [
              0.7777777777777778,
              "#fb9f3a"
             ],
             [
              0.8888888888888888,
              "#fdca26"
             ],
             [
              1,
              "#f0f921"
             ]
            ],
            "type": "histogram2dcontour"
           }
          ],
          "mesh3d": [
           {
            "colorbar": {
             "outlinewidth": 0,
             "ticks": ""
            },
            "type": "mesh3d"
           }
          ],
          "parcoords": [
           {
            "line": {
             "colorbar": {
              "outlinewidth": 0,
              "ticks": ""
             }
            },
            "type": "parcoords"
           }
          ],
          "pie": [
           {
            "automargin": true,
            "type": "pie"
           }
          ],
          "scatter": [
           {
            "fillpattern": {
             "fillmode": "overlay",
             "size": 10,
             "solidity": 0.2
            },
            "type": "scatter"
           }
          ],
          "scatter3d": [
           {
            "line": {
             "colorbar": {
              "outlinewidth": 0,
              "ticks": ""
             }
            },
            "marker": {
             "colorbar": {
              "outlinewidth": 0,
              "ticks": ""
             }
            },
            "type": "scatter3d"
           }
          ],
          "scattercarpet": [
           {
            "marker": {
             "colorbar": {
              "outlinewidth": 0,
              "ticks": ""
             }
            },
            "type": "scattercarpet"
           }
          ],
          "scattergeo": [
           {
            "marker": {
             "colorbar": {
              "outlinewidth": 0,
              "ticks": ""
             }
            },
            "type": "scattergeo"
           }
          ],
          "scattergl": [
           {
            "marker": {
             "colorbar": {
              "outlinewidth": 0,
              "ticks": ""
             }
            },
            "type": "scattergl"
           }
          ],
          "scattermapbox": [
           {
            "marker": {
             "colorbar": {
              "outlinewidth": 0,
              "ticks": ""
             }
            },
            "type": "scattermapbox"
           }
          ],
          "scatterpolar": [
           {
            "marker": {
             "colorbar": {
              "outlinewidth": 0,
              "ticks": ""
             }
            },
            "type": "scatterpolar"
           }
          ],
          "scatterpolargl": [
           {
            "marker": {
             "colorbar": {
              "outlinewidth": 0,
              "ticks": ""
             }
            },
            "type": "scatterpolargl"
           }
          ],
          "scatterternary": [
           {
            "marker": {
             "colorbar": {
              "outlinewidth": 0,
              "ticks": ""
             }
            },
            "type": "scatterternary"
           }
          ],
          "surface": [
           {
            "colorbar": {
             "outlinewidth": 0,
             "ticks": ""
            },
            "colorscale": [
             [
              0,
              "#0d0887"
             ],
             [
              0.1111111111111111,
              "#46039f"
             ],
             [
              0.2222222222222222,
              "#7201a8"
             ],
             [
              0.3333333333333333,
              "#9c179e"
             ],
             [
              0.4444444444444444,
              "#bd3786"
             ],
             [
              0.5555555555555556,
              "#d8576b"
             ],
             [
              0.6666666666666666,
              "#ed7953"
             ],
             [
              0.7777777777777778,
              "#fb9f3a"
             ],
             [
              0.8888888888888888,
              "#fdca26"
             ],
             [
              1,
              "#f0f921"
             ]
            ],
            "type": "surface"
           }
          ],
          "table": [
           {
            "cells": {
             "fill": {
              "color": "#EBF0F8"
             },
             "line": {
              "color": "white"
             }
            },
            "header": {
             "fill": {
              "color": "#C8D4E3"
             },
             "line": {
              "color": "white"
             }
            },
            "type": "table"
           }
          ]
         },
         "layout": {
          "annotationdefaults": {
           "arrowcolor": "#2a3f5f",
           "arrowhead": 0,
           "arrowwidth": 1
          },
          "autotypenumbers": "strict",
          "coloraxis": {
           "colorbar": {
            "outlinewidth": 0,
            "ticks": ""
           }
          },
          "colorscale": {
           "diverging": [
            [
             0,
             "#8e0152"
            ],
            [
             0.1,
             "#c51b7d"
            ],
            [
             0.2,
             "#de77ae"
            ],
            [
             0.3,
             "#f1b6da"
            ],
            [
             0.4,
             "#fde0ef"
            ],
            [
             0.5,
             "#f7f7f7"
            ],
            [
             0.6,
             "#e6f5d0"
            ],
            [
             0.7,
             "#b8e186"
            ],
            [
             0.8,
             "#7fbc41"
            ],
            [
             0.9,
             "#4d9221"
            ],
            [
             1,
             "#276419"
            ]
           ],
           "sequential": [
            [
             0,
             "#0d0887"
            ],
            [
             0.1111111111111111,
             "#46039f"
            ],
            [
             0.2222222222222222,
             "#7201a8"
            ],
            [
             0.3333333333333333,
             "#9c179e"
            ],
            [
             0.4444444444444444,
             "#bd3786"
            ],
            [
             0.5555555555555556,
             "#d8576b"
            ],
            [
             0.6666666666666666,
             "#ed7953"
            ],
            [
             0.7777777777777778,
             "#fb9f3a"
            ],
            [
             0.8888888888888888,
             "#fdca26"
            ],
            [
             1,
             "#f0f921"
            ]
           ],
           "sequentialminus": [
            [
             0,
             "#0d0887"
            ],
            [
             0.1111111111111111,
             "#46039f"
            ],
            [
             0.2222222222222222,
             "#7201a8"
            ],
            [
             0.3333333333333333,
             "#9c179e"
            ],
            [
             0.4444444444444444,
             "#bd3786"
            ],
            [
             0.5555555555555556,
             "#d8576b"
            ],
            [
             0.6666666666666666,
             "#ed7953"
            ],
            [
             0.7777777777777778,
             "#fb9f3a"
            ],
            [
             0.8888888888888888,
             "#fdca26"
            ],
            [
             1,
             "#f0f921"
            ]
           ]
          },
          "colorway": [
           "#636efa",
           "#EF553B",
           "#00cc96",
           "#ab63fa",
           "#FFA15A",
           "#19d3f3",
           "#FF6692",
           "#B6E880",
           "#FF97FF",
           "#FECB52"
          ],
          "font": {
           "color": "#2a3f5f"
          },
          "geo": {
           "bgcolor": "white",
           "lakecolor": "white",
           "landcolor": "#E5ECF6",
           "showlakes": true,
           "showland": true,
           "subunitcolor": "white"
          },
          "hoverlabel": {
           "align": "left"
          },
          "hovermode": "closest",
          "mapbox": {
           "style": "light"
          },
          "paper_bgcolor": "white",
          "plot_bgcolor": "#E5ECF6",
          "polar": {
           "angularaxis": {
            "gridcolor": "white",
            "linecolor": "white",
            "ticks": ""
           },
           "bgcolor": "#E5ECF6",
           "radialaxis": {
            "gridcolor": "white",
            "linecolor": "white",
            "ticks": ""
           }
          },
          "scene": {
           "xaxis": {
            "backgroundcolor": "#E5ECF6",
            "gridcolor": "white",
            "gridwidth": 2,
            "linecolor": "white",
            "showbackground": true,
            "ticks": "",
            "zerolinecolor": "white"
           },
           "yaxis": {
            "backgroundcolor": "#E5ECF6",
            "gridcolor": "white",
            "gridwidth": 2,
            "linecolor": "white",
            "showbackground": true,
            "ticks": "",
            "zerolinecolor": "white"
           },
           "zaxis": {
            "backgroundcolor": "#E5ECF6",
            "gridcolor": "white",
            "gridwidth": 2,
            "linecolor": "white",
            "showbackground": true,
            "ticks": "",
            "zerolinecolor": "white"
           }
          },
          "shapedefaults": {
           "line": {
            "color": "#2a3f5f"
           }
          },
          "ternary": {
           "aaxis": {
            "gridcolor": "white",
            "linecolor": "white",
            "ticks": ""
           },
           "baxis": {
            "gridcolor": "white",
            "linecolor": "white",
            "ticks": ""
           },
           "bgcolor": "#E5ECF6",
           "caxis": {
            "gridcolor": "white",
            "linecolor": "white",
            "ticks": ""
           }
          },
          "title": {
           "x": 0.05
          },
          "xaxis": {
           "automargin": true,
           "gridcolor": "white",
           "linecolor": "white",
           "ticks": "",
           "title": {
            "standoff": 15
           },
           "zerolinecolor": "white",
           "zerolinewidth": 2
          },
          "yaxis": {
           "automargin": true,
           "gridcolor": "white",
           "linecolor": "white",
           "ticks": "",
           "title": {
            "standoff": 15
           },
           "zerolinecolor": "white",
           "zerolinewidth": 2
          }
         }
        }
       }
      },
      "image/png": "[encoded data removed]",
      "text/html": [
       "<div>                            <div id=\"646bc286-8cff-4bee-9f08-37f7a4df8932\" class=\"plotly-graph-div\" style=\"height:525px; width:100%;\"></div>            <script type=\"text/javascript\">                require([\"plotly\"], function(Plotly) {                    window.PLOTLYENV=window.PLOTLYENV || {};                                    if (document.getElementById(\"646bc286-8cff-4bee-9f08-37f7a4df8932\")) {                    Plotly.newPlot(                        \"646bc286-8cff-4bee-9f08-37f7a4df8932\",                        [{\"alphahull\":1,\"color\":\"rgba(255,100,0,0.1)\",\"flatshading\":true,\"lighting\":{\"diffuse\":0.1,\"roughness\":0.5,\"specular\":2.0},\"x\":[-10.0,-10.0,10.0,10.0,-10.0,-10.0,10.0,10.0],\"y\":[-10.0,-10.0,-10.0,-10.0,10.0,10.0,10.0,10.0],\"z\":[-10.0,10.0,-10.0,10.0,-10.0,10.0,-10.0,10.0],\"type\":\"mesh3d\"},{\"alphahull\":1,\"color\":\"rgba(100,0,100,0.1)\",\"flatshading\":true,\"lighting\":{\"diffuse\":0.1,\"roughness\":0.5,\"specular\":2.0},\"x\":[-2.5,-2.5,2.5,2.5,-2.5,-2.5,2.5,2.5],\"y\":[-2.5,-2.5,-2.5,-2.5,2.5,2.5,2.5,2.5],\"z\":[-2.5,2.5,-2.5,2.5,-2.5,2.5,-2.5,2.5],\"type\":\"mesh3d\"},{\"alphahull\":1,\"color\":\"rgba(100,0,100,0.7)\",\"flatshading\":true,\"lighting\":{\"diffuse\":0.1,\"roughness\":0.5,\"specular\":2.0},\"x\":[2.5,2.5,7.5,7.5,2.5,2.5,7.5,7.5],\"y\":[-2.5,-2.5,-2.5,-2.5,2.5,2.5,2.5,2.5],\"z\":[-2.5,2.5,-2.5,2.5,-2.5,2.5,-2.5,2.5],\"type\":\"mesh3d\"},{\"alphahull\":1,\"color\":\"rgba(100,0,100,0.7)\",\"flatshading\":true,\"lighting\":{\"diffuse\":0.1,\"roughness\":0.5,\"specular\":2.0},\"x\":[-7.5,-7.5,-2.5,-2.5,-7.5,-7.5,-2.5,-2.5],\"y\":[-2.5,-2.5,-2.5,-2.5,2.5,2.5,2.5,2.5],\"z\":[-2.5,2.5,-2.5,2.5,-2.5,2.5,-2.5,2.5],\"type\":\"mesh3d\"},{\"alphahull\":1,\"color\":\"rgba(100,0,100,0.1)\",\"flatshading\":true,\"lighting\":{\"diffuse\":0.1,\"roughness\":0.5,\"specular\":2.0},\"x\":[-2.5,-2.5,2.5,2.5,-2.5,-2.5,2.5,2.5],\"y\":[2.5,2.5,2.5,2.5,7.5,7.5,7.5,7.5],\"z\":[-2.5,2.5,-2.5,2.5,-2.5,2.5,-2.5,2.5],\"type\":\"mesh3d\"},{\"alphahull\":1,\"color\":\"rgba(100,0,100,0.1)\",\"flatshading\":true,\"lighting\":{\"diffuse\":0.1,\"roughness\":0.5,\"specular\":2.0},\"x\":[-2.5,-2.5,2.5,2.5,-2.5,-2.5,2.5,2.5],\"y\":[-7.5,-7.5,-7.5,-7.5,-2.5,-2.5,-2.5,-2.5],\"z\":[-2.5,2.5,-2.5,2.5,-2.5,2.5,-2.5,2.5],\"type\":\"mesh3d\"},{\"alphahull\":1,\"color\":\"rgba(100,0,100,0.1)\",\"flatshading\":true,\"lighting\":{\"diffuse\":0.1,\"roughness\":0.5,\"specular\":2.0},\"x\":[-2.5,-2.5,2.5,2.5,-2.5,-2.5,2.5,2.5],\"y\":[-2.5,-2.5,-2.5,-2.5,2.5,2.5,2.5,2.5],\"z\":[2.5,7.5,2.5,7.5,2.5,7.5,2.5,7.5],\"type\":\"mesh3d\"},{\"alphahull\":1,\"color\":\"rgba(100,0,100,0.1)\",\"flatshading\":true,\"lighting\":{\"diffuse\":0.1,\"roughness\":0.5,\"specular\":2.0},\"x\":[-2.5,-2.5,2.5,2.5,-2.5,-2.5,2.5,2.5],\"y\":[-2.5,-2.5,-2.5,-2.5,2.5,2.5,2.5,2.5],\"z\":[-7.5,-2.5,-7.5,-2.5,-7.5,-2.5,-7.5,-2.5],\"type\":\"mesh3d\"}],                        {\"template\":{\"data\":{\"histogram2dcontour\":[{\"type\":\"histogram2dcontour\",\"colorbar\":{\"outlinewidth\":0,\"ticks\":\"\"},\"colorscale\":[[0.0,\"#0d0887\"],[0.1111111111111111,\"#46039f\"],[0.2222222222222222,\"#7201a8\"],[0.3333333333333333,\"#9c179e\"],[0.4444444444444444,\"#bd3786\"],[0.5555555555555556,\"#d8576b\"],[0.6666666666666666,\"#ed7953\"],[0.7777777777777778,\"#fb9f3a\"],[0.8888888888888888,\"#fdca26\"],[1.0,\"#f0f921\"]]}],\"choropleth\":[{\"type\":\"choropleth\",\"colorbar\":{\"outlinewidth\":0,\"ticks\":\"\"}}],\"histogram2d\":[{\"type\":\"histogram2d\",\"colorbar\":{\"outlinewidth\":0,\"ticks\":\"\"},\"colorscale\":[[0.0,\"#0d0887\"],[0.1111111111111111,\"#46039f\"],[0.2222222222222222,\"#7201a8\"],[0.3333333333333333,\"#9c179e\"],[0.4444444444444444,\"#bd3786\"],[0.5555555555555556,\"#d8576b\"],[0.6666666666666666,\"#ed7953\"],[0.7777777777777778,\"#fb9f3a\"],[0.8888888888888888,\"#fdca26\"],[1.0,\"#f0f921\"]]}],\"heatmap\":[{\"type\":\"heatmap\",\"colorbar\":{\"outlinewidth\":0,\"ticks\":\"\"},\"colorscale\":[[0.0,\"#0d0887\"],[0.1111111111111111,\"#46039f\"],[0.2222222222222222,\"#7201a8\"],[0.3333333333333333,\"#9c179e\"],[0.4444444444444444,\"#bd3786\"],[0.5555555555555556,\"#d8576b\"],[0.6666666666666666,\"#ed7953\"],[0.7777777777777778,\"#fb9f3a\"],[0.8888888888888888,\"#fdca26\"],[1.0,\"#f0f921\"]]}],\"heatmapgl\":[{\"type\":\"heatmapgl\",\"colorbar\":{\"outlinewidth\":0,\"ticks\":\"\"},\"colorscale\":[[0.0,\"#0d0887\"],[0.1111111111111111,\"#46039f\"],[0.2222222222222222,\"#7201a8\"],[0.3333333333333333,\"#9c179e\"],[0.4444444444444444,\"#bd3786\"],[0.5555555555555556,\"#d8576b\"],[0.6666666666666666,\"#ed7953\"],[0.7777777777777778,\"#fb9f3a\"],[0.8888888888888888,\"#fdca26\"],[1.0,\"#f0f921\"]]}],\"contourcarpet\":[{\"type\":\"contourcarpet\",\"colorbar\":{\"outlinewidth\":0,\"ticks\":\"\"}}],\"contour\":[{\"type\":\"contour\",\"colorbar\":{\"outlinewidth\":0,\"ticks\":\"\"},\"colorscale\":[[0.0,\"#0d0887\"],[0.1111111111111111,\"#46039f\"],[0.2222222222222222,\"#7201a8\"],[0.3333333333333333,\"#9c179e\"],[0.4444444444444444,\"#bd3786\"],[0.5555555555555556,\"#d8576b\"],[0.6666666666666666,\"#ed7953\"],[0.7777777777777778,\"#fb9f3a\"],[0.8888888888888888,\"#fdca26\"],[1.0,\"#f0f921\"]]}],\"surface\":[{\"type\":\"surface\",\"colorbar\":{\"outlinewidth\":0,\"ticks\":\"\"},\"colorscale\":[[0.0,\"#0d0887\"],[0.1111111111111111,\"#46039f\"],[0.2222222222222222,\"#7201a8\"],[0.3333333333333333,\"#9c179e\"],[0.4444444444444444,\"#bd3786\"],[0.5555555555555556,\"#d8576b\"],[0.6666666666666666,\"#ed7953\"],[0.7777777777777778,\"#fb9f3a\"],[0.8888888888888888,\"#fdca26\"],[1.0,\"#f0f921\"]]}],\"mesh3d\":[{\"type\":\"mesh3d\",\"colorbar\":{\"outlinewidth\":0,\"ticks\":\"\"}}],\"scatter\":[{\"fillpattern\":{\"fillmode\":\"overlay\",\"size\":10,\"solidity\":0.2},\"type\":\"scatter\"}],\"parcoords\":[{\"type\":\"parcoords\",\"line\":{\"colorbar\":{\"outlinewidth\":0,\"ticks\":\"\"}}}],\"scatterpolargl\":[{\"type\":\"scatterpolargl\",\"marker\":{\"colorbar\":{\"outlinewidth\":0,\"ticks\":\"\"}}}],\"bar\":[{\"error_x\":{\"color\":\"#2a3f5f\"},\"error_y\":{\"color\":\"#2a3f5f\"},\"marker\":{\"line\":{\"color\":\"#E5ECF6\",\"width\":0.5},\"pattern\":{\"fillmode\":\"overlay\",\"size\":10,\"solidity\":0.2}},\"type\":\"bar\"}],\"scattergeo\":[{\"type\":\"scattergeo\",\"marker\":{\"colorbar\":{\"outlinewidth\":0,\"ticks\":\"\"}}}],\"scatterpolar\":[{\"type\":\"scatterpolar\",\"marker\":{\"colorbar\":{\"outlinewidth\":0,\"ticks\":\"\"}}}],\"histogram\":[{\"marker\":{\"pattern\":{\"fillmode\":\"overlay\",\"size\":10,\"solidity\":0.2}},\"type\":\"histogram\"}],\"scattergl\":[{\"type\":\"scattergl\",\"marker\":{\"colorbar\":{\"outlinewidth\":0,\"ticks\":\"\"}}}],\"scatter3d\":[{\"type\":\"scatter3d\",\"line\":{\"colorbar\":{\"outlinewidth\":0,\"ticks\":\"\"}},\"marker\":{\"colorbar\":{\"outlinewidth\":0,\"ticks\":\"\"}}}],\"scattermapbox\":[{\"type\":\"scattermapbox\",\"marker\":{\"colorbar\":{\"outlinewidth\":0,\"ticks\":\"\"}}}],\"scatterternary\":[{\"type\":\"scatterternary\",\"marker\":{\"colorbar\":{\"outlinewidth\":0,\"ticks\":\"\"}}}],\"scattercarpet\":[{\"type\":\"scattercarpet\",\"marker\":{\"colorbar\":{\"outlinewidth\":0,\"ticks\":\"\"}}}],\"carpet\":[{\"aaxis\":{\"endlinecolor\":\"#2a3f5f\",\"gridcolor\":\"white\",\"linecolor\":\"white\",\"minorgridcolor\":\"white\",\"startlinecolor\":\"#2a3f5f\"},\"baxis\":{\"endlinecolor\":\"#2a3f5f\",\"gridcolor\":\"white\",\"linecolor\":\"white\",\"minorgridcolor\":\"white\",\"startlinecolor\":\"#2a3f5f\"},\"type\":\"carpet\"}],\"table\":[{\"cells\":{\"fill\":{\"color\":\"#EBF0F8\"},\"line\":{\"color\":\"white\"}},\"header\":{\"fill\":{\"color\":\"#C8D4E3\"},\"line\":{\"color\":\"white\"}},\"type\":\"table\"}],\"barpolar\":[{\"marker\":{\"line\":{\"color\":\"#E5ECF6\",\"width\":0.5},\"pattern\":{\"fillmode\":\"overlay\",\"size\":10,\"solidity\":0.2}},\"type\":\"barpolar\"}],\"pie\":[{\"automargin\":true,\"type\":\"pie\"}]},\"layout\":{\"autotypenumbers\":\"strict\",\"colorway\":[\"#636efa\",\"#EF553B\",\"#00cc96\",\"#ab63fa\",\"#FFA15A\",\"#19d3f3\",\"#FF6692\",\"#B6E880\",\"#FF97FF\",\"#FECB52\"],\"font\":{\"color\":\"#2a3f5f\"},\"hovermode\":\"closest\",\"hoverlabel\":{\"align\":\"left\"},\"paper_bgcolor\":\"white\",\"plot_bgcolor\":\"#E5ECF6\",\"polar\":{\"bgcolor\":\"#E5ECF6\",\"angularaxis\":{\"gridcolor\":\"white\",\"linecolor\":\"white\",\"ticks\":\"\"},\"radialaxis\":{\"gridcolor\":\"white\",\"linecolor\":\"white\",\"ticks\":\"\"}},\"ternary\":{\"bgcolor\":\"#E5ECF6\",\"aaxis\":{\"gridcolor\":\"white\",\"linecolor\":\"white\",\"ticks\":\"\"},\"baxis\":{\"gridcolor\":\"white\",\"linecolor\":\"white\",\"ticks\":\"\"},\"caxis\":{\"gridcolor\":\"white\",\"linecolor\":\"white\",\"ticks\":\"\"}},\"coloraxis\":{\"colorbar\":{\"outlinewidth\":0,\"ticks\":\"\"}},\"colorscale\":{\"sequential\":[[0.0,\"#0d0887\"],[0.1111111111111111,\"#46039f\"],[0.2222222222222222,\"#7201a8\"],[0.3333333333333333,\"#9c179e\"],[0.4444444444444444,\"#bd3786\"],[0.5555555555555556,\"#d8576b\"],[0.6666666666666666,\"#ed7953\"],[0.7777777777777778,\"#fb9f3a\"],[0.8888888888888888,\"#fdca26\"],[1.0,\"#f0f921\"]],\"sequentialminus\":[[0.0,\"#0d0887\"],[0.1111111111111111,\"#46039f\"],[0.2222222222222222,\"#7201a8\"],[0.3333333333333333,\"#9c179e\"],[0.4444444444444444,\"#bd3786\"],[0.5555555555555556,\"#d8576b\"],[0.6666666666666666,\"#ed7953\"],[0.7777777777777778,\"#fb9f3a\"],[0.8888888888888888,\"#fdca26\"],[1.0,\"#f0f921\"]],\"diverging\":[[0,\"#8e0152\"],[0.1,\"#c51b7d\"],[0.2,\"#de77ae\"],[0.3,\"#f1b6da\"],[0.4,\"#fde0ef\"],[0.5,\"#f7f7f7\"],[0.6,\"#e6f5d0\"],[0.7,\"#b8e186\"],[0.8,\"#7fbc41\"],[0.9,\"#4d9221\"],[1,\"#276419\"]]},\"xaxis\":{\"gridcolor\":\"white\",\"linecolor\":\"white\",\"ticks\":\"\",\"title\":{\"standoff\":15},\"zerolinecolor\":\"white\",\"automargin\":true,\"zerolinewidth\":2},\"yaxis\":{\"gridcolor\":\"white\",\"linecolor\":\"white\",\"ticks\":\"\",\"title\":{\"standoff\":15},\"zerolinecolor\":\"white\",\"automargin\":true,\"zerolinewidth\":2},\"scene\":{\"xaxis\":{\"backgroundcolor\":\"#E5ECF6\",\"gridcolor\":\"white\",\"linecolor\":\"white\",\"showbackground\":true,\"ticks\":\"\",\"zerolinecolor\":\"white\",\"gridwidth\":2},\"yaxis\":{\"backgroundcolor\":\"#E5ECF6\",\"gridcolor\":\"white\",\"linecolor\":\"white\",\"showbackground\":true,\"ticks\":\"\",\"zerolinecolor\":\"white\",\"gridwidth\":2},\"zaxis\":{\"backgroundcolor\":\"#E5ECF6\",\"gridcolor\":\"white\",\"linecolor\":\"white\",\"showbackground\":true,\"ticks\":\"\",\"zerolinecolor\":\"white\",\"gridwidth\":2}},\"shapedefaults\":{\"line\":{\"color\":\"#2a3f5f\"}},\"annotationdefaults\":{\"arrowcolor\":\"#2a3f5f\",\"arrowhead\":0,\"arrowwidth\":1},\"geo\":{\"bgcolor\":\"white\",\"landcolor\":\"#E5ECF6\",\"subunitcolor\":\"white\",\"showland\":true,\"showlakes\":true,\"lakecolor\":\"white\"},\"title\":{\"x\":0.05},\"mapbox\":{\"style\":\"light\"}}}},                        {\"responsive\": true}                    ).then(function(){\n",
       "                            \n",
       "var gd = document.getElementById('646bc286-8cff-4bee-9f08-37f7a4df8932');\n",
       "var x = new MutationObserver(function (mutations, observer) {{\n",
       "        var display = window.getComputedStyle(gd).display;\n",
       "        if (!display || display === 'none') {{\n",
       "            console.log([gd, 'removed!']);\n",
       "            Plotly.purge(gd);\n",
       "            observer.disconnect();\n",
       "        }}\n",
       "}});\n",
       "\n",
       "// Listen for the removal of the full notebook cells\n",
       "var notebookContainer = gd.closest('#notebook-container');\n",
       "if (notebookContainer) {{\n",
       "    x.observe(notebookContainer, {childList: true});\n",
       "}}\n",
       "\n",
       "// Listen for the clearing of the current output cell\n",
       "var outputEl = gd.closest('.output');\n",
       "if (outputEl) {{\n",
       "    x.observe(outputEl, {childList: true});\n",
       "}}\n",
       "\n",
       "                        })                };                });            </script>        </div>"
      ]
     },
     "metadata": {},
     "output_type": "display_data"
    },
    {
     "data": {
      "application/vnd.plotly.v1+json": {
       "config": {
        "plotlyServerURL": "https://plot.ly"
       },
       "data": [
        {
         "alphahull": 1,
         "color": "rgba(255,100,0,0.1)",
         "flatshading": true,
         "lighting": {
          "diffuse": 0.1,
          "roughness": 0.5,
          "specular": 2
         },
         "type": "mesh3d",
         "x": [
          -10,
          -10,
          10,
          10,
          -10,
          -10,
          10,
          10
         ],
         "y": [
          -10,
          -10,
          -10,
          -10,
          10,
          10,
          10,
          10
         ],
         "z": [
          -10,
          10,
          -10,
          10,
          -10,
          10,
          -10,
          10
         ]
        },
        {
         "alphahull": 1,
         "color": "rgba(100,0,100,0.1)",
         "flatshading": true,
         "lighting": {
          "diffuse": 0.1,
          "roughness": 0.5,
          "specular": 2
         },
         "type": "mesh3d",
         "x": [
          -2.5,
          -2.5,
          2.5,
          2.5,
          -2.5,
          -2.5,
          2.5,
          2.5
         ],
         "y": [
          -2.5,
          -2.5,
          -2.5,
          -2.5,
          2.5,
          2.5,
          2.5,
          2.5
         ],
         "z": [
          -2.5,
          2.5,
          -2.5,
          2.5,
          -2.5,
          2.5,
          -2.5,
          2.5
         ]
        },
        {
         "alphahull": 1,
         "color": "rgba(100,0,100,0.7)",
         "flatshading": true,
         "lighting": {
          "diffuse": 0.1,
          "roughness": 0.5,
          "specular": 2
         },
         "type": "mesh3d",
         "x": [
          2.5,
          2.5,
          7.5,
          7.5,
          2.5,
          2.5,
          7.5,
          7.5
         ],
         "y": [
          -2.5,
          -2.5,
          -2.5,
          -2.5,
          2.5,
          2.5,
          2.5,
          2.5
         ],
         "z": [
          -2.5,
          2.5,
          -2.5,
          2.5,
          -2.5,
          2.5,
          -2.5,
          2.5
         ]
        },
        {
         "alphahull": 1,
         "color": "rgba(100,0,100,0.7)",
         "flatshading": true,
         "lighting": {
          "diffuse": 0.1,
          "roughness": 0.5,
          "specular": 2
         },
         "type": "mesh3d",
         "x": [
          -7.5,
          -7.5,
          -2.5,
          -2.5,
          -7.5,
          -7.5,
          -2.5,
          -2.5
         ],
         "y": [
          -2.5,
          -2.5,
          -2.5,
          -2.5,
          2.5,
          2.5,
          2.5,
          2.5
         ],
         "z": [
          -2.5,
          2.5,
          -2.5,
          2.5,
          -2.5,
          2.5,
          -2.5,
          2.5
         ]
        },
        {
         "alphahull": 1,
         "color": "rgba(100,0,100,0.1)",
         "flatshading": true,
         "lighting": {
          "diffuse": 0.1,
          "roughness": 0.5,
          "specular": 2
         },
         "type": "mesh3d",
         "x": [
          -2.5,
          -2.5,
          2.5,
          2.5,
          -2.5,
          -2.5,
          2.5,
          2.5
         ],
         "y": [
          2.5,
          2.5,
          2.5,
          2.5,
          7.5,
          7.5,
          7.5,
          7.5
         ],
         "z": [
          -2.5,
          2.5,
          -2.5,
          2.5,
          -2.5,
          2.5,
          -2.5,
          2.5
         ]
        },
        {
         "alphahull": 1,
         "color": "rgba(100,0,100,0.1)",
         "flatshading": true,
         "lighting": {
          "diffuse": 0.1,
          "roughness": 0.5,
          "specular": 2
         },
         "type": "mesh3d",
         "x": [
          -2.5,
          -2.5,
          2.5,
          2.5,
          -2.5,
          -2.5,
          2.5,
          2.5
         ],
         "y": [
          -7.5,
          -7.5,
          -7.5,
          -7.5,
          -2.5,
          -2.5,
          -2.5,
          -2.5
         ],
         "z": [
          -2.5,
          2.5,
          -2.5,
          2.5,
          -2.5,
          2.5,
          -2.5,
          2.5
         ]
        },
        {
         "alphahull": 1,
         "color": "rgba(100,0,100,0.1)",
         "flatshading": true,
         "lighting": {
          "diffuse": 0.1,
          "roughness": 0.5,
          "specular": 2
         },
         "type": "mesh3d",
         "x": [
          -2.5,
          -2.5,
          2.5,
          2.5,
          -2.5,
          -2.5,
          2.5,
          2.5
         ],
         "y": [
          -2.5,
          -2.5,
          -2.5,
          -2.5,
          2.5,
          2.5,
          2.5,
          2.5
         ],
         "z": [
          2.5,
          7.5,
          2.5,
          7.5,
          2.5,
          7.5,
          2.5,
          7.5
         ]
        },
        {
         "alphahull": 1,
         "color": "rgba(100,0,100,0.1)",
         "flatshading": true,
         "lighting": {
          "diffuse": 0.1,
          "roughness": 0.5,
          "specular": 2
         },
         "type": "mesh3d",
         "x": [
          -2.5,
          -2.5,
          2.5,
          2.5,
          -2.5,
          -2.5,
          2.5,
          2.5
         ],
         "y": [
          -2.5,
          -2.5,
          -2.5,
          -2.5,
          2.5,
          2.5,
          2.5,
          2.5
         ],
         "z": [
          -7.5,
          -2.5,
          -7.5,
          -2.5,
          -7.5,
          -2.5,
          -7.5,
          -2.5
         ]
        }
       ],
       "layout": {
        "autosize": false,
        "height": 800,
        "scene": {
         "aspectmode": "auto",
         "aspectratio": {
          "x": 1.0000000000000002,
          "y": 1.0000000000000002,
          "z": 1.0000000000000002
         },
         "camera": {
          "center": {
           "x": 0,
           "y": 0,
           "z": 0
          },
          "eye": {
           "x": 1.1171027621904726,
           "y": 1.1171027621904723,
           "z": 1.1171027621904726
          },
          "projection": {
           "type": "perspective"
          },
          "up": {
           "x": 0,
           "y": 0,
           "z": 1
          }
         }
        },
        "template": {
         "data": {
          "bar": [
           {
            "error_x": {
             "color": "#2a3f5f"
            },
            "error_y": {
             "color": "#2a3f5f"
            },
            "marker": {
             "line": {
              "color": "#E5ECF6",
              "width": 0.5
             },
             "pattern": {
              "fillmode": "overlay",
              "size": 10,
              "solidity": 0.2
             }
            },
            "type": "bar"
           }
          ],
          "barpolar": [
           {
            "marker": {
             "line": {
              "color": "#E5ECF6",
              "width": 0.5
             },
             "pattern": {
              "fillmode": "overlay",
              "size": 10,
              "solidity": 0.2
             }
            },
            "type": "barpolar"
           }
          ],
          "carpet": [
           {
            "aaxis": {
             "endlinecolor": "#2a3f5f",
             "gridcolor": "white",
             "linecolor": "white",
             "minorgridcolor": "white",
             "startlinecolor": "#2a3f5f"
            },
            "baxis": {
             "endlinecolor": "#2a3f5f",
             "gridcolor": "white",
             "linecolor": "white",
             "minorgridcolor": "white",
             "startlinecolor": "#2a3f5f"
            },
            "type": "carpet"
           }
          ],
          "choropleth": [
           {
            "colorbar": {
             "outlinewidth": 0,
             "ticks": ""
            },
            "type": "choropleth"
           }
          ],
          "contour": [
           {
            "colorbar": {
             "outlinewidth": 0,
             "ticks": ""
            },
            "colorscale": [
             [
              0,
              "#0d0887"
             ],
             [
              0.1111111111111111,
              "#46039f"
             ],
             [
              0.2222222222222222,
              "#7201a8"
             ],
             [
              0.3333333333333333,
              "#9c179e"
             ],
             [
              0.4444444444444444,
              "#bd3786"
             ],
             [
              0.5555555555555556,
              "#d8576b"
             ],
             [
              0.6666666666666666,
              "#ed7953"
             ],
             [
              0.7777777777777778,
              "#fb9f3a"
             ],
             [
              0.8888888888888888,
              "#fdca26"
             ],
             [
              1,
              "#f0f921"
             ]
            ],
            "type": "contour"
           }
          ],
          "contourcarpet": [
           {
            "colorbar": {
             "outlinewidth": 0,
             "ticks": ""
            },
            "type": "contourcarpet"
           }
          ],
          "heatmap": [
           {
            "colorbar": {
             "outlinewidth": 0,
             "ticks": ""
            },
            "colorscale": [
             [
              0,
              "#0d0887"
             ],
             [
              0.1111111111111111,
              "#46039f"
             ],
             [
              0.2222222222222222,
              "#7201a8"
             ],
             [
              0.3333333333333333,
              "#9c179e"
             ],
             [
              0.4444444444444444,
              "#bd3786"
             ],
             [
              0.5555555555555556,
              "#d8576b"
             ],
             [
              0.6666666666666666,
              "#ed7953"
             ],
             [
              0.7777777777777778,
              "#fb9f3a"
             ],
             [
              0.8888888888888888,
              "#fdca26"
             ],
             [
              1,
              "#f0f921"
             ]
            ],
            "type": "heatmap"
           }
          ],
          "heatmapgl": [
           {
            "colorbar": {
             "outlinewidth": 0,
             "ticks": ""
            },
            "colorscale": [
             [
              0,
              "#0d0887"
             ],
             [
              0.1111111111111111,
              "#46039f"
             ],
             [
              0.2222222222222222,
              "#7201a8"
             ],
             [
              0.3333333333333333,
              "#9c179e"
             ],
             [
              0.4444444444444444,
              "#bd3786"
             ],
             [
              0.5555555555555556,
              "#d8576b"
             ],
             [
              0.6666666666666666,
              "#ed7953"
             ],
             [
              0.7777777777777778,
              "#fb9f3a"
             ],
             [
              0.8888888888888888,
              "#fdca26"
             ],
             [
              1,
              "#f0f921"
             ]
            ],
            "type": "heatmapgl"
           }
          ],
          "histogram": [
           {
            "marker": {
             "pattern": {
              "fillmode": "overlay",
              "size": 10,
              "solidity": 0.2
             }
            },
            "type": "histogram"
           }
          ],
          "histogram2d": [
           {
            "colorbar": {
             "outlinewidth": 0,
             "ticks": ""
            },
            "colorscale": [
             [
              0,
              "#0d0887"
             ],
             [
              0.1111111111111111,
              "#46039f"
             ],
             [
              0.2222222222222222,
              "#7201a8"
             ],
             [
              0.3333333333333333,
              "#9c179e"
             ],
             [
              0.4444444444444444,
              "#bd3786"
             ],
             [
              0.5555555555555556,
              "#d8576b"
             ],
             [
              0.6666666666666666,
              "#ed7953"
             ],
             [
              0.7777777777777778,
              "#fb9f3a"
             ],
             [
              0.8888888888888888,
              "#fdca26"
             ],
             [
              1,
              "#f0f921"
             ]
            ],
            "type": "histogram2d"
           }
          ],
          "histogram2dcontour": [
           {
            "colorbar": {
             "outlinewidth": 0,
             "ticks": ""
            },
            "colorscale": [
             [
              0,
              "#0d0887"
             ],
             [
              0.1111111111111111,
              "#46039f"
             ],
             [
              0.2222222222222222,
              "#7201a8"
             ],
             [
              0.3333333333333333,
              "#9c179e"
             ],
             [
              0.4444444444444444,
              "#bd3786"
             ],
             [
              0.5555555555555556,
              "#d8576b"
             ],
             [
              0.6666666666666666,
              "#ed7953"
             ],
             [
              0.7777777777777778,
              "#fb9f3a"
             ],
             [
              0.8888888888888888,
              "#fdca26"
             ],
             [
              1,
              "#f0f921"
             ]
            ],
            "type": "histogram2dcontour"
           }
          ],
          "mesh3d": [
           {
            "colorbar": {
             "outlinewidth": 0,
             "ticks": ""
            },
            "type": "mesh3d"
           }
          ],
          "parcoords": [
           {
            "line": {
             "colorbar": {
              "outlinewidth": 0,
              "ticks": ""
             }
            },
            "type": "parcoords"
           }
          ],
          "pie": [
           {
            "automargin": true,
            "type": "pie"
           }
          ],
          "scatter": [
           {
            "fillpattern": {
             "fillmode": "overlay",
             "size": 10,
             "solidity": 0.2
            },
            "type": "scatter"
           }
          ],
          "scatter3d": [
           {
            "line": {
             "colorbar": {
              "outlinewidth": 0,
              "ticks": ""
             }
            },
            "marker": {
             "colorbar": {
              "outlinewidth": 0,
              "ticks": ""
             }
            },
            "type": "scatter3d"
           }
          ],
          "scattercarpet": [
           {
            "marker": {
             "colorbar": {
              "outlinewidth": 0,
              "ticks": ""
             }
            },
            "type": "scattercarpet"
           }
          ],
          "scattergeo": [
           {
            "marker": {
             "colorbar": {
              "outlinewidth": 0,
              "ticks": ""
             }
            },
            "type": "scattergeo"
           }
          ],
          "scattergl": [
           {
            "marker": {
             "colorbar": {
              "outlinewidth": 0,
              "ticks": ""
             }
            },
            "type": "scattergl"
           }
          ],
          "scattermapbox": [
           {
            "marker": {
             "colorbar": {
              "outlinewidth": 0,
              "ticks": ""
             }
            },
            "type": "scattermapbox"
           }
          ],
          "scatterpolar": [
           {
            "marker": {
             "colorbar": {
              "outlinewidth": 0,
              "ticks": ""
             }
            },
            "type": "scatterpolar"
           }
          ],
          "scatterpolargl": [
           {
            "marker": {
             "colorbar": {
              "outlinewidth": 0,
              "ticks": ""
             }
            },
            "type": "scatterpolargl"
           }
          ],
          "scatterternary": [
           {
            "marker": {
             "colorbar": {
              "outlinewidth": 0,
              "ticks": ""
             }
            },
            "type": "scatterternary"
           }
          ],
          "surface": [
           {
            "colorbar": {
             "outlinewidth": 0,
             "ticks": ""
            },
            "colorscale": [
             [
              0,
              "#0d0887"
             ],
             [
              0.1111111111111111,
              "#46039f"
             ],
             [
              0.2222222222222222,
              "#7201a8"
             ],
             [
              0.3333333333333333,
              "#9c179e"
             ],
             [
              0.4444444444444444,
              "#bd3786"
             ],
             [
              0.5555555555555556,
              "#d8576b"
             ],
             [
              0.6666666666666666,
              "#ed7953"
             ],
             [
              0.7777777777777778,
              "#fb9f3a"
             ],
             [
              0.8888888888888888,
              "#fdca26"
             ],
             [
              1,
              "#f0f921"
             ]
            ],
            "type": "surface"
           }
          ],
          "table": [
           {
            "cells": {
             "fill": {
              "color": "#EBF0F8"
             },
             "line": {
              "color": "white"
             }
            },
            "header": {
             "fill": {
              "color": "#C8D4E3"
             },
             "line": {
              "color": "white"
             }
            },
            "type": "table"
           }
          ]
         },
         "layout": {
          "annotationdefaults": {
           "arrowcolor": "#2a3f5f",
           "arrowhead": 0,
           "arrowwidth": 1
          },
          "autotypenumbers": "strict",
          "coloraxis": {
           "colorbar": {
            "outlinewidth": 0,
            "ticks": ""
           }
          },
          "colorscale": {
           "diverging": [
            [
             0,
             "#8e0152"
            ],
            [
             0.1,
             "#c51b7d"
            ],
            [
             0.2,
             "#de77ae"
            ],
            [
             0.3,
             "#f1b6da"
            ],
            [
             0.4,
             "#fde0ef"
            ],
            [
             0.5,
             "#f7f7f7"
            ],
            [
             0.6,
             "#e6f5d0"
            ],
            [
             0.7,
             "#b8e186"
            ],
            [
             0.8,
             "#7fbc41"
            ],
            [
             0.9,
             "#4d9221"
            ],
            [
             1,
             "#276419"
            ]
           ],
           "sequential": [
            [
             0,
             "#0d0887"
            ],
            [
             0.1111111111111111,
             "#46039f"
            ],
            [
             0.2222222222222222,
             "#7201a8"
            ],
            [
             0.3333333333333333,
             "#9c179e"
            ],
            [
             0.4444444444444444,
             "#bd3786"
            ],
            [
             0.5555555555555556,
             "#d8576b"
            ],
            [
             0.6666666666666666,
             "#ed7953"
            ],
            [
             0.7777777777777778,
             "#fb9f3a"
            ],
            [
             0.8888888888888888,
             "#fdca26"
            ],
            [
             1,
             "#f0f921"
            ]
           ],
           "sequentialminus": [
            [
             0,
             "#0d0887"
            ],
            [
             0.1111111111111111,
             "#46039f"
            ],
            [
             0.2222222222222222,
             "#7201a8"
            ],
            [
             0.3333333333333333,
             "#9c179e"
            ],
            [
             0.4444444444444444,
             "#bd3786"
            ],
            [
             0.5555555555555556,
             "#d8576b"
            ],
            [
             0.6666666666666666,
             "#ed7953"
            ],
            [
             0.7777777777777778,
             "#fb9f3a"
            ],
            [
             0.8888888888888888,
             "#fdca26"
            ],
            [
             1,
             "#f0f921"
            ]
           ]
          },
          "colorway": [
           "#636efa",
           "#EF553B",
           "#00cc96",
           "#ab63fa",
           "#FFA15A",
           "#19d3f3",
           "#FF6692",
           "#B6E880",
           "#FF97FF",
           "#FECB52"
          ],
          "font": {
           "color": "#2a3f5f"
          },
          "geo": {
           "bgcolor": "white",
           "lakecolor": "white",
           "landcolor": "#E5ECF6",
           "showlakes": true,
           "showland": true,
           "subunitcolor": "white"
          },
          "hoverlabel": {
           "align": "left"
          },
          "hovermode": "closest",
          "mapbox": {
           "style": "light"
          },
          "paper_bgcolor": "white",
          "plot_bgcolor": "#E5ECF6",
          "polar": {
           "angularaxis": {
            "gridcolor": "white",
            "linecolor": "white",
            "ticks": ""
           },
           "bgcolor": "#E5ECF6",
           "radialaxis": {
            "gridcolor": "white",
            "linecolor": "white",
            "ticks": ""
           }
          },
          "scene": {
           "xaxis": {
            "backgroundcolor": "#E5ECF6",
            "gridcolor": "white",
            "gridwidth": 2,
            "linecolor": "white",
            "showbackground": true,
            "ticks": "",
            "zerolinecolor": "white"
           },
           "yaxis": {
            "backgroundcolor": "#E5ECF6",
            "gridcolor": "white",
            "gridwidth": 2,
            "linecolor": "white",
            "showbackground": true,
            "ticks": "",
            "zerolinecolor": "white"
           },
           "zaxis": {
            "backgroundcolor": "#E5ECF6",
            "gridcolor": "white",
            "gridwidth": 2,
            "linecolor": "white",
            "showbackground": true,
            "ticks": "",
            "zerolinecolor": "white"
           }
          },
          "shapedefaults": {
           "line": {
            "color": "#2a3f5f"
           }
          },
          "ternary": {
           "aaxis": {
            "gridcolor": "white",
            "linecolor": "white",
            "ticks": ""
           },
           "baxis": {
            "gridcolor": "white",
            "linecolor": "white",
            "ticks": ""
           },
           "bgcolor": "#E5ECF6",
           "caxis": {
            "gridcolor": "white",
            "linecolor": "white",
            "ticks": ""
           }
          },
          "title": {
           "x": 0.05
          },
          "xaxis": {
           "automargin": true,
           "gridcolor": "white",
           "linecolor": "white",
           "ticks": "",
           "title": {
            "standoff": 15
           },
           "zerolinecolor": "white",
           "zerolinewidth": 2
          },
          "yaxis": {
           "automargin": true,
           "gridcolor": "white",
           "linecolor": "white",
           "ticks": "",
           "title": {
            "standoff": 15
           },
           "zerolinecolor": "white",
           "zerolinewidth": 2
          }
         }
        },
        "width": 800
       }
      },
      "image/png": "[encoded data removed]",
      "text/html": [
       "<div>                            <div id=\"9dbe4268-a0ec-400a-9b71-f47144c3b3ca\" class=\"plotly-graph-div\" style=\"height:800px; width:800px;\"></div>            <script type=\"text/javascript\">                require([\"plotly\"], function(Plotly) {                    window.PLOTLYENV=window.PLOTLYENV || {};                                    if (document.getElementById(\"9dbe4268-a0ec-400a-9b71-f47144c3b3ca\")) {                    Plotly.newPlot(                        \"9dbe4268-a0ec-400a-9b71-f47144c3b3ca\",                        [{\"alphahull\":1,\"color\":\"rgba(255,100,0,0.1)\",\"flatshading\":true,\"lighting\":{\"diffuse\":0.1,\"roughness\":0.5,\"specular\":2.0},\"x\":[-10.0,-10.0,10.0,10.0,-10.0,-10.0,10.0,10.0],\"y\":[-10.0,-10.0,-10.0,-10.0,10.0,10.0,10.0,10.0],\"z\":[-10.0,10.0,-10.0,10.0,-10.0,10.0,-10.0,10.0],\"type\":\"mesh3d\"},{\"alphahull\":1,\"color\":\"rgba(100,0,100,0.1)\",\"flatshading\":true,\"lighting\":{\"diffuse\":0.1,\"roughness\":0.5,\"specular\":2.0},\"x\":[-2.5,-2.5,2.5,2.5,-2.5,-2.5,2.5,2.5],\"y\":[-2.5,-2.5,-2.5,-2.5,2.5,2.5,2.5,2.5],\"z\":[-2.5,2.5,-2.5,2.5,-2.5,2.5,-2.5,2.5],\"type\":\"mesh3d\"},{\"alphahull\":1,\"color\":\"rgba(100,0,100,0.7)\",\"flatshading\":true,\"lighting\":{\"diffuse\":0.1,\"roughness\":0.5,\"specular\":2.0},\"x\":[2.5,2.5,7.5,7.5,2.5,2.5,7.5,7.5],\"y\":[-2.5,-2.5,-2.5,-2.5,2.5,2.5,2.5,2.5],\"z\":[-2.5,2.5,-2.5,2.5,-2.5,2.5,-2.5,2.5],\"type\":\"mesh3d\"},{\"alphahull\":1,\"color\":\"rgba(100,0,100,0.7)\",\"flatshading\":true,\"lighting\":{\"diffuse\":0.1,\"roughness\":0.5,\"specular\":2.0},\"x\":[-7.5,-7.5,-2.5,-2.5,-7.5,-7.5,-2.5,-2.5],\"y\":[-2.5,-2.5,-2.5,-2.5,2.5,2.5,2.5,2.5],\"z\":[-2.5,2.5,-2.5,2.5,-2.5,2.5,-2.5,2.5],\"type\":\"mesh3d\"},{\"alphahull\":1,\"color\":\"rgba(100,0,100,0.1)\",\"flatshading\":true,\"lighting\":{\"diffuse\":0.1,\"roughness\":0.5,\"specular\":2.0},\"x\":[-2.5,-2.5,2.5,2.5,-2.5,-2.5,2.5,2.5],\"y\":[2.5,2.5,2.5,2.5,7.5,7.5,7.5,7.5],\"z\":[-2.5,2.5,-2.5,2.5,-2.5,2.5,-2.5,2.5],\"type\":\"mesh3d\"},{\"alphahull\":1,\"color\":\"rgba(100,0,100,0.1)\",\"flatshading\":true,\"lighting\":{\"diffuse\":0.1,\"roughness\":0.5,\"specular\":2.0},\"x\":[-2.5,-2.5,2.5,2.5,-2.5,-2.5,2.5,2.5],\"y\":[-7.5,-7.5,-7.5,-7.5,-2.5,-2.5,-2.5,-2.5],\"z\":[-2.5,2.5,-2.5,2.5,-2.5,2.5,-2.5,2.5],\"type\":\"mesh3d\"},{\"alphahull\":1,\"color\":\"rgba(100,0,100,0.1)\",\"flatshading\":true,\"lighting\":{\"diffuse\":0.1,\"roughness\":0.5,\"specular\":2.0},\"x\":[-2.5,-2.5,2.5,2.5,-2.5,-2.5,2.5,2.5],\"y\":[-2.5,-2.5,-2.5,-2.5,2.5,2.5,2.5,2.5],\"z\":[2.5,7.5,2.5,7.5,2.5,7.5,2.5,7.5],\"type\":\"mesh3d\"},{\"alphahull\":1,\"color\":\"rgba(100,0,100,0.1)\",\"flatshading\":true,\"lighting\":{\"diffuse\":0.1,\"roughness\":0.5,\"specular\":2.0},\"x\":[-2.5,-2.5,2.5,2.5,-2.5,-2.5,2.5,2.5],\"y\":[-2.5,-2.5,-2.5,-2.5,2.5,2.5,2.5,2.5],\"z\":[-7.5,-2.5,-7.5,-2.5,-7.5,-2.5,-7.5,-2.5],\"type\":\"mesh3d\"}],                        {\"template\":{\"data\":{\"histogram2dcontour\":[{\"type\":\"histogram2dcontour\",\"colorbar\":{\"outlinewidth\":0,\"ticks\":\"\"},\"colorscale\":[[0.0,\"#0d0887\"],[0.1111111111111111,\"#46039f\"],[0.2222222222222222,\"#7201a8\"],[0.3333333333333333,\"#9c179e\"],[0.4444444444444444,\"#bd3786\"],[0.5555555555555556,\"#d8576b\"],[0.6666666666666666,\"#ed7953\"],[0.7777777777777778,\"#fb9f3a\"],[0.8888888888888888,\"#fdca26\"],[1.0,\"#f0f921\"]]}],\"choropleth\":[{\"type\":\"choropleth\",\"colorbar\":{\"outlinewidth\":0,\"ticks\":\"\"}}],\"histogram2d\":[{\"type\":\"histogram2d\",\"colorbar\":{\"outlinewidth\":0,\"ticks\":\"\"},\"colorscale\":[[0.0,\"#0d0887\"],[0.1111111111111111,\"#46039f\"],[0.2222222222222222,\"#7201a8\"],[0.3333333333333333,\"#9c179e\"],[0.4444444444444444,\"#bd3786\"],[0.5555555555555556,\"#d8576b\"],[0.6666666666666666,\"#ed7953\"],[0.7777777777777778,\"#fb9f3a\"],[0.8888888888888888,\"#fdca26\"],[1.0,\"#f0f921\"]]}],\"heatmap\":[{\"type\":\"heatmap\",\"colorbar\":{\"outlinewidth\":0,\"ticks\":\"\"},\"colorscale\":[[0.0,\"#0d0887\"],[0.1111111111111111,\"#46039f\"],[0.2222222222222222,\"#7201a8\"],[0.3333333333333333,\"#9c179e\"],[0.4444444444444444,\"#bd3786\"],[0.5555555555555556,\"#d8576b\"],[0.6666666666666666,\"#ed7953\"],[0.7777777777777778,\"#fb9f3a\"],[0.8888888888888888,\"#fdca26\"],[1.0,\"#f0f921\"]]}],\"heatmapgl\":[{\"type\":\"heatmapgl\",\"colorbar\":{\"outlinewidth\":0,\"ticks\":\"\"},\"colorscale\":[[0.0,\"#0d0887\"],[0.1111111111111111,\"#46039f\"],[0.2222222222222222,\"#7201a8\"],[0.3333333333333333,\"#9c179e\"],[0.4444444444444444,\"#bd3786\"],[0.5555555555555556,\"#d8576b\"],[0.6666666666666666,\"#ed7953\"],[0.7777777777777778,\"#fb9f3a\"],[0.8888888888888888,\"#fdca26\"],[1.0,\"#f0f921\"]]}],\"contourcarpet\":[{\"type\":\"contourcarpet\",\"colorbar\":{\"outlinewidth\":0,\"ticks\":\"\"}}],\"contour\":[{\"type\":\"contour\",\"colorbar\":{\"outlinewidth\":0,\"ticks\":\"\"},\"colorscale\":[[0.0,\"#0d0887\"],[0.1111111111111111,\"#46039f\"],[0.2222222222222222,\"#7201a8\"],[0.3333333333333333,\"#9c179e\"],[0.4444444444444444,\"#bd3786\"],[0.5555555555555556,\"#d8576b\"],[0.6666666666666666,\"#ed7953\"],[0.7777777777777778,\"#fb9f3a\"],[0.8888888888888888,\"#fdca26\"],[1.0,\"#f0f921\"]]}],\"surface\":[{\"type\":\"surface\",\"colorbar\":{\"outlinewidth\":0,\"ticks\":\"\"},\"colorscale\":[[0.0,\"#0d0887\"],[0.1111111111111111,\"#46039f\"],[0.2222222222222222,\"#7201a8\"],[0.3333333333333333,\"#9c179e\"],[0.4444444444444444,\"#bd3786\"],[0.5555555555555556,\"#d8576b\"],[0.6666666666666666,\"#ed7953\"],[0.7777777777777778,\"#fb9f3a\"],[0.8888888888888888,\"#fdca26\"],[1.0,\"#f0f921\"]]}],\"mesh3d\":[{\"type\":\"mesh3d\",\"colorbar\":{\"outlinewidth\":0,\"ticks\":\"\"}}],\"scatter\":[{\"fillpattern\":{\"fillmode\":\"overlay\",\"size\":10,\"solidity\":0.2},\"type\":\"scatter\"}],\"parcoords\":[{\"type\":\"parcoords\",\"line\":{\"colorbar\":{\"outlinewidth\":0,\"ticks\":\"\"}}}],\"scatterpolargl\":[{\"type\":\"scatterpolargl\",\"marker\":{\"colorbar\":{\"outlinewidth\":0,\"ticks\":\"\"}}}],\"bar\":[{\"error_x\":{\"color\":\"#2a3f5f\"},\"error_y\":{\"color\":\"#2a3f5f\"},\"marker\":{\"line\":{\"color\":\"#E5ECF6\",\"width\":0.5},\"pattern\":{\"fillmode\":\"overlay\",\"size\":10,\"solidity\":0.2}},\"type\":\"bar\"}],\"scattergeo\":[{\"type\":\"scattergeo\",\"marker\":{\"colorbar\":{\"outlinewidth\":0,\"ticks\":\"\"}}}],\"scatterpolar\":[{\"type\":\"scatterpolar\",\"marker\":{\"colorbar\":{\"outlinewidth\":0,\"ticks\":\"\"}}}],\"histogram\":[{\"marker\":{\"pattern\":{\"fillmode\":\"overlay\",\"size\":10,\"solidity\":0.2}},\"type\":\"histogram\"}],\"scattergl\":[{\"type\":\"scattergl\",\"marker\":{\"colorbar\":{\"outlinewidth\":0,\"ticks\":\"\"}}}],\"scatter3d\":[{\"type\":\"scatter3d\",\"line\":{\"colorbar\":{\"outlinewidth\":0,\"ticks\":\"\"}},\"marker\":{\"colorbar\":{\"outlinewidth\":0,\"ticks\":\"\"}}}],\"scattermapbox\":[{\"type\":\"scattermapbox\",\"marker\":{\"colorbar\":{\"outlinewidth\":0,\"ticks\":\"\"}}}],\"scatterternary\":[{\"type\":\"scatterternary\",\"marker\":{\"colorbar\":{\"outlinewidth\":0,\"ticks\":\"\"}}}],\"scattercarpet\":[{\"type\":\"scattercarpet\",\"marker\":{\"colorbar\":{\"outlinewidth\":0,\"ticks\":\"\"}}}],\"carpet\":[{\"aaxis\":{\"endlinecolor\":\"#2a3f5f\",\"gridcolor\":\"white\",\"linecolor\":\"white\",\"minorgridcolor\":\"white\",\"startlinecolor\":\"#2a3f5f\"},\"baxis\":{\"endlinecolor\":\"#2a3f5f\",\"gridcolor\":\"white\",\"linecolor\":\"white\",\"minorgridcolor\":\"white\",\"startlinecolor\":\"#2a3f5f\"},\"type\":\"carpet\"}],\"table\":[{\"cells\":{\"fill\":{\"color\":\"#EBF0F8\"},\"line\":{\"color\":\"white\"}},\"header\":{\"fill\":{\"color\":\"#C8D4E3\"},\"line\":{\"color\":\"white\"}},\"type\":\"table\"}],\"barpolar\":[{\"marker\":{\"line\":{\"color\":\"#E5ECF6\",\"width\":0.5},\"pattern\":{\"fillmode\":\"overlay\",\"size\":10,\"solidity\":0.2}},\"type\":\"barpolar\"}],\"pie\":[{\"automargin\":true,\"type\":\"pie\"}]},\"layout\":{\"autotypenumbers\":\"strict\",\"colorway\":[\"#636efa\",\"#EF553B\",\"#00cc96\",\"#ab63fa\",\"#FFA15A\",\"#19d3f3\",\"#FF6692\",\"#B6E880\",\"#FF97FF\",\"#FECB52\"],\"font\":{\"color\":\"#2a3f5f\"},\"hovermode\":\"closest\",\"hoverlabel\":{\"align\":\"left\"},\"paper_bgcolor\":\"white\",\"plot_bgcolor\":\"#E5ECF6\",\"polar\":{\"bgcolor\":\"#E5ECF6\",\"angularaxis\":{\"gridcolor\":\"white\",\"linecolor\":\"white\",\"ticks\":\"\"},\"radialaxis\":{\"gridcolor\":\"white\",\"linecolor\":\"white\",\"ticks\":\"\"}},\"ternary\":{\"bgcolor\":\"#E5ECF6\",\"aaxis\":{\"gridcolor\":\"white\",\"linecolor\":\"white\",\"ticks\":\"\"},\"baxis\":{\"gridcolor\":\"white\",\"linecolor\":\"white\",\"ticks\":\"\"},\"caxis\":{\"gridcolor\":\"white\",\"linecolor\":\"white\",\"ticks\":\"\"}},\"coloraxis\":{\"colorbar\":{\"outlinewidth\":0,\"ticks\":\"\"}},\"colorscale\":{\"sequential\":[[0.0,\"#0d0887\"],[0.1111111111111111,\"#46039f\"],[0.2222222222222222,\"#7201a8\"],[0.3333333333333333,\"#9c179e\"],[0.4444444444444444,\"#bd3786\"],[0.5555555555555556,\"#d8576b\"],[0.6666666666666666,\"#ed7953\"],[0.7777777777777778,\"#fb9f3a\"],[0.8888888888888888,\"#fdca26\"],[1.0,\"#f0f921\"]],\"sequentialminus\":[[0.0,\"#0d0887\"],[0.1111111111111111,\"#46039f\"],[0.2222222222222222,\"#7201a8\"],[0.3333333333333333,\"#9c179e\"],[0.4444444444444444,\"#bd3786\"],[0.5555555555555556,\"#d8576b\"],[0.6666666666666666,\"#ed7953\"],[0.7777777777777778,\"#fb9f3a\"],[0.8888888888888888,\"#fdca26\"],[1.0,\"#f0f921\"]],\"diverging\":[[0,\"#8e0152\"],[0.1,\"#c51b7d\"],[0.2,\"#de77ae\"],[0.3,\"#f1b6da\"],[0.4,\"#fde0ef\"],[0.5,\"#f7f7f7\"],[0.6,\"#e6f5d0\"],[0.7,\"#b8e186\"],[0.8,\"#7fbc41\"],[0.9,\"#4d9221\"],[1,\"#276419\"]]},\"xaxis\":{\"gridcolor\":\"white\",\"linecolor\":\"white\",\"ticks\":\"\",\"title\":{\"standoff\":15},\"zerolinecolor\":\"white\",\"automargin\":true,\"zerolinewidth\":2},\"yaxis\":{\"gridcolor\":\"white\",\"linecolor\":\"white\",\"ticks\":\"\",\"title\":{\"standoff\":15},\"zerolinecolor\":\"white\",\"automargin\":true,\"zerolinewidth\":2},\"scene\":{\"xaxis\":{\"backgroundcolor\":\"#E5ECF6\",\"gridcolor\":\"white\",\"linecolor\":\"white\",\"showbackground\":true,\"ticks\":\"\",\"zerolinecolor\":\"white\",\"gridwidth\":2},\"yaxis\":{\"backgroundcolor\":\"#E5ECF6\",\"gridcolor\":\"white\",\"linecolor\":\"white\",\"showbackground\":true,\"ticks\":\"\",\"zerolinecolor\":\"white\",\"gridwidth\":2},\"zaxis\":{\"backgroundcolor\":\"#E5ECF6\",\"gridcolor\":\"white\",\"linecolor\":\"white\",\"showbackground\":true,\"ticks\":\"\",\"zerolinecolor\":\"white\",\"gridwidth\":2}},\"shapedefaults\":{\"line\":{\"color\":\"#2a3f5f\"}},\"annotationdefaults\":{\"arrowcolor\":\"#2a3f5f\",\"arrowhead\":0,\"arrowwidth\":1},\"geo\":{\"bgcolor\":\"white\",\"landcolor\":\"#E5ECF6\",\"subunitcolor\":\"white\",\"showland\":true,\"showlakes\":true,\"lakecolor\":\"white\"},\"title\":{\"x\":0.05},\"mapbox\":{\"style\":\"light\"}}},\"autosize\":false,\"width\":800,\"height\":800},                        {\"responsive\": true}                    ).then(function(){\n",
       "                            \n",
       "var gd = document.getElementById('9dbe4268-a0ec-400a-9b71-f47144c3b3ca');\n",
       "var x = new MutationObserver(function (mutations, observer) {{\n",
       "        var display = window.getComputedStyle(gd).display;\n",
       "        if (!display || display === 'none') {{\n",
       "            console.log([gd, 'removed!']);\n",
       "            Plotly.purge(gd);\n",
       "            observer.disconnect();\n",
       "        }}\n",
       "}});\n",
       "\n",
       "// Listen for the removal of the full notebook cells\n",
       "var notebookContainer = gd.closest('#notebook-container');\n",
       "if (notebookContainer) {{\n",
       "    x.observe(notebookContainer, {childList: true});\n",
       "}}\n",
       "\n",
       "// Listen for the clearing of the current output cell\n",
       "var outputEl = gd.closest('.output');\n",
       "if (outputEl) {{\n",
       "    x.observe(outputEl, {childList: true});\n",
       "}}\n",
       "\n",
       "                        })                };                });            </script>        </div>"
      ]
     },
     "metadata": {},
     "output_type": "display_data"
    }
   ],
   "source": [
    "def cubes(size, pos_x, pos_y, pos_z, color):\n",
    "    # create points\n",
    "    x, y, z = np.meshgrid(\n",
    "        np.linspace(pos_x-size/2, pos_x+size/2, 2), \n",
    "        np.linspace(pos_y-size/2, pos_y+size/2, 2), \n",
    "        np.linspace(pos_z-size/2, pos_z+size/2, 2),\n",
    "    )\n",
    "    x = x.flatten()\n",
    "    y = y.flatten()\n",
    "    z = z.flatten()\n",
    "    print(x,y,z)\n",
    "    return go.Mesh3d(x=x, y=y, z=z, alphahull=1, flatshading=True, color=color, lighting={'diffuse': 0.1, 'specular': 2.0, 'roughness': 0.5})\n",
    "\n",
    "fig = go.Figure()\n",
    "# set edge length of cubes\n",
    "size = 5\n",
    "\n",
    "# add outer cube\n",
    "fig.add_trace(cubes(20,0,0,0, 'rgba(255,100,0,0.1)'))\n",
    "\n",
    "# add inner center cube\n",
    "fig.add_trace(cubes(size,0,0,0, 'rgba(100,0,100,0.1)'))\n",
    "\n",
    "# add inner cubes\n",
    "fig.add_trace(cubes(size,size,0,0, 'rgba(100,0,100,0.7)'))\n",
    "fig.add_trace(cubes(size,-size,0,0, 'rgba(100,0,100,0.7)'))\n",
    "\n",
    "fig.add_trace(cubes(size,0,size,0, 'rgba(100,0,100,0.1)'))\n",
    "fig.add_trace(cubes(size,0,-size,0, 'rgba(100,0,100,0.1)'))\n",
    "\n",
    "fig.add_trace(cubes(size,0,0,size, 'rgba(100,0,100,0.1)'))\n",
    "fig.#add_trace(cubes(size,0,0,-size, 'rgba(100,0,100,0.1)'))\n",
    "\n",
    "\n",
    "fig.update_layout(\n",
    "    autosize=False,\n",
    "    width=800,\n",
    "    height=800,\n",
    ")"
   ]
  },
  {
   "cell_type": "code",
   "execution_count": 23,
   "id": "7ace9c9e-2007-41be-b5f6-b2d4c8ec7136",
   "metadata": {},
   "outputs": [
    {
     "data": {
      "text/plain": [
       "array([5., 5.])"
      ]
     },
     "execution_count": 23,
     "metadata": {},
     "output_type": "execute_result"
    }
   ],
   "source": [
    "np.linspace(size*b[0][0], size*b[1][0], 2)"
   ]
  },
  {
   "cell_type": "code",
   "execution_count": null,
   "id": "ab70cd48-7d10-4a9a-b5fb-291eec3729e8",
   "metadata": {},
   "outputs": [],
   "source": []
  }
 ],
 "metadata": {
  "kernelspec": {
   "display_name": "Python 3 (ipykernel)",
   "language": "python",
   "name": "python3"
  },
  "language_info": {
   "codemirror_mode": {
    "name": "ipython",
    "version": 3
   },
   "file_extension": ".py",
   "mimetype": "text/x-python",
   "name": "python",
   "nbconvert_exporter": "python",
   "pygments_lexer": "ipython3",
   "version": "3.11.6"
  }
 },
 "nbformat": 4,
 "nbformat_minor": 5
}
