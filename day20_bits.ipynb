{
 "cells": [
  {
   "cell_type": "code",
   "execution_count": 1,
   "id": "26442ac9-352d-42e3-89b9-144030802a04",
   "metadata": {},
   "outputs": [
    {
     "name": "stdout",
     "output_type": "stream",
     "text": [
      "[('nv', 'mh'), ('jq', 'jt'), ('jp', 'pz'), ('bx', 'rn')]\n"
     ]
    },
    {
     "data": {
      "text/plain": [
       "233283622908263"
      ]
     },
     "execution_count": 1,
     "metadata": {},
     "output_type": "execute_result"
    }
   ],
   "source": [
    "from copy import deepcopy\n",
    "from aocd import get_data\n",
    "from collections import deque\n",
    "import math\n",
    "\n",
    "r=get_data(day=20, year=2023)\n",
    "r=r.split('\\n')\n",
    "\n",
    "M={}\n",
    "MEM,TYPE,OUTPUTS=0,1,2\n",
    "for line in r:\n",
    "    name,outputs=line.split(' -> ')\n",
    "    if name==\"broadcaster\":\n",
    "        port,name=\"br\",name\n",
    "    else:\n",
    "        port,name=name[0],name[1:]\n",
    "    output=outputs.split(', ')\n",
    "    if port=='%':\n",
    "        m=0\n",
    "    else:\n",
    "        m={}\n",
    "    M[name]=[m,port,output]\n",
    "rx=[]\n",
    "for m in M:\n",
    "    for outp in M[m][OUTPUTS]:\n",
    "        if outp=='rx':\n",
    "            rx.append(m)\n",
    "        if outp in M and M[outp][TYPE]=='&':\n",
    "            M[outp][MEM][m]=0\n",
    "\n",
    "# upstream to rz\n",
    "up1=[m for m in M[rx[0]][MEM]]\n",
    "# upstream to upstream to rz\n",
    "up2=[[q for q in M[m][MEM].keys()][0] for m in up1]\n",
    "first=M['broadcaster'][OUTPUTS]\n",
    "pairs=[]\n",
    "# get pairs of central & blocks with starting point in the counter cycle\n",
    "for u in up2:\n",
    "    for f in first:\n",
    "        if u in M[f][OUTPUTS]:\n",
    "            pairs.append((f,u))\n",
    "print(pairs)\n",
    "cycles=[]\n",
    "for f,u in pairs:\n",
    "    bits=[]\n",
    "    while f!=u:\n",
    "        ff=M[f][OUTPUTS]\n",
    "        fff=deepcopy(ff)\n",
    "        if f in M[u][MEM]:\n",
    "            bits.append('1')\n",
    "            fff.remove(u)\n",
    "        else:\n",
    "            bits.append('0')\n",
    "        if len(fff)==0:\n",
    "            break\n",
    "        f=fff[0]\n",
    "        \n",
    "    b=''.join(bits)\n",
    "    cycles.append(int(b[::-1],2))\n",
    "\n",
    "math.lcm(*cycles)\n",
    "    "
   ]
  },
  {
   "cell_type": "code",
   "execution_count": null,
   "id": "b0768db2-7fd0-4967-9aad-a5ee6782b3d0",
   "metadata": {},
   "outputs": [],
   "source": []
  }
 ],
 "metadata": {
  "kernelspec": {
   "display_name": "Python 3 (ipykernel)",
   "language": "python",
   "name": "python3"
  },
  "language_info": {
   "codemirror_mode": {
    "name": "ipython",
    "version": 3
   },
   "file_extension": ".py",
   "mimetype": "text/x-python",
   "name": "python",
   "nbconvert_exporter": "python",
   "pygments_lexer": "ipython3",
   "version": "3.11.6"
  }
 },
 "nbformat": 4,
 "nbformat_minor": 5
}
