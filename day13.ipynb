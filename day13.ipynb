{
 "cells": [
  {
   "cell_type": "code",
   "execution_count": 25,
   "id": "8d99469e-64e9-4259-8b2b-2403face5284",
   "metadata": {},
   "outputs": [
    {
     "name": "stdout",
     "output_type": "stream",
     "text": [
      "30802\n"
     ]
    }
   ],
   "source": [
    "r=\"\"\"#.##..##.\n",
    "..#.##.#.\n",
    "##......#\n",
    "##......#\n",
    "..#.##.#.\n",
    "..##..##.\n",
    "#.#.##.#.\n",
    "\n",
    "#...##..#\n",
    "#....#..#\n",
    "..##..###\n",
    "#####.##.\n",
    "#####.##.\n",
    "..##..###\n",
    "#....#..#\"\"\"\n",
    "r=open('day13_inp.txt','r').read()\n",
    "patterns=r.split('\\n\\n')\n",
    "ans=0\n",
    "for p in patterns:\n",
    "    p=p.split('\\n') \n",
    "    h=len(p)\n",
    "    w=len(p[0])\n",
    "    G=[[c for c in l] for l in p]\n",
    "    for col in range(w-1):\n",
    "        fout = 0\n",
    "        for dc in range(w):\n",
    "            links = col-dc\n",
    "            rechts = col+1+dc\n",
    "            if 0<=links<rechts<w:\n",
    "                for row in range(h):\n",
    "                    if G[row][links] != G[row][rechts]:\n",
    "                        fout = 1\n",
    "                        break\n",
    "        if fout == 0:\n",
    "            #print(\"col\",col+1)\n",
    "            ans += col+1\n",
    "    for row in range(h-1):\n",
    "        fout = 0\n",
    "        for dr in range(h):\n",
    "            up = row-dr\n",
    "            down = row+1+dr\n",
    "            if 0<=up<down<h:\n",
    "                for col in range(w):\n",
    "                    if G[up][col] != G[down][col]:\n",
    "                        fout = 1\n",
    "                        break\n",
    "        if fout == 0:\n",
    "            ans += 100*(row+1)\n",
    "        #print(\"row\",row+1)\n",
    "print(ans)"
   ]
  },
  {
   "cell_type": "code",
   "execution_count": 26,
   "id": "f21de3f3-af14-431c-8895-82c7150b8e01",
   "metadata": {},
   "outputs": [
    {
     "name": "stdout",
     "output_type": "stream",
     "text": [
      "37876\n"
     ]
    }
   ],
   "source": [
    "r=\"\"\"#.##..##.\n",
    "..#.##.#.\n",
    "##......#\n",
    "##......#\n",
    "..#.##.#.\n",
    "..##..##.\n",
    "#.#.##.#.\n",
    "\n",
    "#...##..#\n",
    "#....#..#\n",
    "..##..###\n",
    "#####.##.\n",
    "#####.##.\n",
    "..##..###\n",
    "#....#..#\"\"\"\n",
    "r=open('day13_inp.txt','r').read()\n",
    "patterns=r.split('\\n\\n')\n",
    "ans=0\n",
    "for p in patterns:\n",
    "    p=p.split('\\n') \n",
    "    h=len(p)\n",
    "    w=len(p[0])\n",
    "    G=[[c for c in l] for l in p]\n",
    "    for col in range(w-1):\n",
    "      fout = 0\n",
    "      for dc in range(w):\n",
    "        links = col-dc\n",
    "        rechts = col+1+dc\n",
    "        if 0<=links<rechts<w:\n",
    "          for row in range(h):\n",
    "            if G[row][links] != G[row][rechts]:\n",
    "              fout += 1\n",
    "      if fout == 1:\n",
    "        #print(\"col\",col+1)\n",
    "        ans += col+1\n",
    "    for row in range(h-1):\n",
    "      fout = 0\n",
    "      for dr in range(h):\n",
    "        up = row-dr\n",
    "        down = row+1+dr\n",
    "        if 0<=up<down<h:\n",
    "          for col in range(w):\n",
    "            if G[up][col] != G[down][col]:\n",
    "              fout += 1\n",
    "      if fout == 1:\n",
    "        ans += 100*(row+1)\n",
    "        #print(\"row\",row+1)\n",
    "print(ans)"
   ]
  },
  {
   "cell_type": "code",
   "execution_count": null,
   "id": "66bf802a-7244-478c-b5aa-75a37ba50f5b",
   "metadata": {},
   "outputs": [],
   "source": []
  }
 ],
 "metadata": {
  "kernelspec": {
   "display_name": "Python 3 (ipykernel)",
   "language": "python",
   "name": "python3"
  },
  "language_info": {
   "codemirror_mode": {
    "name": "ipython",
    "version": 3
   },
   "file_extension": ".py",
   "mimetype": "text/x-python",
   "name": "python",
   "nbconvert_exporter": "python",
   "pygments_lexer": "ipython3",
   "version": "3.11.6"
  }
 },
 "nbformat": 4,
 "nbformat_minor": 5
}
