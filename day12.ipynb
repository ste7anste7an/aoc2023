{
 "cells": [
  {
   "cell_type": "markdown",
   "id": "c7fbf48d-786b-41c3-8bd1-dde5f167428b",
   "metadata": {},
   "source": [
    "Brute force methode, lompe binaire constructie"
   ]
  },
  {
   "cell_type": "code",
   "execution_count": 79,
   "id": "935cc30d-1ce1-4d4c-9598-1ad308ee3b65",
   "metadata": {},
   "outputs": [
    {
     "name": "stdout",
     "output_type": "stream",
     "text": [
      "0 2\n",
      "1 12\n",
      "2 1\n",
      "3 6\n",
      "4 3\n",
      "5 16\n",
      "6 2\n",
      "7 16\n",
      "8 2\n",
      "9 3\n",
      "10 2\n",
      "11 14\n",
      "12 3\n",
      "13 6\n",
      "14 6\n",
      "15 15\n",
      "16 2\n",
      "17 30\n",
      "18 6\n",
      "19 1\n"
     ]
    },
    {
     "data": {
      "text/plain": [
       "7118"
      ]
     },
     "execution_count": 79,
     "metadata": {},
     "output_type": "execute_result"
    }
   ],
   "source": [
    "r=\"\"\"???.### 1,1,3\n",
    ".??..??...?##. 1,1,3\n",
    "?#?#?#?#?#?#?#? 1,3,1,6\n",
    "????.#...#... 4,1,1\n",
    "????.######..#####. 1,6,5\n",
    "?###???????? 3,2,1\"\"\"\n",
    "r=open('day12_inp.txt','r').read()\n",
    "r=r.split('\\n')\n",
    "\n",
    "def vrij(spring,numbers):\n",
    "    l=len(spring)-sum(numbers)-spring.count('.')\n",
    "    return l\n",
    "\n",
    "def count(spring,number):\n",
    "    pos=[]\n",
    "    for i,s in enumerate(spring):\n",
    "       if s=='?':\n",
    "          pos.append(i)\n",
    "    #print(pos)\n",
    "    sp=bytearray(spring.encode('ascii'))\n",
    "    bits=spring.count('?')\n",
    "    cnt=0\n",
    "    for b in range(2**bits):\n",
    "        bb=bin(2**(bits)+b)[3:]\n",
    "        for ib,bbb in enumerate(bb):\n",
    "            sp[pos[ib]]=ord('#') if bbb=='1' else ord('.')\n",
    "        s=sp.decode('ascii')\n",
    "        q=re.split(r'\\.+',s)\n",
    "        pieces=[]\n",
    "        for qq in q:\n",
    "            if qq:\n",
    "                pieces.append(qq)\n",
    "        #print(pieces)\n",
    "        ll=[len(q) for q  in pieces]\n",
    "        if ll==numbers:\n",
    "           #print(s)\n",
    "           cnt+=1\n",
    "    return cnt\n",
    "\n",
    "tot=0\n",
    "for ii,line in enumerate(r):\n",
    "    spring,numbers=line.split()\n",
    "    numbers=[int(i) for i in numbers.split(',')]\n",
    "    cnt=count(spring,numbers)\n",
    "    if ii<20:\n",
    "        print(ii,cnt)\n",
    "    #print(spring,numbers,count(spring,numbers))\n",
    "    tot+=cnt\n",
    "tot"
   ]
  },
  {
   "cell_type": "code",
   "execution_count": null,
   "id": "e067b98a-057e-41e1-8f54-7cae004d48f4",
   "metadata": {},
   "outputs": [],
   "source": []
  },
  {
   "cell_type": "code",
   "execution_count": 87,
   "id": "57bea36d-dda3-41fe-95be-4454b01f3537",
   "metadata": {},
   "outputs": [
    {
     "name": "stdout",
     "output_type": "stream",
     "text": [
      "7030194981795\n"
     ]
    }
   ],
   "source": [
    "r=\"\"\"???.### 1,1,3\n",
    ".??..??...?##. 1,1,3\n",
    "?#?#?#?#?#?#?#? 1,3,1,6\n",
    "????.#...#... 4,1,1\n",
    "????.######..#####. 1,6,5\n",
    "?###???????? 3,2,1\"\"\"\n",
    "r=open('day12_inp.txt','r').read()\n",
    "r=r.split('\\n')\n",
    "\n",
    "from functools import lru_cache \n",
    "\n",
    "# dynamic programming met state (pos,hekjes,groepje) met\n",
    "# pos = current positie in springs\n",
    "# hekjes = aantal hekjes tot nu toe in groep groepje\n",
    "# groepje = het groepje waarin je bezig bent met hekjes zetten, vanaf 0 tellend\n",
    "\n",
    "tot=0\n",
    "for ii,line in enumerate(r):\n",
    "    @lru_cache(maxsize=None)\n",
    "    def df(pos,hekjes,groepje):\n",
    "        global sp,blocks\n",
    "        ans=0\n",
    "        if pos==len(sp):\n",
    "            if groepje==len(blocks):\n",
    "                return 1\n",
    "            else:\n",
    "                return 0\n",
    "        if sp[pos] in \".?\":\n",
    "            if hekjes==0:\n",
    "                ans+=df(pos+1,0,groepje)\n",
    "            else:\n",
    "                if hekjes==blocks[groepje]:\n",
    "                    ans+=df(pos+1,0,groepje+1)\n",
    "        if sp[pos] in \"#?\":\n",
    "            if groepje<len(blocks):\n",
    "                ans+=df(pos+1,hekjes+1,groepje)\n",
    "        return ans\n",
    "\n",
    "    sp,blocks=line.split()\n",
    "    sp='?'.join([sp,sp,sp,sp,sp])\n",
    "    sp+='.'\n",
    "    blocks=[int(i) for i in blocks.split(',')]\n",
    "    blocks*=5\n",
    "    cnt=df(0,0,0)\n",
    "    #print(ii,cnt,sp,blocks)\n",
    "    tot+=cnt\n",
    "print(tot)"
   ]
  }
 ],
 "metadata": {
  "kernelspec": {
   "display_name": "Python 3 (ipykernel)",
   "language": "python",
   "name": "python3"
  },
  "language_info": {
   "codemirror_mode": {
    "name": "ipython",
    "version": 3
   },
   "file_extension": ".py",
   "mimetype": "text/x-python",
   "name": "python",
   "nbconvert_exporter": "python",
   "pygments_lexer": "ipython3",
   "version": "3.11.6"
  }
 },
 "nbformat": 4,
 "nbformat_minor": 5
}
